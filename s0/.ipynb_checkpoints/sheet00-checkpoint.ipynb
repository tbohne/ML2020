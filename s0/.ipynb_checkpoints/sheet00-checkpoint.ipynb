{
 "cells": [
  {
   "cell_type": "markdown",
   "metadata": {
    "deletable": false,
    "editable": false,
    "nbgrader": {
     "cell_type": "markdown",
     "checksum": "eb881b440faff8e8427d5a2861f39e9f",
     "grade": false,
     "grade_id": "h00",
     "locked": true,
     "schema_version": 3,
     "solution": false
    }
   },
   "source": [
    "Osnabrück University - Machine Learning (Summer Term 2020) - Prof. Dr.-Ing. G. Heidemann, Ulf Krumnack, Axel Schaffland"
   ]
  },
  {
   "cell_type": "markdown",
   "metadata": {
    "deletable": false,
    "editable": false,
    "nbgrader": {
     "cell_type": "markdown",
     "checksum": "72e6c38ffd94fdc398bc5635fde16791",
     "grade": false,
     "grade_id": "h01",
     "locked": true,
     "schema_version": 3,
     "solution": false
    }
   },
   "source": [
    "# Exercise Sheet 00: Preparation"
   ]
  },
  {
   "cell_type": "markdown",
   "metadata": {},
   "source": [
    "## Introduction\n",
    "\n",
    "This is the first exercise sheet. It is intended to help making yourself familiar with the tools we will use in the Machine Learning Practices. If you can read this text, you have already managed the first step: Starting the jupyter notebook server and opening a notebook in your browser.\n",
    "\n",
    "The homework sheets will usually be available at the beginning of the week and are supposed to be solved in groups of three. They have to be handed in before Sunday evening. The exercises are then presented to your tutor in a small feedback session. To acquire the admission for the final exam, you will have to pass $N-2$ of the weekly provided exercise sheets.\n",
    "\n",
    "Sign up for a group on Stud.IP (See `Participants` -> `Functions/Groups` of the Machine Learning Practice; Enrollment open from Tuesday, April 28, after the first practice session). The times mentioned there are the times for the feedback session of your group. If none of them fits, send any of the tutors an e-mail so we can try to arrange something.\n",
    "\n",
    "Your group will have a group folder in Stud.IP under `Documents`. Upload your solutions there to hand them in.\n",
    "\n",
    "All exercise sheets will use [Jupyter Notebooks](http://jupyter-notebook.readthedocs.org/en/latest/notebook.html). To be able to run these on your system, you will need to install Python and a few packages. We suggest the newest version of Python 3 and installing the conda environment as explained in the practice session and in the file \"ml-install.txt\" (found on Stud.IP in the \"Documents\" section in the Folder \"Exercises\".\n",
    "\n",
    "This week's sheet should be solved and handed in before the end of **Sunday, April 26, 2020**. \n",
    "\n",
    "You can solve this sheet alone or if you formed already a group in a group. You do not have to upload your solution to Stud.IP.\n",
    "\n",
    "Procedure for all following sheets: Upload your results to your group's Stud.IP folder. \n",
    "\n",
    "In case you cannot do this first sheet (due to technical or organizational problems) please prepare a description of your problem instead. Your tutor will help you to solve the problems in the first feedback session and in the first practice session"
   ]
  },
  {
   "cell_type": "markdown",
   "metadata": {
    "deletable": false,
    "editable": false,
    "nbgrader": {
     "cell_type": "markdown",
     "checksum": "d59ae24d12afc5377e712fe36a432dab",
     "grade": false,
     "grade_id": "cell-4ead63f1f208ce33",
     "locked": true,
     "schema_version": 3,
     "solution": false,
     "task": false
    }
   },
   "source": [
    "## Goal of this Sheet\n",
    "\n",
    "In this sheet you shall familiarize with different machine learning python modules, we will will later use. Moreover, you will learn how to open datasets and how to visualize data."
   ]
  },
  {
   "cell_type": "markdown",
   "metadata": {
    "deletable": false,
    "editable": false,
    "nbgrader": {
     "cell_type": "markdown",
     "checksum": "58ac0b47d910c9c3ec0b72963584dd65",
     "grade": false,
     "grade_id": "ex-setup3",
     "locked": true,
     "schema_version": 3,
     "solution": false
    }
   },
   "source": [
    "## Assignment 0: Check your installation [0 Points]\n",
    "Check that your installation succeeded and all required packages are available by executing the following cell (type <kbd>Ctrl</kbd>+<kbd>&#x23ce;</kbd>, on German keyboards <kbd>Strg</kbd>+<kbd>&#x23ce;</kbd>, or press the \"run cell\"-button at the toolbar above):"
   ]
  },
  {
   "cell_type": "code",
   "execution_count": null,
   "metadata": {},
   "outputs": [],
   "source": [
    "import importlib\n",
    "assert importlib.util.find_spec('numpy') is not None , 'numpy not found'\n",
    "assert importlib.util.find_spec('matplotlib') is not None, 'matplotlib not found'\n",
    "assert importlib.util.find_spec('imageio') is not None , 'imageio not found'\n",
    "assert importlib.util.find_spec('scipy') is not None , 'scipy not found'"
   ]
  },
  {
   "cell_type": "markdown",
   "metadata": {
    "collapsed": true,
    "deletable": false,
    "editable": false,
    "nbgrader": {
     "cell_type": "markdown",
     "checksum": "ed8ffe4e635aca394944f75145fe4780",
     "grade": false,
     "grade_id": "ex-setup-remarks",
     "locked": true,
     "schema_version": 3,
     "solution": false
    }
   },
   "source": [
    "### Remarks:\n",
    "\n",
    "* If you experience any troubles, ask your fellow students or send us an e-mail - we are always happy to help.\n",
    "* If you do not want to use Python to do the exercises, but prefer another programming language, you may ask the tutors if they are willing to support it. However, the practice sessions will focus on Python and will probably not cover other languages."
   ]
  },
  {
   "cell_type": "markdown",
   "metadata": {
    "deletable": false,
    "editable": false,
    "nbgrader": {
     "cell_type": "markdown",
     "checksum": "66520bcc0c2f5f8398577ce2b404697d",
     "grade": false,
     "grade_id": "cell-901f5bb77eb30fc9",
     "locked": true,
     "schema_version": 3,
     "solution": false,
     "task": false
    }
   },
   "source": [
    "## Assignment 1: The Old Faithful Dataset [10 Points]\n",
    "\n",
    "The [Old Faithful Geyser Data](http://www.stat.cmu.edu/%7Elarry/all-of-statistics/=data/faithful.dat) is a classical toy dataset in machine learning. It describes the eruption behaviour of the Old Faithful Geyser\n",
    "in the Yellowstone National Park (for the curious ones: there are several [webcams](https://www.nps.gov/yell/learn/photosmultimedia/webcams.htm#onthisPage-0) filming the geyser, allowing you to extend the dataset ;-)."
   ]
  },
  {
   "cell_type": "markdown",
   "metadata": {
    "deletable": false,
    "editable": false,
    "nbgrader": {
     "cell_type": "markdown",
     "checksum": "083d77b4a0d2615e3eedfff550310a57",
     "grade": false,
     "grade_id": "cell-94207d5dfaa30473",
     "locked": true,
     "schema_version": 3,
     "solution": false,
     "task": false
    }
   },
   "source": [
    "**a)** Open the [Old Faithful Geyser Data](http://www.stat.cmu.edu/%7Elarry/all-of-statistics/=data/faithful.dat) and briefly describe the structure and the content of the file."
   ]
  },
  {
   "cell_type": "markdown",
   "metadata": {
    "deletable": false,
    "nbgrader": {
     "cell_type": "markdown",
     "checksum": "2ebbb8cff03445def1ec7474333c80ef",
     "grade": true,
     "grade_id": "cell-bba8bb61b91c074b",
     "locked": false,
     "points": 2,
     "schema_version": 3,
     "solution": true,
     "task": false
    }
   },
   "source": [
    "YOUR ANSWER HERE"
   ]
  },
  {
   "cell_type": "markdown",
   "metadata": {
    "deletable": false,
    "editable": false,
    "nbgrader": {
     "cell_type": "markdown",
     "checksum": "9b45f0f07af36dbc48e9e6bedb502d93",
     "grade": false,
     "grade_id": "cell-b3e310c4731bd1fa",
     "locked": true,
     "schema_version": 3,
     "solution": false,
     "task": false
    }
   },
   "source": [
    "**b)** The following code cell contains instruction to read the data from that file. Explain in the text cell below how this is achieved and in what format the data are stored."
   ]
  },
  {
   "cell_type": "code",
   "execution_count": null,
   "metadata": {},
   "outputs": [],
   "source": [
    "import urllib.request\n",
    "\n",
    "url = 'http://www.stat.cmu.edu/%7Elarry/all-of-statistics/=data/faithful.dat'\n",
    "\n",
    "X = []\n",
    "Y = []\n",
    "\n",
    "with urllib.request.urlopen(url) as file:\n",
    "    for row in file:\n",
    "        row_list = row.split()\n",
    "        if len(row_list) == 3 and row_list[0].isdigit():\n",
    "            X.append(float(row_list[1]))\n",
    "            Y.append(float(row_list[2]))"
   ]
  },
  {
   "cell_type": "markdown",
   "metadata": {
    "deletable": false,
    "nbgrader": {
     "cell_type": "markdown",
     "checksum": "7289228b2c9eb9ec3265b9e22a60213b",
     "grade": true,
     "grade_id": "cell-9dbf591eccf6684b",
     "locked": false,
     "points": 3,
     "schema_version": 3,
     "solution": true,
     "task": false
    }
   },
   "source": [
    "YOUR ANSWER HERE"
   ]
  },
  {
   "cell_type": "markdown",
   "metadata": {
    "deletable": false,
    "editable": false,
    "nbgrader": {
     "cell_type": "markdown",
     "checksum": "b6e13db0081450c7299677e4099a6c87",
     "grade": false,
     "grade_id": "cell-c4cb47802ae7a961",
     "locked": true,
     "schema_version": 3,
     "solution": false,
     "task": false
    }
   },
   "source": [
    "**c)** [Matplotlib](https://matplotlib.org/) is a library that provides a wide range of data plotting functions. We will use it to visualize the Old Faithful Geyser Data using a [scatter plot](https://matplotlib.org/api/_as_gen/matplotlib.pyplot.scatter.html). Read the manual page and fill in the missing line to create the plot in the cell below:"
   ]
  },
  {
   "cell_type": "code",
   "execution_count": null,
   "metadata": {
    "deletable": false,
    "nbgrader": {
     "cell_type": "code",
     "checksum": "c99adcc557a9b738cabff174d6117279",
     "grade": true,
     "grade_id": "cell-4c7524c5bd42c22f",
     "locked": false,
     "points": 3,
     "schema_version": 3,
     "solution": true,
     "task": false
    }
   },
   "outputs": [],
   "source": [
    "%matplotlib notebook\n",
    "import numpy as np\n",
    "import matplotlib.pyplot as plt\n",
    "plt.figure(figsize=(8,6))\n",
    "# YOUR CODE HERE\n",
    "plt.xlabel('Length of eruption[min]')\n",
    "plt.ylabel('Time until next eruption[min]')\n",
    "plt.axis('tight')\n",
    "plt.show()"
   ]
  },
  {
   "cell_type": "markdown",
   "metadata": {
    "deletable": false,
    "editable": false,
    "nbgrader": {
     "cell_type": "markdown",
     "checksum": "2140899aaaa3fd41988998c005341021",
     "grade": false,
     "grade_id": "cell-f4082fd2776a70cb",
     "locked": true,
     "schema_version": 3,
     "solution": false,
     "task": false
    }
   },
   "source": [
    "**d)** Looking at the plot, what can you observe?"
   ]
  },
  {
   "cell_type": "markdown",
   "metadata": {
    "deletable": false,
    "nbgrader": {
     "cell_type": "markdown",
     "checksum": "fd753ad0e87b4d57eb2a40b1abd6e8eb",
     "grade": true,
     "grade_id": "cell-5370ee9c6fd4faf1",
     "locked": false,
     "points": 2,
     "schema_version": 3,
     "solution": true,
     "task": false
    }
   },
   "source": [
    "YOUR ANSWER HERE"
   ]
  },
  {
   "cell_type": "markdown",
   "metadata": {
    "deletable": false,
    "editable": false,
    "nbgrader": {
     "cell_type": "markdown",
     "checksum": "2981e92f30db3b94d325c27fb97de751",
     "grade": false,
     "grade_id": "cell-e409d0816baec257",
     "locked": true,
     "schema_version": 3,
     "solution": false,
     "task": false
    }
   },
   "source": [
    "## Assignment 2: The Iris Dataset [10 Points]\n",
    "\n",
    "The Iris Dataset is another Machine Learning Toy Dataset. The goal is to *classify* the iris plant into three sub-species or *classes* displayed below: I. setosa, I. versicolor, and I. virginica. For that four *features*, the length and width of both the petal and sepal leaves are provided. More information is found [here](https://archive.ics.uci.edu/ml/datasets/Iris/). This type of problem is a *Classification* task in which a mapping from *features* to *label* or *class* has to be learned usind *training samples*. For new *samples* of unknown class, the class has to be *predicted* from the features.\n",
    "\n",
    "![iris1](iris1.jpg) ![iris2](iris2.jpg) ![iris3](iris3.jpg) "
   ]
  },
  {
   "cell_type": "markdown",
   "metadata": {
    "deletable": false,
    "editable": false,
    "nbgrader": {
     "cell_type": "markdown",
     "checksum": "d9657ad1889f728313442df46af5cca9",
     "grade": false,
     "grade_id": "cell-8fc518bf360d90ab",
     "locked": true,
     "schema_version": 3,
     "solution": false,
     "task": false
    }
   },
   "source": [
    "In this case data is provided in the file `iris.json` in the [json data interchange format](https://en.wikipedia.org/wiki/JSON). "
   ]
  },
  {
   "cell_type": "markdown",
   "metadata": {
    "deletable": false,
    "editable": false,
    "nbgrader": {
     "cell_type": "markdown",
     "checksum": "5df8e943610041c5902d646c3e74aef8",
     "grade": false,
     "grade_id": "cell-ba281bc738a9dc79",
     "locked": true,
     "schema_version": 3,
     "solution": false,
     "task": false
    }
   },
   "source": [
    "**a)** Open the `iris.json` file (from the Stud.IP exercise folder) with a standard text editor and briefly describe the structure and the content of the file."
   ]
  },
  {
   "cell_type": "markdown",
   "metadata": {
    "deletable": false,
    "nbgrader": {
     "cell_type": "markdown",
     "checksum": "921035fd9b7371d16cb47fef00ed5d45",
     "grade": true,
     "grade_id": "cell-1cb3d6ec00a26d08",
     "locked": false,
     "points": 1,
     "schema_version": 3,
     "solution": true,
     "task": false
    }
   },
   "source": [
    "YOUR ANSWER HERE"
   ]
  },
  {
   "cell_type": "markdown",
   "metadata": {},
   "source": [
    "We now load the Python module [json](https://docs.python.org/3/library/json.html) to import the iris data into python and work with it:"
   ]
  },
  {
   "cell_type": "code",
   "execution_count": null,
   "metadata": {
    "deletable": false,
    "editable": false,
    "nbgrader": {
     "cell_type": "code",
     "checksum": "03a10b33b0109131b9029902d1d64273",
     "grade": false,
     "grade_id": "cell-3c732be6faa525cf",
     "locked": true,
     "schema_version": 3,
     "solution": false,
     "task": false
    }
   },
   "outputs": [],
   "source": [
    "import json"
   ]
  },
  {
   "cell_type": "markdown",
   "metadata": {
    "deletable": false,
    "editable": false,
    "nbgrader": {
     "cell_type": "markdown",
     "checksum": "6d9bbb3757df774e10522f6b8c177882",
     "grade": false,
     "grade_id": "cell-d5b9b9c66d686422",
     "locked": true,
     "schema_version": 3,
     "solution": false,
     "task": false
    }
   },
   "source": [
    "We need also the [numpy](https://numpy.org/) module for computing and array manipulation:"
   ]
  },
  {
   "cell_type": "code",
   "execution_count": null,
   "metadata": {
    "deletable": false,
    "editable": false,
    "nbgrader": {
     "cell_type": "code",
     "checksum": "e82d83847fa0e5da78a52f7ede3a4080",
     "grade": false,
     "grade_id": "cell-2ac1ec92c9c9cab7",
     "locked": true,
     "schema_version": 3,
     "solution": false,
     "task": false
    }
   },
   "outputs": [],
   "source": [
    "import numpy as np"
   ]
  },
  {
   "cell_type": "markdown",
   "metadata": {
    "deletable": false,
    "editable": false,
    "nbgrader": {
     "cell_type": "markdown",
     "checksum": "7ec6ea2b3d4095229c1c971bd03a2d63",
     "grade": false,
     "grade_id": "cell-9ee9355585331dfc",
     "locked": true,
     "schema_version": 3,
     "solution": false,
     "task": false
    }
   },
   "source": [
    "We can now load the dataset into python:"
   ]
  },
  {
   "cell_type": "code",
   "execution_count": null,
   "metadata": {
    "deletable": false,
    "editable": false,
    "nbgrader": {
     "cell_type": "code",
     "checksum": "cab7704577778ee0e255ec3c930ce2d2",
     "grade": false,
     "grade_id": "cell-e7cf3b63fdc1dd59",
     "locked": true,
     "schema_version": 3,
     "solution": false,
     "task": false
    }
   },
   "outputs": [],
   "source": [
    "# load file\n",
    "with open('iris.json') as iris_file:\n",
    "    iris = json.load(iris_file)"
   ]
  },
  {
   "cell_type": "markdown",
   "metadata": {
    "deletable": false,
    "editable": false,
    "nbgrader": {
     "cell_type": "markdown",
     "checksum": "f3ee6dce6dab4867d88acfc352dcb6b3",
     "grade": false,
     "grade_id": "cell-ce9880255b9b7df5",
     "locked": true,
     "schema_version": 3,
     "solution": false,
     "task": false
    }
   },
   "source": [
    "And print some basic information of the dataset:"
   ]
  },
  {
   "cell_type": "code",
   "execution_count": null,
   "metadata": {
    "deletable": false,
    "editable": false,
    "nbgrader": {
     "cell_type": "code",
     "checksum": "550ec0e5252137af2d24eaad35b2ba31",
     "grade": false,
     "grade_id": "cell-29a9fccf2e9362b8",
     "locked": true,
     "schema_version": 3,
     "solution": false,
     "task": false
    }
   },
   "outputs": [],
   "source": [
    "print('Datatype:', type(iris))\n",
    "print('Keys:', iris.keys())\n",
    "print('Attributes:', iris.get('attributes'))\n",
    "print('Labels:', iris.get('target_names'))\n",
    "print('Number of samples:', len(iris.get('targets')))"
   ]
  },
  {
   "cell_type": "markdown",
   "metadata": {
    "deletable": false,
    "editable": false,
    "nbgrader": {
     "cell_type": "markdown",
     "checksum": "d32929f0ba74951dd53cd6fd77720581",
     "grade": false,
     "grade_id": "cell-d8303190380d69de",
     "locked": true,
     "schema_version": 3,
     "solution": false,
     "task": false
    }
   },
   "source": [
    "**b)** Explain each of the above printed lines and what they tell you about the dataset"
   ]
  },
  {
   "cell_type": "markdown",
   "metadata": {
    "deletable": false,
    "nbgrader": {
     "cell_type": "markdown",
     "checksum": "f8f15169fb7a35d2a85903b0a7eae7ca",
     "grade": true,
     "grade_id": "cell-eceff7c76450b9d6",
     "locked": false,
     "points": 1,
     "schema_version": 3,
     "solution": true,
     "task": false
    }
   },
   "source": [
    "YOUR ANSWER HERE"
   ]
  },
  {
   "cell_type": "markdown",
   "metadata": {
    "deletable": false,
    "editable": false,
    "nbgrader": {
     "cell_type": "markdown",
     "checksum": "9ac0c6e4eed5f4ab823f9cbee2a8d9c7",
     "grade": false,
     "grade_id": "cell-46ee4675fdc31a70",
     "locked": true,
     "schema_version": 3,
     "solution": false,
     "task": false
    }
   },
   "source": [
    "We can also print information of a single *sample* of the dataset:"
   ]
  },
  {
   "cell_type": "code",
   "execution_count": null,
   "metadata": {
    "deletable": false,
    "nbgrader": {
     "cell_type": "code",
     "checksum": "0020aa36198e09a14770528f0b26e15e",
     "grade": true,
     "grade_id": "cell-436da63761dd1e56",
     "locked": false,
     "points": 2,
     "schema_version": 3,
     "solution": true,
     "task": false
    }
   },
   "outputs": [],
   "source": [
    "# Cast data to correct data type and convert to numpy array\n",
    "X = np.array(iris.get('data')).astype(np.float)\n",
    "Y = np.array(iris.get('targets')).astype(np.int)\n",
    "example_num = 42\n",
    "# YOUR CODE HERE\n",
    "print()\n",
    "print('Example data:', X[example_num])\n",
    "print('Example target:', Y[example_num])"
   ]
  },
  {
   "cell_type": "markdown",
   "metadata": {
    "deletable": false,
    "editable": false,
    "nbgrader": {
     "cell_type": "markdown",
     "checksum": "5ace03c1cdc2f7bcf35212d25d38d1a9",
     "grade": false,
     "grade_id": "cell-983b0fe1e46595d8",
     "locked": true,
     "schema_version": 3,
     "solution": false,
     "task": false
    }
   },
   "source": [
    "**c)** Print another example. Think about the function of the first two lines in the code above and discuss with your tutors."
   ]
  },
  {
   "cell_type": "markdown",
   "metadata": {
    "deletable": false,
    "editable": false,
    "nbgrader": {
     "cell_type": "markdown",
     "checksum": "83e7edd2399d9f5aecc8961746457189",
     "grade": false,
     "grade_id": "cell-8d4f0f01c41b0596",
     "locked": true,
     "schema_version": 3,
     "solution": false,
     "task": false
    }
   },
   "source": [
    "To get more insight into our dataset we could print more samples but visualisation is the better solution. For that we use the [matplotlib](https://matplotlib.org/) module:"
   ]
  },
  {
   "cell_type": "code",
   "execution_count": null,
   "metadata": {
    "deletable": false,
    "nbgrader": {
     "cell_type": "code",
     "checksum": "b8de8d71f392b27e0b05a1766968f2d6",
     "grade": true,
     "grade_id": "cell-d401f4d341343f65",
     "locked": false,
     "points": 2,
     "schema_version": 3,
     "solution": true,
     "task": false
    }
   },
   "outputs": [],
   "source": [
    "# Visualize data partially\n",
    "%matplotlib notebook\n",
    "import matplotlib.pyplot as plt\n",
    "\n",
    "plt.figure(figsize=(8,6))\n",
    "\n",
    "attr_num1 = 2\n",
    "attr_num2 = 3\n",
    "# YOUR CODE HERE\n",
    "\n",
    "x_min, x_max = X[:, attr_num1].min() - .5, X[:, attr_num1].max() + .5\n",
    "y_min, y_max = X[:, attr_num2].min() - .5, X[:, attr_num2].max() + .5\n",
    "\n",
    "plt.scatter(X[:,attr_num1], X[:,attr_num2], c=Y, cmap=plt.cm.Set1, edgecolor='k')\n",
    "plt.xlabel(iris.get('attributes')[attr_num1])\n",
    "plt.ylabel(iris.get('attributes')[attr_num2])\n",
    "plt.show()"
   ]
  },
  {
   "cell_type": "markdown",
   "metadata": {
    "deletable": false,
    "editable": false,
    "nbgrader": {
     "cell_type": "markdown",
     "checksum": "6fb7af28c8e9ab911c4d6da3ff3fdaa1",
     "grade": false,
     "grade_id": "cell-dcd2daf305cb7f07",
     "locked": true,
     "schema_version": 3,
     "solution": false,
     "task": false
    }
   },
   "source": [
    "**d)** Explain what the code above does and what is plotted in the graph. Then use another feature combination."
   ]
  },
  {
   "cell_type": "markdown",
   "metadata": {
    "deletable": false,
    "nbgrader": {
     "cell_type": "markdown",
     "checksum": "65b8783f3757b99189ae51ff94f7c040",
     "grade": true,
     "grade_id": "cell-10f202d42414663b",
     "locked": false,
     "points": 2,
     "schema_version": 3,
     "solution": true,
     "task": false
    }
   },
   "source": [
    "YOUR ANSWER HERE"
   ]
  },
  {
   "cell_type": "markdown",
   "metadata": {
    "deletable": false,
    "editable": false,
    "nbgrader": {
     "cell_type": "markdown",
     "checksum": "c5c526ff79e2e0799d8317f83bab577b",
     "grade": false,
     "grade_id": "cell-dcfdfe46e48579f4",
     "locked": true,
     "schema_version": 3,
     "solution": false,
     "task": false
    }
   },
   "source": [
    "If we want to plot all possible feature combinations, we can use functions of the [seaborn](https://seaborn.pydata.org) modul, which again is based on the [pandas](https://pandas.pydata.org/) module:"
   ]
  },
  {
   "cell_type": "code",
   "execution_count": null,
   "metadata": {},
   "outputs": [],
   "source": [
    "import pandas as pd\n",
    "import seaborn as sns\n",
    "\n",
    "sns.set(style=\"ticks\")\n",
    "# create pandas data frame from features\n",
    "df = pd.DataFrame(iris.get('data'), columns=iris.get('attributes'))\n",
    "# add the classes\n",
    "df['class'] = iris.get('targets')\n",
    "\n",
    "sns.pairplot(df,hue=\"class\", height=2)"
   ]
  },
  {
   "cell_type": "markdown",
   "metadata": {
    "deletable": false,
    "editable": false,
    "nbgrader": {
     "cell_type": "markdown",
     "checksum": "9eddd776701e295748aee931eb36e015",
     "grade": false,
     "grade_id": "cell-16cc676eed3fe0da",
     "locked": true,
     "schema_version": 3,
     "solution": false,
     "task": false
    }
   },
   "source": [
    "**e)** What is displayed in the graphs above?"
   ]
  },
  {
   "cell_type": "markdown",
   "metadata": {
    "deletable": false,
    "nbgrader": {
     "cell_type": "markdown",
     "checksum": "139e01ea8af188f599fac6e1192d40c7",
     "grade": true,
     "grade_id": "cell-e2996fa1944585de",
     "locked": false,
     "points": 2,
     "schema_version": 3,
     "solution": true,
     "task": false
    }
   },
   "source": [
    "YOUR ANSWER HERE"
   ]
  },
  {
   "cell_type": "markdown",
   "metadata": {
    "deletable": false,
    "editable": false,
    "nbgrader": {
     "cell_type": "markdown",
     "checksum": "7f46c1f2da0e88112c8148f51b26e177",
     "grade": false,
     "grade_id": "cell-8cac99248b84482a",
     "locked": true,
     "schema_version": 3,
     "solution": false,
     "task": false
    }
   },
   "source": [
    "**Bonus)** We can also use Principal Component Analysis to visualize the data. For that we use [scikit-learn](https://scikit-learn.org/stable/index.html). Explain what the code below does."
   ]
  },
  {
   "cell_type": "code",
   "execution_count": null,
   "metadata": {
    "deletable": false,
    "editable": false,
    "nbgrader": {
     "cell_type": "code",
     "checksum": "c625985f020d02aa4acd26d4587b691e",
     "grade": false,
     "grade_id": "cell-484e2326741cdd8a",
     "locked": true,
     "schema_version": 3,
     "solution": false,
     "task": false
    }
   },
   "outputs": [],
   "source": [
    "# PCA to visualize data completely\n",
    "from mpl_toolkits.mplot3d import Axes3D\n",
    "from sklearn.decomposition import PCA\n",
    "\n",
    "fig = plt.figure(figsize=(8, 6))\n",
    "ax = Axes3D(fig, elev=-150, azim=110)\n",
    "X_reduced = PCA(n_components=3).fit_transform(X)\n",
    "ax.scatter(X_reduced[:, 0], X_reduced[:, 1], X_reduced[:, 2], c=Y,\n",
    "           cmap=plt.cm.Set1, edgecolor='k', s=40)\n",
    "ax.set_title(\"First three PCA directions\")\n",
    "ax.set_xlabel(\"1st eigenvector\")\n",
    "ax.w_xaxis.set_ticklabels([])\n",
    "ax.set_ylabel(\"2nd eigenvector\")\n",
    "ax.w_yaxis.set_ticklabels([])\n",
    "ax.set_zlabel(\"3rd eigenvector\")\n",
    "ax.w_zaxis.set_ticklabels([])\n",
    "\n",
    "plt.show()"
   ]
  },
  {
   "cell_type": "markdown",
   "metadata": {
    "deletable": false,
    "nbgrader": {
     "cell_type": "markdown",
     "checksum": "d7e29c7ca1eb0b5569dae861c4f5d402",
     "grade": true,
     "grade_id": "cell-85348eda0938ab9b",
     "locked": false,
     "points": 0,
     "schema_version": 3,
     "solution": true,
     "task": false
    }
   },
   "source": [
    "YOUR ANSWER HERE"
   ]
  },
  {
   "cell_type": "markdown",
   "metadata": {
    "deletable": false,
    "editable": false,
    "nbgrader": {
     "cell_type": "markdown",
     "checksum": "895b43ee16983da1e73f2568e4d624f0",
     "grade": false,
     "grade_id": "cell-2ffac9b50e51a50b",
     "locked": true,
     "schema_version": 3,
     "solution": false,
     "task": false
    }
   },
   "source": [
    "## Bottom Line\n",
    "If you want to do more take a look at the [scikit-learn](https://scikit-learn.org/stable/tutorial/index.html) or the [seaborn](https://seaborn.pydata.org/tutorial.html) tutorial. You can try to load and visualize another dataset or have a closer look at [numpy](https://numpy.org/devdocs/user/quickstart.html) and [matplotlib](https://matplotlib.org/3.1.3/tutorials/introductory/pyplot.html#sphx-glr-tutorials-introductory-pyplot-py)."
   ]
  }
 ],
 "metadata": {
  "kernelspec": {
   "display_name": "Python 3",
   "language": "python",
   "name": "python3"
  },
  "language_info": {
   "codemirror_mode": {
    "name": "ipython",
    "version": 3
   },
   "file_extension": ".py",
   "mimetype": "text/x-python",
   "name": "python",
   "nbconvert_exporter": "python",
   "pygments_lexer": "ipython3",
   "version": "3.6.10"
  },
  "toc": {
   "base_numbering": 1,
   "nav_menu": {},
   "number_sections": true,
   "sideBar": true,
   "skip_h1_title": false,
   "title_cell": "Table of Contents",
   "title_sidebar": "Contents",
   "toc_cell": false,
   "toc_position": {},
   "toc_section_display": true,
   "toc_window_display": false
  }
 },
 "nbformat": 4,
 "nbformat_minor": 4
}

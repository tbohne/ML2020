{
 "cells": [
  {
   "cell_type": "markdown",
   "metadata": {
    "deletable": false,
    "editable": false,
    "nbgrader": {
     "cell_type": "markdown",
     "checksum": "eb881b440faff8e8427d5a2861f39e9f",
     "grade": false,
     "grade_id": "h00",
     "locked": true,
     "schema_version": 3,
     "solution": false
    }
   },
   "source": [
    "Osnabrück University - Machine Learning (Summer Term 2020) - Prof. Dr.-Ing. G. Heidemann, Ulf Krumnack, Axel Schaffland"
   ]
  },
  {
   "cell_type": "markdown",
   "metadata": {
    "deletable": false,
    "editable": false,
    "nbgrader": {
     "cell_type": "markdown",
     "checksum": "72e6c38ffd94fdc398bc5635fde16791",
     "grade": false,
     "grade_id": "h01",
     "locked": true,
     "schema_version": 3,
     "solution": false
    }
   },
   "source": [
    "# Exercise Sheet 00: Preparation"
   ]
  },
  {
   "cell_type": "markdown",
   "metadata": {},
   "source": [
    "## Introduction\n",
    "\n",
    "This is the first exercise sheet. It is intended to help making yourself familiar with the tools we will use in the Machine Learning Practices. If you can read this text, you have already managed the first step: Starting the jupyter notebook server and opening a notebook in your browser.\n",
    "\n",
    "The homework sheets will usually be available at the beginning of the week and are supposed to be solved in groups of three. They have to be handed in before Sunday evening. The exercises are then presented to your tutor in a small feedback session. To acquire the admission for the final exam, you will have to pass $N-2$ of the weekly provided exercise sheets.\n",
    "\n",
    "Sign up for a group on Stud.IP (See `Participants` -> `Functions/Groups` of the Machine Learning Practice; Enrollment open from Tuesday, April 28, after the first practice session). The times mentioned there are the times for the feedback session of your group. If none of them fits, send any of the tutors an e-mail so we can try to arrange something.\n",
    "\n",
    "Your group will have a group folder in Stud.IP under `Documents`. Upload your solutions there to hand them in.\n",
    "\n",
    "All exercise sheets will use [Jupyter Notebooks](http://jupyter-notebook.readthedocs.org/en/latest/notebook.html). To be able to run these on your system, you will need to install Python and a few packages. We suggest the newest version of Python 3 and installing the conda environment as explained in the practice session and in the file \"ml-install.txt\" (found on Stud.IP in the \"Documents\" section in the Folder \"Exercises\".\n",
    "\n",
    "You can solve this sheet alone or if you formed already a group in a group. You do not have to upload your solution to Stud.IP.\n",
    "\n",
    "Procedure for all following sheets: Upload your results to your group's Stud.IP folder. \n",
    "\n",
    "In case you cannot do this first sheet (due to technical or organizational problems) please prepare a description of your problem instead. Your tutor will help you to solve the problems in the first feedback session and in the first practice session"
   ]
  },
  {
   "cell_type": "markdown",
   "metadata": {
    "deletable": false,
    "editable": false,
    "nbgrader": {
     "cell_type": "markdown",
     "checksum": "d59ae24d12afc5377e712fe36a432dab",
     "grade": false,
     "grade_id": "cell-4ead63f1f208ce33",
     "locked": true,
     "schema_version": 3,
     "solution": false,
     "task": false
    }
   },
   "source": [
    "## Goal of this Sheet\n",
    "\n",
    "In this sheet you shall familiarize with different machine learning python modules, we will later use. Moreover, you will learn how to open datasets and how to visualize data."
   ]
  },
  {
   "cell_type": "markdown",
   "metadata": {
    "deletable": false,
    "editable": false,
    "nbgrader": {
     "cell_type": "markdown",
     "checksum": "58ac0b47d910c9c3ec0b72963584dd65",
     "grade": false,
     "grade_id": "ex-setup3",
     "locked": true,
     "schema_version": 3,
     "solution": false
    }
   },
   "source": [
    "## Assignment 0: Check your installation [0 Points]\n",
    "Check that your installation succeeded and all required packages are available by executing the following cell (type <kbd>Ctrl</kbd>+<kbd>&#x23ce;</kbd>, on German keyboards <kbd>Strg</kbd>+<kbd>&#x23ce;</kbd>, or press the \"run cell\"-button at the toolbar above):"
   ]
  },
  {
   "cell_type": "code",
   "execution_count": 1,
   "metadata": {},
   "outputs": [],
   "source": [
    "import importlib\n",
    "assert importlib.util.find_spec('numpy') is not None , 'numpy not found'\n",
    "assert importlib.util.find_spec('matplotlib') is not None, 'matplotlib not found'\n",
    "assert importlib.util.find_spec('imageio') is not None , 'imageio not found'\n",
    "assert importlib.util.find_spec('scipy') is not None , 'scipy not found'"
   ]
  },
  {
   "cell_type": "markdown",
   "metadata": {
    "collapsed": true,
    "deletable": false,
    "editable": false,
    "nbgrader": {
     "cell_type": "markdown",
     "checksum": "ed8ffe4e635aca394944f75145fe4780",
     "grade": false,
     "grade_id": "ex-setup-remarks",
     "locked": true,
     "schema_version": 3,
     "solution": false
    }
   },
   "source": [
    "### Remarks:\n",
    "\n",
    "* If you experience any troubles, ask your fellow students or send us an e-mail - we are always happy to help.\n",
    "* If you do not want to use Python to do the exercises, but prefer another programming language, you may ask the tutors if they are willing to support it. However, the practice sessions will focus on Python and will probably not cover other languages."
   ]
  },
  {
   "cell_type": "markdown",
   "metadata": {
    "deletable": false,
    "editable": false,
    "nbgrader": {
     "cell_type": "markdown",
     "checksum": "66520bcc0c2f5f8398577ce2b404697d",
     "grade": false,
     "grade_id": "cell-901f5bb77eb30fc9",
     "locked": true,
     "schema_version": 3,
     "solution": false,
     "task": false
    }
   },
   "source": [
    "## Assignment 1: The Old Faithful Dataset [10 Points]\n",
    "\n",
    "The [Old Faithful Geyser Data](http://www.stat.cmu.edu/%7Elarry/all-of-statistics/=data/faithful.dat) is a classical toy dataset in machine learning. It describes the eruption behaviour of the Old Faithful Geyser\n",
    "in the Yellowstone National Park (for the curious ones: there are several [webcams](https://www.nps.gov/yell/learn/photosmultimedia/webcams.htm#onthisPage-0) filming the geyser, allowing you to extend the dataset ;-)."
   ]
  },
  {
   "cell_type": "markdown",
   "metadata": {
    "deletable": false,
    "editable": false,
    "nbgrader": {
     "cell_type": "markdown",
     "checksum": "083d77b4a0d2615e3eedfff550310a57",
     "grade": false,
     "grade_id": "cell-94207d5dfaa30473",
     "locked": true,
     "schema_version": 3,
     "solution": false,
     "task": false
    }
   },
   "source": [
    "**a)** Open the [Old Faithful Geyser Data](http://www.stat.cmu.edu/%7Elarry/all-of-statistics/=data/faithful.dat) and briefly describe the structure and the content of the file."
   ]
  },
  {
   "cell_type": "markdown",
   "metadata": {
    "deletable": false,
    "nbgrader": {
     "cell_type": "markdown",
     "checksum": "2ebbb8cff03445def1ec7474333c80ef",
     "grade": true,
     "grade_id": "cell-bba8bb61b91c074b",
     "locked": false,
     "points": 2,
     "schema_version": 3,
     "solution": true,
     "task": false
    }
   },
   "source": [
    "The file contains data for 272 observations, each data point consists of:\n",
    "- index\n",
    "- eruption time (mins)\n",
    "- waiting time (mins)"
   ]
  },
  {
   "cell_type": "markdown",
   "metadata": {
    "deletable": false,
    "editable": false,
    "nbgrader": {
     "cell_type": "markdown",
     "checksum": "9b45f0f07af36dbc48e9e6bedb502d93",
     "grade": false,
     "grade_id": "cell-b3e310c4731bd1fa",
     "locked": true,
     "schema_version": 3,
     "solution": false,
     "task": false
    }
   },
   "source": [
    "**b)** The following code cell contains instruction to read the data from that file. Explain in the text cell below how this is achieved and in what format the data are stored."
   ]
  },
  {
   "cell_type": "code",
   "execution_count": 2,
   "metadata": {},
   "outputs": [],
   "source": [
    "import urllib.request\n",
    "\n",
    "url = 'http://www.stat.cmu.edu/%7Elarry/all-of-statistics/=data/faithful.dat'\n",
    "\n",
    "X = []\n",
    "Y = []\n",
    "\n",
    "with urllib.request.urlopen(url) as file:\n",
    "    for row in file:\n",
    "        row_list = row.split()\n",
    "        if len(row_list) == 3 and row_list[0].isdigit():\n",
    "            X.append(float(row_list[1]))\n",
    "            Y.append(float(row_list[2]))"
   ]
  },
  {
   "cell_type": "markdown",
   "metadata": {
    "deletable": false,
    "nbgrader": {
     "cell_type": "markdown",
     "checksum": "7289228b2c9eb9ec3265b9e22a60213b",
     "grade": true,
     "grade_id": "cell-9dbf591eccf6684b",
     "locked": false,
     "points": 3,
     "schema_version": 3,
     "solution": true,
     "task": false
    }
   },
   "source": [
    "We iterate through the file row by row and for each row containing data points (length 3), we store the eruption times in the list X and the waiting times in the list Y."
   ]
  },
  {
   "cell_type": "markdown",
   "metadata": {
    "deletable": false,
    "editable": false,
    "nbgrader": {
     "cell_type": "markdown",
     "checksum": "b6e13db0081450c7299677e4099a6c87",
     "grade": false,
     "grade_id": "cell-c4cb47802ae7a961",
     "locked": true,
     "schema_version": 3,
     "solution": false,
     "task": false
    }
   },
   "source": [
    "**c)** [Matplotlib](https://matplotlib.org/) is a library that provides a wide range of data plotting functions. We will use it to visualize the Old Faithful Geyser Data using a [scatter plot](https://matplotlib.org/api/_as_gen/matplotlib.pyplot.scatter.html). Read the manual page and fill in the missing line to create the plot in the cell below:"
   ]
  },
  {
   "cell_type": "code",
   "execution_count": 3,
   "metadata": {
    "deletable": false,
    "nbgrader": {
     "cell_type": "code",
     "checksum": "c99adcc557a9b738cabff174d6117279",
     "grade": true,
     "grade_id": "cell-4c7524c5bd42c22f",
     "locked": false,
     "points": 3,
     "schema_version": 3,
     "solution": true,
     "task": false
    }
   },
   "outputs": [
    {
     "output_type": "display_data",
     "data": {
      "text/plain": "<Figure size 576x432 with 1 Axes>",
      "image/svg+xml": "<?xml version=\"1.0\" encoding=\"utf-8\" standalone=\"no\"?>\n<!DOCTYPE svg PUBLIC \"-//W3C//DTD SVG 1.1//EN\"\n  \"http://www.w3.org/Graphics/SVG/1.1/DTD/svg11.dtd\">\n<!-- Created with matplotlib (https://matplotlib.org/) -->\n<svg height=\"370.91625pt\" version=\"1.1\" viewBox=\"0 0 494.203125 370.91625\" width=\"494.203125pt\" xmlns=\"http://www.w3.org/2000/svg\" xmlns:xlink=\"http://www.w3.org/1999/xlink\">\n <defs>\n  <style type=\"text/css\">\n*{stroke-linecap:butt;stroke-linejoin:round;}\n  </style>\n </defs>\n <g id=\"figure_1\">\n  <g id=\"patch_1\">\n   <path d=\"M 0 370.91625 \nL 494.203125 370.91625 \nL 494.203125 0 \nL 0 0 \nz\n\" style=\"fill:none;\"/>\n  </g>\n  <g id=\"axes_1\">\n   <g id=\"patch_2\">\n    <path d=\"M 40.603125 333.36 \nL 487.003125 333.36 \nL 487.003125 7.2 \nL 40.603125 7.2 \nz\n\" style=\"fill:#ffffff;\"/>\n   </g>\n   <g id=\"PathCollection_1\">\n    <defs>\n     <path d=\"M 0 3 \nC 0.795609 3 1.55874 2.683901 2.12132 2.12132 \nC 2.683901 1.55874 3 0.795609 3 0 \nC 3 -0.795609 2.683901 -1.55874 2.12132 -2.12132 \nC 1.55874 -2.683901 0.795609 -3 0 -3 \nC -0.795609 -3 -1.55874 -2.683901 -2.12132 -2.12132 \nC -2.683901 -1.55874 -3 -0.795609 -3 0 \nC -3 0.795609 -2.683901 1.55874 -2.12132 2.12132 \nC -1.55874 2.683901 -0.795609 3 0 3 \nz\n\" id=\"m70deb70556\" style=\"stroke:#1f77b4;\"/>\n    </defs>\n    <g clip-path=\"url(#ped1406c267)\">\n     <use style=\"fill:#1f77b4;stroke:#1f77b4;\" x=\"292.790138\" xlink:href=\"#m70deb70556\" y=\"117.132144\"/>\n     <use style=\"fill:#1f77b4;stroke:#1f77b4;\" x=\"84.083644\" xlink:href=\"#m70deb70556\" y=\"256.994923\"/>\n     <use style=\"fill:#1f77b4;stroke:#1f77b4;\" x=\"261.832008\" xlink:href=\"#m70deb70556\" y=\"145.1047\"/>\n     <use style=\"fill:#1f77b4;stroke:#1f77b4;\" x=\"140.086554\" xlink:href=\"#m70deb70556\" y=\"212.238834\"/>\n     <use style=\"fill:#1f77b4;stroke:#1f77b4;\" x=\"400.96967\" xlink:href=\"#m70deb70556\" y=\"83.565077\"/>\n     <use style=\"fill:#1f77b4;stroke:#1f77b4;\" x=\"209.655385\" xlink:href=\"#m70deb70556\" y=\"251.400412\"/>\n     <use style=\"fill:#1f77b4;stroke:#1f77b4;\" x=\"420.332995\" xlink:href=\"#m70deb70556\" y=\"66.781544\"/>\n     <use style=\"fill:#1f77b4;stroke:#1f77b4;\" x=\"292.790138\" xlink:href=\"#m70deb70556\" y=\"83.565077\"/>\n     <use style=\"fill:#1f77b4;stroke:#1f77b4;\" x=\"101.475852\" xlink:href=\"#m70deb70556\" y=\"273.778456\"/>\n     <use style=\"fill:#1f77b4;stroke:#1f77b4;\" x=\"379.751177\" xlink:href=\"#m70deb70556\" y=\"83.565077\"/>\n     <use style=\"fill:#1f77b4;stroke:#1f77b4;\" x=\"87.90993\" xlink:href=\"#m70deb70556\" y=\"256.994923\"/>\n     <use style=\"fill:#1f77b4;stroke:#1f77b4;\" x=\"329.54567\" xlink:href=\"#m70deb70556\" y=\"89.159588\"/>\n     <use style=\"fill:#1f77b4;stroke:#1f77b4;\" x=\"362.358969\" xlink:href=\"#m70deb70556\" y=\"122.726655\"/>\n     <use style=\"fill:#1f77b4;stroke:#1f77b4;\" x=\"78.286242\" xlink:href=\"#m70deb70556\" y=\"296.156501\"/>\n     <use style=\"fill:#1f77b4;stroke:#1f77b4;\" x=\"420.332995\" xlink:href=\"#m70deb70556\" y=\"94.754099\"/>\n     <use style=\"fill:#1f77b4;stroke:#1f77b4;\" x=\"126.63658\" xlink:href=\"#m70deb70556\" y=\"268.183945\"/>\n     <use style=\"fill:#1f77b4;stroke:#1f77b4;\" x=\"78.286242\" xlink:href=\"#m70deb70556\" y=\"212.238834\"/>\n     <use style=\"fill:#1f77b4;stroke:#1f77b4;\" x=\"431.9278\" xlink:href=\"#m70deb70556\" y=\"89.159588\"/>\n     <use style=\"fill:#1f77b4;stroke:#1f77b4;\" x=\"60.894034\" xlink:href=\"#m70deb70556\" y=\"268.183945\"/>\n     <use style=\"fill:#1f77b4;stroke:#1f77b4;\" x=\"368.156372\" xlink:href=\"#m70deb70556\" y=\"117.132144\"/>\n     <use style=\"fill:#1f77b4;stroke:#1f77b4;\" x=\"84.083644\" xlink:href=\"#m70deb70556\" y=\"273.778456\"/>\n     <use style=\"fill:#1f77b4;stroke:#1f77b4;\" x=\"78.286242\" xlink:href=\"#m70deb70556\" y=\"296.156501\"/>\n     <use style=\"fill:#1f77b4;stroke:#1f77b4;\" x=\"275.39793\" xlink:href=\"#m70deb70556\" y=\"122.726655\"/>\n     <use style=\"fill:#1f77b4;stroke:#1f77b4;\" x=\"230.989826\" xlink:href=\"#m70deb70556\" y=\"173.077256\"/>\n     <use style=\"fill:#1f77b4;stroke:#1f77b4;\" x=\"400.96967\" xlink:href=\"#m70deb70556\" y=\"145.1047\"/>\n     <use style=\"fill:#1f77b4;stroke:#1f77b4;\" x=\"292.790138\" xlink:href=\"#m70deb70556\" y=\"94.754099\"/>\n     <use style=\"fill:#1f77b4;stroke:#1f77b4;\" x=\"103.446969\" xlink:href=\"#m70deb70556\" y=\"251.400412\"/>\n     <use style=\"fill:#1f77b4;stroke:#1f77b4;\" x=\"348.793047\" xlink:href=\"#m70deb70556\" y=\"133.915678\"/>\n     <use style=\"fill:#1f77b4;stroke:#1f77b4;\" x=\"321.777151\" xlink:href=\"#m70deb70556\" y=\"122.726655\"/>\n     <use style=\"fill:#1f77b4;stroke:#1f77b4;\" x=\"389.374865\" xlink:href=\"#m70deb70556\" y=\"117.132144\"/>\n     <use style=\"fill:#1f77b4;stroke:#1f77b4;\" x=\"373.953774\" xlink:href=\"#m70deb70556\" y=\"150.699211\"/>\n     <use style=\"fill:#1f77b4;stroke:#1f77b4;\" x=\"393.317099\" xlink:href=\"#m70deb70556\" y=\"128.321166\"/>\n     <use style=\"fill:#1f77b4;stroke:#1f77b4;\" x=\"265.774242\" xlink:href=\"#m70deb70556\" y=\"189.860789\"/>\n     <use style=\"fill:#1f77b4;stroke:#1f77b4;\" x=\"342.995644\" xlink:href=\"#m70deb70556\" y=\"111.537633\"/>\n     <use style=\"fill:#1f77b4;stroke:#1f77b4;\" x=\"319.806034\" xlink:href=\"#m70deb70556\" y=\"145.1047\"/>\n     <use style=\"fill:#1f77b4;stroke:#1f77b4;\" x=\"109.244372\" xlink:href=\"#m70deb70556\" y=\"268.183945\"/>\n     <use style=\"fill:#1f77b4;stroke:#1f77b4;\" x=\"91.852164\" xlink:href=\"#m70deb70556\" y=\"290.56199\"/>\n     <use style=\"fill:#1f77b4;stroke:#1f77b4;\" x=\"435.754086\" xlink:href=\"#m70deb70556\" y=\"111.537633\"/>\n     <use style=\"fill:#1f77b4;stroke:#1f77b4;\" x=\"87.90993\" xlink:href=\"#m70deb70556\" y=\"229.022367\"/>\n     <use style=\"fill:#1f77b4;stroke:#1f77b4;\" x=\"429.956683\" xlink:href=\"#m70deb70556\" y=\"55.592521\"/>\n     <use style=\"fill:#1f77b4;stroke:#1f77b4;\" x=\"379.751177\" xlink:href=\"#m70deb70556\" y=\"111.537633\"/>\n     <use style=\"fill:#1f77b4;stroke:#1f77b4;\" x=\"93.707333\" xlink:href=\"#m70deb70556\" y=\"234.616878\"/>\n     <use style=\"fill:#1f77b4;stroke:#1f77b4;\" x=\"404.911904\" xlink:href=\"#m70deb70556\" y=\"89.159588\"/>\n     <use style=\"fill:#1f77b4;stroke:#1f77b4;\" x=\"78.286242\" xlink:href=\"#m70deb70556\" y=\"234.616878\"/>\n     <use style=\"fill:#1f77b4;stroke:#1f77b4;\" x=\"400.96967\" xlink:href=\"#m70deb70556\" y=\"150.699211\"/>\n     <use style=\"fill:#1f77b4;stroke:#1f77b4;\" x=\"259.976839\" xlink:href=\"#m70deb70556\" y=\"94.754099\"/>\n     <use style=\"fill:#1f77b4;stroke:#1f77b4;\" x=\"319.806034\" xlink:href=\"#m70deb70556\" y=\"201.049811\"/>\n     <use style=\"fill:#1f77b4;stroke:#1f77b4;\" x=\"118.86806\" xlink:href=\"#m70deb70556\" y=\"262.589434\"/>\n     <use style=\"fill:#1f77b4;stroke:#1f77b4;\" x=\"412.564476\" xlink:href=\"#m70deb70556\" y=\"100.348611\"/>\n     <use style=\"fill:#1f77b4;stroke:#1f77b4;\" x=\"107.273255\" xlink:href=\"#m70deb70556\" y=\"229.022367\"/>\n     <use style=\"fill:#1f77b4;stroke:#1f77b4;\" x=\"431.9278\" xlink:href=\"#m70deb70556\" y=\"139.510189\"/>\n     <use style=\"fill:#1f77b4;stroke:#1f77b4;\" x=\"422.188164\" xlink:href=\"#m70deb70556\" y=\"55.592521\"/>\n     <use style=\"fill:#1f77b4;stroke:#1f77b4;\" x=\"87.90993\" xlink:href=\"#m70deb70556\" y=\"256.994923\"/>\n     <use style=\"fill:#1f77b4;stroke:#1f77b4;\" x=\"435.754086\" xlink:href=\"#m70deb70556\" y=\"111.537633\"/>\n     <use style=\"fill:#1f77b4;stroke:#1f77b4;\" x=\"76.315125\" xlink:href=\"#m70deb70556\" y=\"256.994923\"/>\n     <use style=\"fill:#1f77b4;stroke:#1f77b4;\" x=\"441.551489\" xlink:href=\"#m70deb70556\" y=\"94.754099\"/>\n     <use style=\"fill:#1f77b4;stroke:#1f77b4;\" x=\"306.35606\" xlink:href=\"#m70deb70556\" y=\"161.888233\"/>\n     <use style=\"fill:#1f77b4;stroke:#1f77b4;\" x=\"68.662554\" xlink:href=\"#m70deb70556\" y=\"201.049811\"/>\n     <use style=\"fill:#1f77b4;stroke:#1f77b4;\" x=\"404.911904\" xlink:href=\"#m70deb70556\" y=\"128.321166\"/>\n     <use style=\"fill:#1f77b4;stroke:#1f77b4;\" x=\"375.924891\" xlink:href=\"#m70deb70556\" y=\"105.943122\"/>\n     <use style=\"fill:#1f77b4;stroke:#1f77b4;\" x=\"134.289151\" xlink:href=\"#m70deb70556\" y=\"229.022367\"/>\n     <use style=\"fill:#1f77b4;stroke:#1f77b4;\" x=\"397.143385\" xlink:href=\"#m70deb70556\" y=\"89.159588\"/>\n     <use style=\"fill:#1f77b4;stroke:#1f77b4;\" x=\"78.286242\" xlink:href=\"#m70deb70556\" y=\"290.56199\"/>\n     <use style=\"fill:#1f77b4;stroke:#1f77b4;\" x=\"431.9278\" xlink:href=\"#m70deb70556\" y=\"100.348611\"/>\n     <use style=\"fill:#1f77b4;stroke:#1f77b4;\" x=\"86.054761\" xlink:href=\"#m70deb70556\" y=\"223.427856\"/>\n     <use style=\"fill:#1f77b4;stroke:#1f77b4;\" x=\"385.54858\" xlink:href=\"#m70deb70556\" y=\"44.403499\"/>\n     <use style=\"fill:#1f77b4;stroke:#1f77b4;\" x=\"358.532683\" xlink:href=\"#m70deb70556\" y=\"122.726655\"/>\n     <use style=\"fill:#1f77b4;stroke:#1f77b4;\" x=\"420.332995\" xlink:href=\"#m70deb70556\" y=\"122.726655\"/>\n     <use style=\"fill:#1f77b4;stroke:#1f77b4;\" x=\"115.041774\" xlink:href=\"#m70deb70556\" y=\"195.4553\"/>\n     <use style=\"fill:#1f77b4;stroke:#1f77b4;\" x=\"420.332995\" xlink:href=\"#m70deb70556\" y=\"150.699211\"/>\n     <use style=\"fill:#1f77b4;stroke:#1f77b4;\" x=\"342.995644\" xlink:href=\"#m70deb70556\" y=\"100.348611\"/>\n     <use style=\"fill:#1f77b4;stroke:#1f77b4;\" x=\"103.446969\" xlink:href=\"#m70deb70556\" y=\"245.805901\"/>\n     <use style=\"fill:#1f77b4;stroke:#1f77b4;\" x=\"397.143385\" xlink:href=\"#m70deb70556\" y=\"117.132144\"/>\n     <use style=\"fill:#1f77b4;stroke:#1f77b4;\" x=\"339.169359\" xlink:href=\"#m70deb70556\" y=\"161.888233\"/>\n     <use style=\"fill:#1f77b4;stroke:#1f77b4;\" x=\"105.302138\" xlink:href=\"#m70deb70556\" y=\"212.238834\"/>\n     <use style=\"fill:#1f77b4;stroke:#1f77b4;\" x=\"462.88593\" xlink:href=\"#m70deb70556\" y=\"133.915678\"/>\n     <use style=\"fill:#1f77b4;stroke:#1f77b4;\" x=\"109.244372\" xlink:href=\"#m70deb70556\" y=\"223.427856\"/>\n     <use style=\"fill:#1f77b4;stroke:#1f77b4;\" x=\"404.911904\" xlink:href=\"#m70deb70556\" y=\"122.726655\"/>\n     <use style=\"fill:#1f77b4;stroke:#1f77b4;\" x=\"325.603437\" xlink:href=\"#m70deb70556\" y=\"133.915678\"/>\n     <use style=\"fill:#1f77b4;stroke:#1f77b4;\" x=\"292.790138\" xlink:href=\"#m70deb70556\" y=\"94.754099\"/>\n     <use style=\"fill:#1f77b4;stroke:#1f77b4;\" x=\"354.59045\" xlink:href=\"#m70deb70556\" y=\"139.510189\"/>\n     <use style=\"fill:#1f77b4;stroke:#1f77b4;\" x=\"377.78006\" xlink:href=\"#m70deb70556\" y=\"100.348611\"/>\n     <use style=\"fill:#1f77b4;stroke:#1f77b4;\" x=\"350.764164\" xlink:href=\"#m70deb70556\" y=\"167.482744\"/>\n     <use style=\"fill:#1f77b4;stroke:#1f77b4;\" x=\"180.668372\" xlink:href=\"#m70deb70556\" y=\"195.4553\"/>\n     <use style=\"fill:#1f77b4;stroke:#1f77b4;\" x=\"346.937878\" xlink:href=\"#m70deb70556\" y=\"150.699211\"/>\n     <use style=\"fill:#1f77b4;stroke:#1f77b4;\" x=\"447.348891\" xlink:href=\"#m70deb70556\" y=\"66.781544\"/>\n     <use style=\"fill:#1f77b4;stroke:#1f77b4;\" x=\"333.371956\" xlink:href=\"#m70deb70556\" y=\"133.915678\"/>\n     <use style=\"fill:#1f77b4;stroke:#1f77b4;\" x=\"399.114502\" xlink:href=\"#m70deb70556\" y=\"111.537633\"/>\n     <use style=\"fill:#1f77b4;stroke:#1f77b4;\" x=\"126.63658\" xlink:href=\"#m70deb70556\" y=\"290.56199\"/>\n     <use style=\"fill:#1f77b4;stroke:#1f77b4;\" x=\"339.169359\" xlink:href=\"#m70deb70556\" y=\"77.970566\"/>\n     <use style=\"fill:#1f77b4;stroke:#1f77b4;\" x=\"130.462865\" xlink:href=\"#m70deb70556\" y=\"223.427856\"/>\n     <use style=\"fill:#1f77b4;stroke:#1f77b4;\" x=\"377.78006\" xlink:href=\"#m70deb70556\" y=\"55.592521\"/>\n     <use style=\"fill:#1f77b4;stroke:#1f77b4;\" x=\"91.852164\" xlink:href=\"#m70deb70556\" y=\"279.372967\"/>\n     <use style=\"fill:#1f77b4;stroke:#1f77b4;\" x=\"433.898917\" xlink:href=\"#m70deb70556\" y=\"122.726655\"/>\n     <use style=\"fill:#1f77b4;stroke:#1f77b4;\" x=\"87.90993\" xlink:href=\"#m70deb70556\" y=\"206.644322\"/>\n     <use style=\"fill:#1f77b4;stroke:#1f77b4;\" x=\"373.953774\" xlink:href=\"#m70deb70556\" y=\"156.293722\"/>\n     <use style=\"fill:#1f77b4;stroke:#1f77b4;\" x=\"416.506709\" xlink:href=\"#m70deb70556\" y=\"89.159588\"/>\n     <use style=\"fill:#1f77b4;stroke:#1f77b4;\" x=\"310.182346\" xlink:href=\"#m70deb70556\" y=\"139.510189\"/>\n     <use style=\"fill:#1f77b4;stroke:#1f77b4;\" x=\"91.852164\" xlink:href=\"#m70deb70556\" y=\"273.778456\"/>\n     <use style=\"fill:#1f77b4;stroke:#1f77b4;\" x=\"443.522606\" xlink:href=\"#m70deb70556\" y=\"100.348611\"/>\n     <use style=\"fill:#1f77b4;stroke:#1f77b4;\" x=\"163.276164\" xlink:href=\"#m70deb70556\" y=\"212.238834\"/>\n     <use style=\"fill:#1f77b4;stroke:#1f77b4;\" x=\"381.722294\" xlink:href=\"#m70deb70556\" y=\"66.781544\"/>\n     <use style=\"fill:#1f77b4;stroke:#1f77b4;\" x=\"118.86806\" xlink:href=\"#m70deb70556\" y=\"284.967479\"/>\n     <use style=\"fill:#1f77b4;stroke:#1f77b4;\" x=\"397.143385\" xlink:href=\"#m70deb70556\" y=\"94.754099\"/>\n     <use style=\"fill:#1f77b4;stroke:#1f77b4;\" x=\"344.966761\" xlink:href=\"#m70deb70556\" y=\"105.943122\"/>\n     <use style=\"fill:#1f77b4;stroke:#1f77b4;\" x=\"91.852164\" xlink:href=\"#m70deb70556\" y=\"296.156501\"/>\n     <use style=\"fill:#1f77b4;stroke:#1f77b4;\" x=\"420.332995\" xlink:href=\"#m70deb70556\" y=\"89.159588\"/>\n     <use style=\"fill:#1f77b4;stroke:#1f77b4;\" x=\"82.112528\" xlink:href=\"#m70deb70556\" y=\"268.183945\"/>\n     <use style=\"fill:#1f77b4;stroke:#1f77b4;\" x=\"437.725203\" xlink:href=\"#m70deb70556\" y=\"77.970566\"/>\n     <use style=\"fill:#1f77b4;stroke:#1f77b4;\" x=\"302.413826\" xlink:href=\"#m70deb70556\" y=\"105.943122\"/>\n     <use style=\"fill:#1f77b4;stroke:#1f77b4;\" x=\"424.159281\" xlink:href=\"#m70deb70556\" y=\"139.510189\"/>\n     <use style=\"fill:#1f77b4;stroke:#1f77b4;\" x=\"142.05767\" xlink:href=\"#m70deb70556\" y=\"229.022367\"/>\n     <use style=\"fill:#1f77b4;stroke:#1f77b4;\" x=\"443.522606\" xlink:href=\"#m70deb70556\" y=\"61.187033\"/>\n     <use style=\"fill:#1f77b4;stroke:#1f77b4;\" x=\"387.519696\" xlink:href=\"#m70deb70556\" y=\"117.132144\"/>\n     <use style=\"fill:#1f77b4;stroke:#1f77b4;\" x=\"72.488839\" xlink:href=\"#m70deb70556\" y=\"229.022367\"/>\n     <use style=\"fill:#1f77b4;stroke:#1f77b4;\" x=\"412.564476\" xlink:href=\"#m70deb70556\" y=\"105.943122\"/>\n     <use style=\"fill:#1f77b4;stroke:#1f77b4;\" x=\"144.028787\" xlink:href=\"#m70deb70556\" y=\"279.372967\"/>\n     <use style=\"fill:#1f77b4;stroke:#1f77b4;\" x=\"408.73819\" xlink:href=\"#m70deb70556\" y=\"83.565077\"/>\n     <use style=\"fill:#1f77b4;stroke:#1f77b4;\" x=\"86.054761\" xlink:href=\"#m70deb70556\" y=\"229.022367\"/>\n     <use style=\"fill:#1f77b4;stroke:#1f77b4;\" x=\"387.519696\" xlink:href=\"#m70deb70556\" y=\"72.376055\"/>\n     <use style=\"fill:#1f77b4;stroke:#1f77b4;\" x=\"178.813203\" xlink:href=\"#m70deb70556\" y=\"262.589434\"/>\n     <use style=\"fill:#1f77b4;stroke:#1f77b4;\" x=\"346.937878\" xlink:href=\"#m70deb70556\" y=\"173.077256\"/>\n     <use style=\"fill:#1f77b4;stroke:#1f77b4;\" x=\"368.156372\" xlink:href=\"#m70deb70556\" y=\"128.321166\"/>\n     <use style=\"fill:#1f77b4;stroke:#1f77b4;\" x=\"103.446969\" xlink:href=\"#m70deb70556\" y=\"245.805901\"/>\n     <use style=\"fill:#1f77b4;stroke:#1f77b4;\" x=\"408.73819\" xlink:href=\"#m70deb70556\" y=\"66.781544\"/>\n     <use style=\"fill:#1f77b4;stroke:#1f77b4;\" x=\"312.153463\" xlink:href=\"#m70deb70556\" y=\"105.943122\"/>\n     <use style=\"fill:#1f77b4;stroke:#1f77b4;\" x=\"97.649567\" xlink:href=\"#m70deb70556\" y=\"307.345523\"/>\n     <use style=\"fill:#1f77b4;stroke:#1f77b4;\" x=\"397.143385\" xlink:href=\"#m70deb70556\" y=\"100.348611\"/>\n     <use style=\"fill:#1f77b4;stroke:#1f77b4;\" x=\"138.231385\" xlink:href=\"#m70deb70556\" y=\"251.400412\"/>\n     <use style=\"fill:#1f77b4;stroke:#1f77b4;\" x=\"414.535593\" xlink:href=\"#m70deb70556\" y=\"55.592521\"/>\n     <use style=\"fill:#1f77b4;stroke:#1f77b4;\" x=\"91.852164\" xlink:href=\"#m70deb70556\" y=\"307.345523\"/>\n     <use style=\"fill:#1f77b4;stroke:#1f77b4;\" x=\"358.532683\" xlink:href=\"#m70deb70556\" y=\"94.754099\"/>\n     <use style=\"fill:#1f77b4;stroke:#1f77b4;\" x=\"200.031696\" xlink:href=\"#m70deb70556\" y=\"245.805901\"/>\n     <use style=\"fill:#1f77b4;stroke:#1f77b4;\" x=\"377.78006\" xlink:href=\"#m70deb70556\" y=\"61.187033\"/>\n     <use style=\"fill:#1f77b4;stroke:#1f77b4;\" x=\"87.90993\" xlink:href=\"#m70deb70556\" y=\"301.751012\"/>\n     <use style=\"fill:#1f77b4;stroke:#1f77b4;\" x=\"383.577463\" xlink:href=\"#m70deb70556\" y=\"100.348611\"/>\n     <use style=\"fill:#1f77b4;stroke:#1f77b4;\" x=\"93.707333\" xlink:href=\"#m70deb70556\" y=\"273.778456\"/>\n     <use style=\"fill:#1f77b4;stroke:#1f77b4;\" x=\"447.348891\" xlink:href=\"#m70deb70556\" y=\"77.970566\"/>\n     <use style=\"fill:#1f77b4;stroke:#1f77b4;\" x=\"111.099541\" xlink:href=\"#m70deb70556\" y=\"262.589434\"/>\n     <use style=\"fill:#1f77b4;stroke:#1f77b4;\" x=\"308.211229\" xlink:href=\"#m70deb70556\" y=\"117.132144\"/>\n     <use style=\"fill:#1f77b4;stroke:#1f77b4;\" x=\"366.185255\" xlink:href=\"#m70deb70556\" y=\"105.943122\"/>\n     <use style=\"fill:#1f77b4;stroke:#1f77b4;\" x=\"134.289151\" xlink:href=\"#m70deb70556\" y=\"223.427856\"/>\n     <use style=\"fill:#1f77b4;stroke:#1f77b4;\" x=\"400.96967\" xlink:href=\"#m70deb70556\" y=\"100.348611\"/>\n     <use style=\"fill:#1f77b4;stroke:#1f77b4;\" x=\"433.898917\" xlink:href=\"#m70deb70556\" y=\"128.321166\"/>\n     <use style=\"fill:#1f77b4;stroke:#1f77b4;\" x=\"377.78006\" xlink:href=\"#m70deb70556\" y=\"133.915678\"/>\n     <use style=\"fill:#1f77b4;stroke:#1f77b4;\" x=\"105.302138\" xlink:href=\"#m70deb70556\" y=\"229.022367\"/>\n     <use style=\"fill:#1f77b4;stroke:#1f77b4;\" x=\"412.564476\" xlink:href=\"#m70deb70556\" y=\"111.537633\"/>\n     <use style=\"fill:#1f77b4;stroke:#1f77b4;\" x=\"109.244372\" xlink:href=\"#m70deb70556\" y=\"284.967479\"/>\n     <use style=\"fill:#1f77b4;stroke:#1f77b4;\" x=\"466.712216\" xlink:href=\"#m70deb70556\" y=\"22.025455\"/>\n     <use style=\"fill:#1f77b4;stroke:#1f77b4;\" x=\"84.083644\" xlink:href=\"#m70deb70556\" y=\"262.589434\"/>\n     <use style=\"fill:#1f77b4;stroke:#1f77b4;\" x=\"458.943696\" xlink:href=\"#m70deb70556\" y=\"128.321166\"/>\n     <use style=\"fill:#1f77b4;stroke:#1f77b4;\" x=\"339.169359\" xlink:href=\"#m70deb70556\" y=\"128.321166\"/>\n     <use style=\"fill:#1f77b4;stroke:#1f77b4;\" x=\"153.652476\" xlink:href=\"#m70deb70556\" y=\"195.4553\"/>\n     <use style=\"fill:#1f77b4;stroke:#1f77b4;\" x=\"408.73819\" xlink:href=\"#m70deb70556\" y=\"105.943122\"/>\n     <use style=\"fill:#1f77b4;stroke:#1f77b4;\" x=\"288.963852\" xlink:href=\"#m70deb70556\" y=\"161.888233\"/>\n     <use style=\"fill:#1f77b4;stroke:#1f77b4;\" x=\"339.169359\" xlink:href=\"#m70deb70556\" y=\"167.482744\"/>\n     <use style=\"fill:#1f77b4;stroke:#1f77b4;\" x=\"397.143385\" xlink:href=\"#m70deb70556\" y=\"105.943122\"/>\n     <use style=\"fill:#1f77b4;stroke:#1f77b4;\" x=\"348.793047\" xlink:href=\"#m70deb70556\" y=\"38.808988\"/>\n     <use style=\"fill:#1f77b4;stroke:#1f77b4;\" x=\"84.083644\" xlink:href=\"#m70deb70556\" y=\"262.589434\"/>\n     <use style=\"fill:#1f77b4;stroke:#1f77b4;\" x=\"335.343073\" xlink:href=\"#m70deb70556\" y=\"61.187033\"/>\n     <use style=\"fill:#1f77b4;stroke:#1f77b4;\" x=\"130.462865\" xlink:href=\"#m70deb70556\" y=\"307.345523\"/>\n     <use style=\"fill:#1f77b4;stroke:#1f77b4;\" x=\"356.561567\" xlink:href=\"#m70deb70556\" y=\"77.970566\"/>\n     <use style=\"fill:#1f77b4;stroke:#1f77b4;\" x=\"107.273255\" xlink:href=\"#m70deb70556\" y=\"234.616878\"/>\n     <use style=\"fill:#1f77b4;stroke:#1f77b4;\" x=\"319.806034\" xlink:href=\"#m70deb70556\" y=\"122.726655\"/>\n     <use style=\"fill:#1f77b4;stroke:#1f77b4;\" x=\"281.195333\" xlink:href=\"#m70deb70556\" y=\"189.860789\"/>\n     <use style=\"fill:#1f77b4;stroke:#1f77b4;\" x=\"406.767073\" xlink:href=\"#m70deb70556\" y=\"133.915678\"/>\n     <use style=\"fill:#1f77b4;stroke:#1f77b4;\" x=\"149.82619\" xlink:href=\"#m70deb70556\" y=\"206.644322\"/>\n     <use style=\"fill:#1f77b4;stroke:#1f77b4;\" x=\"455.117411\" xlink:href=\"#m70deb70556\" y=\"66.781544\"/>\n     <use style=\"fill:#1f77b4;stroke:#1f77b4;\" x=\"99.504735\" xlink:href=\"#m70deb70556\" y=\"268.183945\"/>\n     <use style=\"fill:#1f77b4;stroke:#1f77b4;\" x=\"410.709307\" xlink:href=\"#m70deb70556\" y=\"38.808988\"/>\n     <use style=\"fill:#1f77b4;stroke:#1f77b4;\" x=\"97.649567\" xlink:href=\"#m70deb70556\" y=\"284.967479\"/>\n     <use style=\"fill:#1f77b4;stroke:#1f77b4;\" x=\"116.896943\" xlink:href=\"#m70deb70556\" y=\"240.211389\"/>\n     <use style=\"fill:#1f77b4;stroke:#1f77b4;\" x=\"406.767073\" xlink:href=\"#m70deb70556\" y=\"128.321166\"/>\n     <use style=\"fill:#1f77b4;stroke:#1f77b4;\" x=\"261.832008\" xlink:href=\"#m70deb70556\" y=\"178.671767\"/>\n     <use style=\"fill:#1f77b4;stroke:#1f77b4;\" x=\"358.532683\" xlink:href=\"#m70deb70556\" y=\"105.943122\"/>\n     <use style=\"fill:#1f77b4;stroke:#1f77b4;\" x=\"377.78006\" xlink:href=\"#m70deb70556\" y=\"105.943122\"/>\n     <use style=\"fill:#1f77b4;stroke:#1f77b4;\" x=\"397.143385\" xlink:href=\"#m70deb70556\" y=\"150.699211\"/>\n     <use style=\"fill:#1f77b4;stroke:#1f77b4;\" x=\"155.623593\" xlink:href=\"#m70deb70556\" y=\"279.372967\"/>\n     <use style=\"fill:#1f77b4;stroke:#1f77b4;\" x=\"339.169359\" xlink:href=\"#m70deb70556\" y=\"83.565077\"/>\n     <use style=\"fill:#1f77b4;stroke:#1f77b4;\" x=\"358.532683\" xlink:href=\"#m70deb70556\" y=\"145.1047\"/>\n     <use style=\"fill:#1f77b4;stroke:#1f77b4;\" x=\"93.707333\" xlink:href=\"#m70deb70556\" y=\"251.400412\"/>\n     <use style=\"fill:#1f77b4;stroke:#1f77b4;\" x=\"406.767073\" xlink:href=\"#m70deb70556\" y=\"128.321166\"/>\n     <use style=\"fill:#1f77b4;stroke:#1f77b4;\" x=\"368.156372\" xlink:href=\"#m70deb70556\" y=\"94.754099\"/>\n     <use style=\"fill:#1f77b4;stroke:#1f77b4;\" x=\"312.153463\" xlink:href=\"#m70deb70556\" y=\"94.754099\"/>\n     <use style=\"fill:#1f77b4;stroke:#1f77b4;\" x=\"111.099541\" xlink:href=\"#m70deb70556\" y=\"273.778456\"/>\n     <use style=\"fill:#1f77b4;stroke:#1f77b4;\" x=\"389.374865\" xlink:href=\"#m70deb70556\" y=\"122.726655\"/>\n     <use style=\"fill:#1f77b4;stroke:#1f77b4;\" x=\"348.793047\" xlink:href=\"#m70deb70556\" y=\"89.159588\"/>\n     <use style=\"fill:#1f77b4;stroke:#1f77b4;\" x=\"87.90993\" xlink:href=\"#m70deb70556\" y=\"301.751012\"/>\n     <use style=\"fill:#1f77b4;stroke:#1f77b4;\" x=\"387.519696\" xlink:href=\"#m70deb70556\" y=\"94.754099\"/>\n     <use style=\"fill:#1f77b4;stroke:#1f77b4;\" x=\"128.491748\" xlink:href=\"#m70deb70556\" y=\"251.400412\"/>\n     <use style=\"fill:#1f77b4;stroke:#1f77b4;\" x=\"431.9278\" xlink:href=\"#m70deb70556\" y=\"105.943122\"/>\n     <use style=\"fill:#1f77b4;stroke:#1f77b4;\" x=\"87.90993\" xlink:href=\"#m70deb70556\" y=\"240.211389\"/>\n     <use style=\"fill:#1f77b4;stroke:#1f77b4;\" x=\"431.9278\" xlink:href=\"#m70deb70556\" y=\"133.915678\"/>\n     <use style=\"fill:#1f77b4;stroke:#1f77b4;\" x=\"350.764164\" xlink:href=\"#m70deb70556\" y=\"89.159588\"/>\n     <use style=\"fill:#1f77b4;stroke:#1f77b4;\" x=\"335.227125\" xlink:href=\"#m70deb70556\" y=\"128.321166\"/>\n     <use style=\"fill:#1f77b4;stroke:#1f77b4;\" x=\"366.185255\" xlink:href=\"#m70deb70556\" y=\"105.943122\"/>\n     <use style=\"fill:#1f77b4;stroke:#1f77b4;\" x=\"281.195333\" xlink:href=\"#m70deb70556\" y=\"72.376055\"/>\n     <use style=\"fill:#1f77b4;stroke:#1f77b4;\" x=\"381.606346\" xlink:href=\"#m70deb70556\" y=\"128.321166\"/>\n     <use style=\"fill:#1f77b4;stroke:#1f77b4;\" x=\"136.260268\" xlink:href=\"#m70deb70556\" y=\"273.778456\"/>\n     <use style=\"fill:#1f77b4;stroke:#1f77b4;\" x=\"416.506709\" xlink:href=\"#m70deb70556\" y=\"122.726655\"/>\n     <use style=\"fill:#1f77b4;stroke:#1f77b4;\" x=\"118.86806\" xlink:href=\"#m70deb70556\" y=\"223.427856\"/>\n     <use style=\"fill:#1f77b4;stroke:#1f77b4;\" x=\"379.751177\" xlink:href=\"#m70deb70556\" y=\"100.348611\"/>\n     <use style=\"fill:#1f77b4;stroke:#1f77b4;\" x=\"354.59045\" xlink:href=\"#m70deb70556\" y=\"49.99801\"/>\n     <use style=\"fill:#1f77b4;stroke:#1f77b4;\" x=\"91.852164\" xlink:href=\"#m70deb70556\" y=\"262.589434\"/>\n     <use style=\"fill:#1f77b4;stroke:#1f77b4;\" x=\"408.73819\" xlink:href=\"#m70deb70556\" y=\"122.726655\"/>\n     <use style=\"fill:#1f77b4;stroke:#1f77b4;\" x=\"82.112528\" xlink:href=\"#m70deb70556\" y=\"301.751012\"/>\n     <use style=\"fill:#1f77b4;stroke:#1f77b4;\" x=\"381.722294\" xlink:href=\"#m70deb70556\" y=\"128.321166\"/>\n     <use style=\"fill:#1f77b4;stroke:#1f77b4;\" x=\"321.777151\" xlink:href=\"#m70deb70556\" y=\"89.159588\"/>\n     <use style=\"fill:#1f77b4;stroke:#1f77b4;\" x=\"99.504735\" xlink:href=\"#m70deb70556\" y=\"284.967479\"/>\n     <use style=\"fill:#1f77b4;stroke:#1f77b4;\" x=\"397.143385\" xlink:href=\"#m70deb70556\" y=\"94.754099\"/>\n     <use style=\"fill:#1f77b4;stroke:#1f77b4;\" x=\"151.681359\" xlink:href=\"#m70deb70556\" y=\"161.888233\"/>\n     <use style=\"fill:#1f77b4;stroke:#1f77b4;\" x=\"420.332995\" xlink:href=\"#m70deb70556\" y=\"111.537633\"/>\n     <use style=\"fill:#1f77b4;stroke:#1f77b4;\" x=\"91.852164\" xlink:href=\"#m70deb70556\" y=\"284.967479\"/>\n     <use style=\"fill:#1f77b4;stroke:#1f77b4;\" x=\"319.806034\" xlink:href=\"#m70deb70556\" y=\"139.510189\"/>\n     <use style=\"fill:#1f77b4;stroke:#1f77b4;\" x=\"271.571644\" xlink:href=\"#m70deb70556\" y=\"201.049811\"/>\n     <use style=\"fill:#1f77b4;stroke:#1f77b4;\" x=\"366.185255\" xlink:href=\"#m70deb70556\" y=\"133.915678\"/>\n     <use style=\"fill:#1f77b4;stroke:#1f77b4;\" x=\"153.652476\" xlink:href=\"#m70deb70556\" y=\"262.589434\"/>\n     <use style=\"fill:#1f77b4;stroke:#1f77b4;\" x=\"431.9278\" xlink:href=\"#m70deb70556\" y=\"33.214477\"/>\n     <use style=\"fill:#1f77b4;stroke:#1f77b4;\" x=\"107.273255\" xlink:href=\"#m70deb70556\" y=\"251.400412\"/>\n     <use style=\"fill:#1f77b4;stroke:#1f77b4;\" x=\"356.561567\" xlink:href=\"#m70deb70556\" y=\"133.915678\"/>\n     <use style=\"fill:#1f77b4;stroke:#1f77b4;\" x=\"91.852164\" xlink:href=\"#m70deb70556\" y=\"279.372967\"/>\n     <use style=\"fill:#1f77b4;stroke:#1f77b4;\" x=\"370.127489\" xlink:href=\"#m70deb70556\" y=\"100.348611\"/>\n     <use style=\"fill:#1f77b4;stroke:#1f77b4;\" x=\"78.286242\" xlink:href=\"#m70deb70556\" y=\"256.994923\"/>\n     <use style=\"fill:#1f77b4;stroke:#1f77b4;\" x=\"395.172268\" xlink:href=\"#m70deb70556\" y=\"139.510189\"/>\n     <use style=\"fill:#1f77b4;stroke:#1f77b4;\" x=\"339.169359\" xlink:href=\"#m70deb70556\" y=\"122.726655\"/>\n     <use style=\"fill:#1f77b4;stroke:#1f77b4;\" x=\"352.735281\" xlink:href=\"#m70deb70556\" y=\"117.132144\"/>\n     <use style=\"fill:#1f77b4;stroke:#1f77b4;\" x=\"348.793047\" xlink:href=\"#m70deb70556\" y=\"122.726655\"/>\n     <use style=\"fill:#1f77b4;stroke:#1f77b4;\" x=\"370.127489\" xlink:href=\"#m70deb70556\" y=\"122.726655\"/>\n     <use style=\"fill:#1f77b4;stroke:#1f77b4;\" x=\"329.54567\" xlink:href=\"#m70deb70556\" y=\"167.482744\"/>\n     <use style=\"fill:#1f77b4;stroke:#1f77b4;\" x=\"402.940787\" xlink:href=\"#m70deb70556\" y=\"117.132144\"/>\n     <use style=\"fill:#1f77b4;stroke:#1f77b4;\" x=\"348.793047\" xlink:href=\"#m70deb70556\" y=\"167.482744\"/>\n     <use style=\"fill:#1f77b4;stroke:#1f77b4;\" x=\"155.623593\" xlink:href=\"#m70deb70556\" y=\"256.994923\"/>\n     <use style=\"fill:#1f77b4;stroke:#1f77b4;\" x=\"360.387852\" xlink:href=\"#m70deb70556\" y=\"77.970566\"/>\n     <use style=\"fill:#1f77b4;stroke:#1f77b4;\" x=\"132.433982\" xlink:href=\"#m70deb70556\" y=\"279.372967\"/>\n     <use style=\"fill:#1f77b4;stroke:#1f77b4;\" x=\"391.345982\" xlink:href=\"#m70deb70556\" y=\"55.592521\"/>\n     <use style=\"fill:#1f77b4;stroke:#1f77b4;\" x=\"93.707333\" xlink:href=\"#m70deb70556\" y=\"256.994923\"/>\n     <use style=\"fill:#1f77b4;stroke:#1f77b4;\" x=\"89.881047\" xlink:href=\"#m70deb70556\" y=\"256.994923\"/>\n     <use style=\"fill:#1f77b4;stroke:#1f77b4;\" x=\"371.982657\" xlink:href=\"#m70deb70556\" y=\"128.321166\"/>\n     <use style=\"fill:#1f77b4;stroke:#1f77b4;\" x=\"333.371956\" xlink:href=\"#m70deb70556\" y=\"117.132144\"/>\n     <use style=\"fill:#1f77b4;stroke:#1f77b4;\" x=\"145.883956\" xlink:href=\"#m70deb70556\" y=\"201.049811\"/>\n     <use style=\"fill:#1f77b4;stroke:#1f77b4;\" x=\"356.561567\" xlink:href=\"#m70deb70556\" y=\"139.510189\"/>\n     <use style=\"fill:#1f77b4;stroke:#1f77b4;\" x=\"147.855073\" xlink:href=\"#m70deb70556\" y=\"296.156501\"/>\n     <use style=\"fill:#1f77b4;stroke:#1f77b4;\" x=\"447.348891\" xlink:href=\"#m70deb70556\" y=\"77.970566\"/>\n     <use style=\"fill:#1f77b4;stroke:#1f77b4;\" x=\"211.626502\" xlink:href=\"#m70deb70556\" y=\"206.644322\"/>\n     <use style=\"fill:#1f77b4;stroke:#1f77b4;\" x=\"406.767073\" xlink:href=\"#m70deb70556\" y=\"83.565077\"/>\n     <use style=\"fill:#1f77b4;stroke:#1f77b4;\" x=\"319.806034\" xlink:href=\"#m70deb70556\" y=\"100.348611\"/>\n     <use style=\"fill:#1f77b4;stroke:#1f77b4;\" x=\"116.896943\" xlink:href=\"#m70deb70556\" y=\"240.211389\"/>\n     <use style=\"fill:#1f77b4;stroke:#1f77b4;\" x=\"381.722294\" xlink:href=\"#m70deb70556\" y=\"100.348611\"/>\n     <use style=\"fill:#1f77b4;stroke:#1f77b4;\" x=\"122.694346\" xlink:href=\"#m70deb70556\" y=\"184.266278\"/>\n     <use style=\"fill:#1f77b4;stroke:#1f77b4;\" x=\"379.751177\" xlink:href=\"#m70deb70556\" y=\"145.1047\"/>\n     <use style=\"fill:#1f77b4;stroke:#1f77b4;\" x=\"130.462865\" xlink:href=\"#m70deb70556\" y=\"256.994923\"/>\n     <use style=\"fill:#1f77b4;stroke:#1f77b4;\" x=\"391.345982\" xlink:href=\"#m70deb70556\" y=\"94.754099\"/>\n     <use style=\"fill:#1f77b4;stroke:#1f77b4;\" x=\"288.963852\" xlink:href=\"#m70deb70556\" y=\"150.699211\"/>\n     <use style=\"fill:#1f77b4;stroke:#1f77b4;\" x=\"397.143385\" xlink:href=\"#m70deb70556\" y=\"150.699211\"/>\n     <use style=\"fill:#1f77b4;stroke:#1f77b4;\" x=\"356.561567\" xlink:href=\"#m70deb70556\" y=\"66.781544\"/>\n     <use style=\"fill:#1f77b4;stroke:#1f77b4;\" x=\"317.950865\" xlink:href=\"#m70deb70556\" y=\"111.537633\"/>\n     <use style=\"fill:#1f77b4;stroke:#1f77b4;\" x=\"329.54567\" xlink:href=\"#m70deb70556\" y=\"161.888233\"/>\n     <use style=\"fill:#1f77b4;stroke:#1f77b4;\" x=\"391.345982\" xlink:href=\"#m70deb70556\" y=\"94.754099\"/>\n     <use style=\"fill:#1f77b4;stroke:#1f77b4;\" x=\"107.273255\" xlink:href=\"#m70deb70556\" y=\"245.805901\"/>\n     <use style=\"fill:#1f77b4;stroke:#1f77b4;\" x=\"371.982657\" xlink:href=\"#m70deb70556\" y=\"117.132144\"/>\n     <use style=\"fill:#1f77b4;stroke:#1f77b4;\" x=\"428.101515\" xlink:href=\"#m70deb70556\" y=\"122.726655\"/>\n     <use style=\"fill:#1f77b4;stroke:#1f77b4;\" x=\"400.96967\" xlink:href=\"#m70deb70556\" y=\"89.159588\"/>\n     <use style=\"fill:#1f77b4;stroke:#1f77b4;\" x=\"89.881047\" xlink:href=\"#m70deb70556\" y=\"234.616878\"/>\n     <use style=\"fill:#1f77b4;stroke:#1f77b4;\" x=\"368.156372\" xlink:href=\"#m70deb70556\" y=\"94.754099\"/>\n     <use style=\"fill:#1f77b4;stroke:#1f77b4;\" x=\"105.302138\" xlink:href=\"#m70deb70556\" y=\"318.534545\"/>\n     <use style=\"fill:#1f77b4;stroke:#1f77b4;\" x=\"136.260268\" xlink:href=\"#m70deb70556\" y=\"223.427856\"/>\n     <use style=\"fill:#1f77b4;stroke:#1f77b4;\" x=\"426.130398\" xlink:href=\"#m70deb70556\" y=\"139.510189\"/>\n     <use style=\"fill:#1f77b4;stroke:#1f77b4;\" x=\"352.735281\" xlink:href=\"#m70deb70556\" y=\"105.943122\"/>\n     <use style=\"fill:#1f77b4;stroke:#1f77b4;\" x=\"124.665463\" xlink:href=\"#m70deb70556\" y=\"301.751012\"/>\n     <use style=\"fill:#1f77b4;stroke:#1f77b4;\" x=\"387.519696\" xlink:href=\"#m70deb70556\" y=\"55.592521\"/>\n     <use style=\"fill:#1f77b4;stroke:#1f77b4;\" x=\"86.054761\" xlink:href=\"#m70deb70556\" y=\"301.751012\"/>\n     <use style=\"fill:#1f77b4;stroke:#1f77b4;\" x=\"393.317099\" xlink:href=\"#m70deb70556\" y=\"145.1047\"/>\n    </g>\n   </g>\n   <g id=\"matplotlib.axis_1\">\n    <g id=\"xtick_1\">\n     <g id=\"line2d_1\">\n      <defs>\n       <path d=\"M 0 0 \nL 0 3.5 \n\" id=\"m335153bc5d\" style=\"stroke:#000000;stroke-width:0.8;\"/>\n      </defs>\n      <g>\n       <use style=\"stroke:#000000;stroke-width:0.8;\" x=\"49.299229\" xlink:href=\"#m335153bc5d\" y=\"333.36\"/>\n      </g>\n     </g>\n     <g id=\"text_1\">\n      <!-- 1.5 -->\n      <defs>\n       <path d=\"M 12.40625 8.296875 \nL 28.515625 8.296875 \nL 28.515625 63.921875 \nL 10.984375 60.40625 \nL 10.984375 69.390625 \nL 28.421875 72.90625 \nL 38.28125 72.90625 \nL 38.28125 8.296875 \nL 54.390625 8.296875 \nL 54.390625 0 \nL 12.40625 0 \nz\n\" id=\"DejaVuSans-49\"/>\n       <path d=\"M 10.6875 12.40625 \nL 21 12.40625 \nL 21 0 \nL 10.6875 0 \nz\n\" id=\"DejaVuSans-46\"/>\n       <path d=\"M 10.796875 72.90625 \nL 49.515625 72.90625 \nL 49.515625 64.59375 \nL 19.828125 64.59375 \nL 19.828125 46.734375 \nQ 21.96875 47.46875 24.109375 47.828125 \nQ 26.265625 48.1875 28.421875 48.1875 \nQ 40.625 48.1875 47.75 41.5 \nQ 54.890625 34.8125 54.890625 23.390625 \nQ 54.890625 11.625 47.5625 5.09375 \nQ 40.234375 -1.421875 26.90625 -1.421875 \nQ 22.3125 -1.421875 17.546875 -0.640625 \nQ 12.796875 0.140625 7.71875 1.703125 \nL 7.71875 11.625 \nQ 12.109375 9.234375 16.796875 8.0625 \nQ 21.484375 6.890625 26.703125 6.890625 \nQ 35.15625 6.890625 40.078125 11.328125 \nQ 45.015625 15.765625 45.015625 23.390625 \nQ 45.015625 31 40.078125 35.4375 \nQ 35.15625 39.890625 26.703125 39.890625 \nQ 22.75 39.890625 18.8125 39.015625 \nQ 14.890625 38.140625 10.796875 36.28125 \nz\n\" id=\"DejaVuSans-53\"/>\n      </defs>\n      <g transform=\"translate(41.347666 347.958438)scale(0.1 -0.1)\">\n       <use xlink:href=\"#DejaVuSans-49\"/>\n       <use x=\"63.623047\" xlink:href=\"#DejaVuSans-46\"/>\n       <use x=\"95.410156\" xlink:href=\"#DejaVuSans-53\"/>\n      </g>\n     </g>\n    </g>\n    <g id=\"xtick_2\">\n     <g id=\"line2d_2\">\n      <g>\n       <use style=\"stroke:#000000;stroke-width:0.8;\" x=\"107.273255\" xlink:href=\"#m335153bc5d\" y=\"333.36\"/>\n      </g>\n     </g>\n     <g id=\"text_2\">\n      <!-- 2.0 -->\n      <defs>\n       <path d=\"M 19.1875 8.296875 \nL 53.609375 8.296875 \nL 53.609375 0 \nL 7.328125 0 \nL 7.328125 8.296875 \nQ 12.9375 14.109375 22.625 23.890625 \nQ 32.328125 33.6875 34.8125 36.53125 \nQ 39.546875 41.84375 41.421875 45.53125 \nQ 43.3125 49.21875 43.3125 52.78125 \nQ 43.3125 58.59375 39.234375 62.25 \nQ 35.15625 65.921875 28.609375 65.921875 \nQ 23.96875 65.921875 18.8125 64.3125 \nQ 13.671875 62.703125 7.8125 59.421875 \nL 7.8125 69.390625 \nQ 13.765625 71.78125 18.9375 73 \nQ 24.125 74.21875 28.421875 74.21875 \nQ 39.75 74.21875 46.484375 68.546875 \nQ 53.21875 62.890625 53.21875 53.421875 \nQ 53.21875 48.921875 51.53125 44.890625 \nQ 49.859375 40.875 45.40625 35.40625 \nQ 44.1875 33.984375 37.640625 27.21875 \nQ 31.109375 20.453125 19.1875 8.296875 \nz\n\" id=\"DejaVuSans-50\"/>\n       <path d=\"M 31.78125 66.40625 \nQ 24.171875 66.40625 20.328125 58.90625 \nQ 16.5 51.421875 16.5 36.375 \nQ 16.5 21.390625 20.328125 13.890625 \nQ 24.171875 6.390625 31.78125 6.390625 \nQ 39.453125 6.390625 43.28125 13.890625 \nQ 47.125 21.390625 47.125 36.375 \nQ 47.125 51.421875 43.28125 58.90625 \nQ 39.453125 66.40625 31.78125 66.40625 \nz\nM 31.78125 74.21875 \nQ 44.046875 74.21875 50.515625 64.515625 \nQ 56.984375 54.828125 56.984375 36.375 \nQ 56.984375 17.96875 50.515625 8.265625 \nQ 44.046875 -1.421875 31.78125 -1.421875 \nQ 19.53125 -1.421875 13.0625 8.265625 \nQ 6.59375 17.96875 6.59375 36.375 \nQ 6.59375 54.828125 13.0625 64.515625 \nQ 19.53125 74.21875 31.78125 74.21875 \nz\n\" id=\"DejaVuSans-48\"/>\n      </defs>\n      <g transform=\"translate(99.321692 347.958438)scale(0.1 -0.1)\">\n       <use xlink:href=\"#DejaVuSans-50\"/>\n       <use x=\"63.623047\" xlink:href=\"#DejaVuSans-46\"/>\n       <use x=\"95.410156\" xlink:href=\"#DejaVuSans-48\"/>\n      </g>\n     </g>\n    </g>\n    <g id=\"xtick_3\">\n     <g id=\"line2d_3\">\n      <g>\n       <use style=\"stroke:#000000;stroke-width:0.8;\" x=\"165.247281\" xlink:href=\"#m335153bc5d\" y=\"333.36\"/>\n      </g>\n     </g>\n     <g id=\"text_3\">\n      <!-- 2.5 -->\n      <g transform=\"translate(157.295718 347.958438)scale(0.1 -0.1)\">\n       <use xlink:href=\"#DejaVuSans-50\"/>\n       <use x=\"63.623047\" xlink:href=\"#DejaVuSans-46\"/>\n       <use x=\"95.410156\" xlink:href=\"#DejaVuSans-53\"/>\n      </g>\n     </g>\n    </g>\n    <g id=\"xtick_4\">\n     <g id=\"line2d_4\">\n      <g>\n       <use style=\"stroke:#000000;stroke-width:0.8;\" x=\"223.221307\" xlink:href=\"#m335153bc5d\" y=\"333.36\"/>\n      </g>\n     </g>\n     <g id=\"text_4\">\n      <!-- 3.0 -->\n      <defs>\n       <path d=\"M 40.578125 39.3125 \nQ 47.65625 37.796875 51.625 33 \nQ 55.609375 28.21875 55.609375 21.1875 \nQ 55.609375 10.40625 48.1875 4.484375 \nQ 40.765625 -1.421875 27.09375 -1.421875 \nQ 22.515625 -1.421875 17.65625 -0.515625 \nQ 12.796875 0.390625 7.625 2.203125 \nL 7.625 11.71875 \nQ 11.71875 9.328125 16.59375 8.109375 \nQ 21.484375 6.890625 26.8125 6.890625 \nQ 36.078125 6.890625 40.9375 10.546875 \nQ 45.796875 14.203125 45.796875 21.1875 \nQ 45.796875 27.640625 41.28125 31.265625 \nQ 36.765625 34.90625 28.71875 34.90625 \nL 20.21875 34.90625 \nL 20.21875 43.015625 \nL 29.109375 43.015625 \nQ 36.375 43.015625 40.234375 45.921875 \nQ 44.09375 48.828125 44.09375 54.296875 \nQ 44.09375 59.90625 40.109375 62.90625 \nQ 36.140625 65.921875 28.71875 65.921875 \nQ 24.65625 65.921875 20.015625 65.03125 \nQ 15.375 64.15625 9.8125 62.3125 \nL 9.8125 71.09375 \nQ 15.4375 72.65625 20.34375 73.4375 \nQ 25.25 74.21875 29.59375 74.21875 \nQ 40.828125 74.21875 47.359375 69.109375 \nQ 53.90625 64.015625 53.90625 55.328125 \nQ 53.90625 49.265625 50.4375 45.09375 \nQ 46.96875 40.921875 40.578125 39.3125 \nz\n\" id=\"DejaVuSans-51\"/>\n      </defs>\n      <g transform=\"translate(215.269744 347.958438)scale(0.1 -0.1)\">\n       <use xlink:href=\"#DejaVuSans-51\"/>\n       <use x=\"63.623047\" xlink:href=\"#DejaVuSans-46\"/>\n       <use x=\"95.410156\" xlink:href=\"#DejaVuSans-48\"/>\n      </g>\n     </g>\n    </g>\n    <g id=\"xtick_5\">\n     <g id=\"line2d_5\">\n      <g>\n       <use style=\"stroke:#000000;stroke-width:0.8;\" x=\"281.195333\" xlink:href=\"#m335153bc5d\" y=\"333.36\"/>\n      </g>\n     </g>\n     <g id=\"text_5\">\n      <!-- 3.5 -->\n      <g transform=\"translate(273.24377 347.958438)scale(0.1 -0.1)\">\n       <use xlink:href=\"#DejaVuSans-51\"/>\n       <use x=\"63.623047\" xlink:href=\"#DejaVuSans-46\"/>\n       <use x=\"95.410156\" xlink:href=\"#DejaVuSans-53\"/>\n      </g>\n     </g>\n    </g>\n    <g id=\"xtick_6\">\n     <g id=\"line2d_6\">\n      <g>\n       <use style=\"stroke:#000000;stroke-width:0.8;\" x=\"339.169359\" xlink:href=\"#m335153bc5d\" y=\"333.36\"/>\n      </g>\n     </g>\n     <g id=\"text_6\">\n      <!-- 4.0 -->\n      <defs>\n       <path d=\"M 37.796875 64.3125 \nL 12.890625 25.390625 \nL 37.796875 25.390625 \nz\nM 35.203125 72.90625 \nL 47.609375 72.90625 \nL 47.609375 25.390625 \nL 58.015625 25.390625 \nL 58.015625 17.1875 \nL 47.609375 17.1875 \nL 47.609375 0 \nL 37.796875 0 \nL 37.796875 17.1875 \nL 4.890625 17.1875 \nL 4.890625 26.703125 \nz\n\" id=\"DejaVuSans-52\"/>\n      </defs>\n      <g transform=\"translate(331.217796 347.958438)scale(0.1 -0.1)\">\n       <use xlink:href=\"#DejaVuSans-52\"/>\n       <use x=\"63.623047\" xlink:href=\"#DejaVuSans-46\"/>\n       <use x=\"95.410156\" xlink:href=\"#DejaVuSans-48\"/>\n      </g>\n     </g>\n    </g>\n    <g id=\"xtick_7\">\n     <g id=\"line2d_7\">\n      <g>\n       <use style=\"stroke:#000000;stroke-width:0.8;\" x=\"397.143385\" xlink:href=\"#m335153bc5d\" y=\"333.36\"/>\n      </g>\n     </g>\n     <g id=\"text_7\">\n      <!-- 4.5 -->\n      <g transform=\"translate(389.191822 347.958438)scale(0.1 -0.1)\">\n       <use xlink:href=\"#DejaVuSans-52\"/>\n       <use x=\"63.623047\" xlink:href=\"#DejaVuSans-46\"/>\n       <use x=\"95.410156\" xlink:href=\"#DejaVuSans-53\"/>\n      </g>\n     </g>\n    </g>\n    <g id=\"xtick_8\">\n     <g id=\"line2d_8\">\n      <g>\n       <use style=\"stroke:#000000;stroke-width:0.8;\" x=\"455.117411\" xlink:href=\"#m335153bc5d\" y=\"333.36\"/>\n      </g>\n     </g>\n     <g id=\"text_8\">\n      <!-- 5.0 -->\n      <g transform=\"translate(447.165848 347.958438)scale(0.1 -0.1)\">\n       <use xlink:href=\"#DejaVuSans-53\"/>\n       <use x=\"63.623047\" xlink:href=\"#DejaVuSans-46\"/>\n       <use x=\"95.410156\" xlink:href=\"#DejaVuSans-48\"/>\n      </g>\n     </g>\n    </g>\n    <g id=\"text_9\">\n     <!-- Length of eruption[min] -->\n     <defs>\n      <path d=\"M 9.8125 72.90625 \nL 19.671875 72.90625 \nL 19.671875 8.296875 \nL 55.171875 8.296875 \nL 55.171875 0 \nL 9.8125 0 \nz\n\" id=\"DejaVuSans-76\"/>\n      <path d=\"M 56.203125 29.59375 \nL 56.203125 25.203125 \nL 14.890625 25.203125 \nQ 15.484375 15.921875 20.484375 11.0625 \nQ 25.484375 6.203125 34.421875 6.203125 \nQ 39.59375 6.203125 44.453125 7.46875 \nQ 49.3125 8.734375 54.109375 11.28125 \nL 54.109375 2.78125 \nQ 49.265625 0.734375 44.1875 -0.34375 \nQ 39.109375 -1.421875 33.890625 -1.421875 \nQ 20.796875 -1.421875 13.15625 6.1875 \nQ 5.515625 13.8125 5.515625 26.8125 \nQ 5.515625 40.234375 12.765625 48.109375 \nQ 20.015625 56 32.328125 56 \nQ 43.359375 56 49.78125 48.890625 \nQ 56.203125 41.796875 56.203125 29.59375 \nz\nM 47.21875 32.234375 \nQ 47.125 39.59375 43.09375 43.984375 \nQ 39.0625 48.390625 32.421875 48.390625 \nQ 24.90625 48.390625 20.390625 44.140625 \nQ 15.875 39.890625 15.1875 32.171875 \nz\n\" id=\"DejaVuSans-101\"/>\n      <path d=\"M 54.890625 33.015625 \nL 54.890625 0 \nL 45.90625 0 \nL 45.90625 32.71875 \nQ 45.90625 40.484375 42.875 44.328125 \nQ 39.84375 48.1875 33.796875 48.1875 \nQ 26.515625 48.1875 22.3125 43.546875 \nQ 18.109375 38.921875 18.109375 30.90625 \nL 18.109375 0 \nL 9.078125 0 \nL 9.078125 54.6875 \nL 18.109375 54.6875 \nL 18.109375 46.1875 \nQ 21.34375 51.125 25.703125 53.5625 \nQ 30.078125 56 35.796875 56 \nQ 45.21875 56 50.046875 50.171875 \nQ 54.890625 44.34375 54.890625 33.015625 \nz\n\" id=\"DejaVuSans-110\"/>\n      <path d=\"M 45.40625 27.984375 \nQ 45.40625 37.75 41.375 43.109375 \nQ 37.359375 48.484375 30.078125 48.484375 \nQ 22.859375 48.484375 18.828125 43.109375 \nQ 14.796875 37.75 14.796875 27.984375 \nQ 14.796875 18.265625 18.828125 12.890625 \nQ 22.859375 7.515625 30.078125 7.515625 \nQ 37.359375 7.515625 41.375 12.890625 \nQ 45.40625 18.265625 45.40625 27.984375 \nz\nM 54.390625 6.78125 \nQ 54.390625 -7.171875 48.1875 -13.984375 \nQ 42 -20.796875 29.203125 -20.796875 \nQ 24.46875 -20.796875 20.265625 -20.09375 \nQ 16.0625 -19.390625 12.109375 -17.921875 \nL 12.109375 -9.1875 \nQ 16.0625 -11.328125 19.921875 -12.34375 \nQ 23.78125 -13.375 27.78125 -13.375 \nQ 36.625 -13.375 41.015625 -8.765625 \nQ 45.40625 -4.15625 45.40625 5.171875 \nL 45.40625 9.625 \nQ 42.625 4.78125 38.28125 2.390625 \nQ 33.9375 0 27.875 0 \nQ 17.828125 0 11.671875 7.65625 \nQ 5.515625 15.328125 5.515625 27.984375 \nQ 5.515625 40.671875 11.671875 48.328125 \nQ 17.828125 56 27.875 56 \nQ 33.9375 56 38.28125 53.609375 \nQ 42.625 51.21875 45.40625 46.390625 \nL 45.40625 54.6875 \nL 54.390625 54.6875 \nz\n\" id=\"DejaVuSans-103\"/>\n      <path d=\"M 18.3125 70.21875 \nL 18.3125 54.6875 \nL 36.8125 54.6875 \nL 36.8125 47.703125 \nL 18.3125 47.703125 \nL 18.3125 18.015625 \nQ 18.3125 11.328125 20.140625 9.421875 \nQ 21.96875 7.515625 27.59375 7.515625 \nL 36.8125 7.515625 \nL 36.8125 0 \nL 27.59375 0 \nQ 17.1875 0 13.234375 3.875 \nQ 9.28125 7.765625 9.28125 18.015625 \nL 9.28125 47.703125 \nL 2.6875 47.703125 \nL 2.6875 54.6875 \nL 9.28125 54.6875 \nL 9.28125 70.21875 \nz\n\" id=\"DejaVuSans-116\"/>\n      <path d=\"M 54.890625 33.015625 \nL 54.890625 0 \nL 45.90625 0 \nL 45.90625 32.71875 \nQ 45.90625 40.484375 42.875 44.328125 \nQ 39.84375 48.1875 33.796875 48.1875 \nQ 26.515625 48.1875 22.3125 43.546875 \nQ 18.109375 38.921875 18.109375 30.90625 \nL 18.109375 0 \nL 9.078125 0 \nL 9.078125 75.984375 \nL 18.109375 75.984375 \nL 18.109375 46.1875 \nQ 21.34375 51.125 25.703125 53.5625 \nQ 30.078125 56 35.796875 56 \nQ 45.21875 56 50.046875 50.171875 \nQ 54.890625 44.34375 54.890625 33.015625 \nz\n\" id=\"DejaVuSans-104\"/>\n      <path id=\"DejaVuSans-32\"/>\n      <path d=\"M 30.609375 48.390625 \nQ 23.390625 48.390625 19.1875 42.75 \nQ 14.984375 37.109375 14.984375 27.296875 \nQ 14.984375 17.484375 19.15625 11.84375 \nQ 23.34375 6.203125 30.609375 6.203125 \nQ 37.796875 6.203125 41.984375 11.859375 \nQ 46.1875 17.53125 46.1875 27.296875 \nQ 46.1875 37.015625 41.984375 42.703125 \nQ 37.796875 48.390625 30.609375 48.390625 \nz\nM 30.609375 56 \nQ 42.328125 56 49.015625 48.375 \nQ 55.71875 40.765625 55.71875 27.296875 \nQ 55.71875 13.875 49.015625 6.21875 \nQ 42.328125 -1.421875 30.609375 -1.421875 \nQ 18.84375 -1.421875 12.171875 6.21875 \nQ 5.515625 13.875 5.515625 27.296875 \nQ 5.515625 40.765625 12.171875 48.375 \nQ 18.84375 56 30.609375 56 \nz\n\" id=\"DejaVuSans-111\"/>\n      <path d=\"M 37.109375 75.984375 \nL 37.109375 68.5 \nL 28.515625 68.5 \nQ 23.6875 68.5 21.796875 66.546875 \nQ 19.921875 64.59375 19.921875 59.515625 \nL 19.921875 54.6875 \nL 34.71875 54.6875 \nL 34.71875 47.703125 \nL 19.921875 47.703125 \nL 19.921875 0 \nL 10.890625 0 \nL 10.890625 47.703125 \nL 2.296875 47.703125 \nL 2.296875 54.6875 \nL 10.890625 54.6875 \nL 10.890625 58.5 \nQ 10.890625 67.625 15.140625 71.796875 \nQ 19.390625 75.984375 28.609375 75.984375 \nz\n\" id=\"DejaVuSans-102\"/>\n      <path d=\"M 41.109375 46.296875 \nQ 39.59375 47.171875 37.8125 47.578125 \nQ 36.03125 48 33.890625 48 \nQ 26.265625 48 22.1875 43.046875 \nQ 18.109375 38.09375 18.109375 28.8125 \nL 18.109375 0 \nL 9.078125 0 \nL 9.078125 54.6875 \nL 18.109375 54.6875 \nL 18.109375 46.1875 \nQ 20.953125 51.171875 25.484375 53.578125 \nQ 30.03125 56 36.53125 56 \nQ 37.453125 56 38.578125 55.875 \nQ 39.703125 55.765625 41.0625 55.515625 \nz\n\" id=\"DejaVuSans-114\"/>\n      <path d=\"M 8.5 21.578125 \nL 8.5 54.6875 \nL 17.484375 54.6875 \nL 17.484375 21.921875 \nQ 17.484375 14.15625 20.5 10.265625 \nQ 23.53125 6.390625 29.59375 6.390625 \nQ 36.859375 6.390625 41.078125 11.03125 \nQ 45.3125 15.671875 45.3125 23.6875 \nL 45.3125 54.6875 \nL 54.296875 54.6875 \nL 54.296875 0 \nL 45.3125 0 \nL 45.3125 8.40625 \nQ 42.046875 3.421875 37.71875 1 \nQ 33.40625 -1.421875 27.6875 -1.421875 \nQ 18.265625 -1.421875 13.375 4.4375 \nQ 8.5 10.296875 8.5 21.578125 \nz\nM 31.109375 56 \nz\n\" id=\"DejaVuSans-117\"/>\n      <path d=\"M 18.109375 8.203125 \nL 18.109375 -20.796875 \nL 9.078125 -20.796875 \nL 9.078125 54.6875 \nL 18.109375 54.6875 \nL 18.109375 46.390625 \nQ 20.953125 51.265625 25.265625 53.625 \nQ 29.59375 56 35.59375 56 \nQ 45.5625 56 51.78125 48.09375 \nQ 58.015625 40.1875 58.015625 27.296875 \nQ 58.015625 14.40625 51.78125 6.484375 \nQ 45.5625 -1.421875 35.59375 -1.421875 \nQ 29.59375 -1.421875 25.265625 0.953125 \nQ 20.953125 3.328125 18.109375 8.203125 \nz\nM 48.6875 27.296875 \nQ 48.6875 37.203125 44.609375 42.84375 \nQ 40.53125 48.484375 33.40625 48.484375 \nQ 26.265625 48.484375 22.1875 42.84375 \nQ 18.109375 37.203125 18.109375 27.296875 \nQ 18.109375 17.390625 22.1875 11.75 \nQ 26.265625 6.109375 33.40625 6.109375 \nQ 40.53125 6.109375 44.609375 11.75 \nQ 48.6875 17.390625 48.6875 27.296875 \nz\n\" id=\"DejaVuSans-112\"/>\n      <path d=\"M 9.421875 54.6875 \nL 18.40625 54.6875 \nL 18.40625 0 \nL 9.421875 0 \nz\nM 9.421875 75.984375 \nL 18.40625 75.984375 \nL 18.40625 64.59375 \nL 9.421875 64.59375 \nz\n\" id=\"DejaVuSans-105\"/>\n      <path d=\"M 8.59375 75.984375 \nL 29.296875 75.984375 \nL 29.296875 69 \nL 17.578125 69 \nL 17.578125 -6.203125 \nL 29.296875 -6.203125 \nL 29.296875 -13.1875 \nL 8.59375 -13.1875 \nz\n\" id=\"DejaVuSans-91\"/>\n      <path d=\"M 52 44.1875 \nQ 55.375 50.25 60.0625 53.125 \nQ 64.75 56 71.09375 56 \nQ 79.640625 56 84.28125 50.015625 \nQ 88.921875 44.046875 88.921875 33.015625 \nL 88.921875 0 \nL 79.890625 0 \nL 79.890625 32.71875 \nQ 79.890625 40.578125 77.09375 44.375 \nQ 74.3125 48.1875 68.609375 48.1875 \nQ 61.625 48.1875 57.5625 43.546875 \nQ 53.515625 38.921875 53.515625 30.90625 \nL 53.515625 0 \nL 44.484375 0 \nL 44.484375 32.71875 \nQ 44.484375 40.625 41.703125 44.40625 \nQ 38.921875 48.1875 33.109375 48.1875 \nQ 26.21875 48.1875 22.15625 43.53125 \nQ 18.109375 38.875 18.109375 30.90625 \nL 18.109375 0 \nL 9.078125 0 \nL 9.078125 54.6875 \nL 18.109375 54.6875 \nL 18.109375 46.1875 \nQ 21.1875 51.21875 25.484375 53.609375 \nQ 29.78125 56 35.6875 56 \nQ 41.65625 56 45.828125 52.96875 \nQ 50 49.953125 52 44.1875 \nz\n\" id=\"DejaVuSans-109\"/>\n      <path d=\"M 30.421875 75.984375 \nL 30.421875 -13.1875 \nL 9.71875 -13.1875 \nL 9.71875 -6.203125 \nL 21.390625 -6.203125 \nL 21.390625 69 \nL 9.71875 69 \nL 9.71875 75.984375 \nz\n\" id=\"DejaVuSans-93\"/>\n     </defs>\n     <g transform=\"translate(204.176563 361.636563)scale(0.1 -0.1)\">\n      <use xlink:href=\"#DejaVuSans-76\"/>\n      <use x=\"53.962891\" xlink:href=\"#DejaVuSans-101\"/>\n      <use x=\"115.486328\" xlink:href=\"#DejaVuSans-110\"/>\n      <use x=\"178.865234\" xlink:href=\"#DejaVuSans-103\"/>\n      <use x=\"242.341797\" xlink:href=\"#DejaVuSans-116\"/>\n      <use x=\"281.550781\" xlink:href=\"#DejaVuSans-104\"/>\n      <use x=\"344.929688\" xlink:href=\"#DejaVuSans-32\"/>\n      <use x=\"376.716797\" xlink:href=\"#DejaVuSans-111\"/>\n      <use x=\"437.898438\" xlink:href=\"#DejaVuSans-102\"/>\n      <use x=\"473.103516\" xlink:href=\"#DejaVuSans-32\"/>\n      <use x=\"504.890625\" xlink:href=\"#DejaVuSans-101\"/>\n      <use x=\"566.414062\" xlink:href=\"#DejaVuSans-114\"/>\n      <use x=\"607.527344\" xlink:href=\"#DejaVuSans-117\"/>\n      <use x=\"670.90625\" xlink:href=\"#DejaVuSans-112\"/>\n      <use x=\"734.382812\" xlink:href=\"#DejaVuSans-116\"/>\n      <use x=\"773.591797\" xlink:href=\"#DejaVuSans-105\"/>\n      <use x=\"801.375\" xlink:href=\"#DejaVuSans-111\"/>\n      <use x=\"862.556641\" xlink:href=\"#DejaVuSans-110\"/>\n      <use x=\"925.935547\" xlink:href=\"#DejaVuSans-91\"/>\n      <use x=\"964.949219\" xlink:href=\"#DejaVuSans-109\"/>\n      <use x=\"1062.361328\" xlink:href=\"#DejaVuSans-105\"/>\n      <use x=\"1090.144531\" xlink:href=\"#DejaVuSans-110\"/>\n      <use x=\"1153.523438\" xlink:href=\"#DejaVuSans-93\"/>\n     </g>\n    </g>\n   </g>\n   <g id=\"matplotlib.axis_2\">\n    <g id=\"ytick_1\">\n     <g id=\"line2d_9\">\n      <defs>\n       <path d=\"M 0 0 \nL -3.5 0 \n\" id=\"m8c4bc5d8d1\" style=\"stroke:#000000;stroke-width:0.8;\"/>\n      </defs>\n      <g>\n       <use style=\"stroke:#000000;stroke-width:0.8;\" x=\"40.603125\" xlink:href=\"#m8c4bc5d8d1\" y=\"279.372967\"/>\n      </g>\n     </g>\n     <g id=\"text_10\">\n      <!-- 50 -->\n      <g transform=\"translate(20.878125 283.172186)scale(0.1 -0.1)\">\n       <use xlink:href=\"#DejaVuSans-53\"/>\n       <use x=\"63.623047\" xlink:href=\"#DejaVuSans-48\"/>\n      </g>\n     </g>\n    </g>\n    <g id=\"ytick_2\">\n     <g id=\"line2d_10\">\n      <g>\n       <use style=\"stroke:#000000;stroke-width:0.8;\" x=\"40.603125\" xlink:href=\"#m8c4bc5d8d1\" y=\"223.427856\"/>\n      </g>\n     </g>\n     <g id=\"text_11\">\n      <!-- 60 -->\n      <defs>\n       <path d=\"M 33.015625 40.375 \nQ 26.375 40.375 22.484375 35.828125 \nQ 18.609375 31.296875 18.609375 23.390625 \nQ 18.609375 15.53125 22.484375 10.953125 \nQ 26.375 6.390625 33.015625 6.390625 \nQ 39.65625 6.390625 43.53125 10.953125 \nQ 47.40625 15.53125 47.40625 23.390625 \nQ 47.40625 31.296875 43.53125 35.828125 \nQ 39.65625 40.375 33.015625 40.375 \nz\nM 52.59375 71.296875 \nL 52.59375 62.3125 \nQ 48.875 64.0625 45.09375 64.984375 \nQ 41.3125 65.921875 37.59375 65.921875 \nQ 27.828125 65.921875 22.671875 59.328125 \nQ 17.53125 52.734375 16.796875 39.40625 \nQ 19.671875 43.65625 24.015625 45.921875 \nQ 28.375 48.1875 33.59375 48.1875 \nQ 44.578125 48.1875 50.953125 41.515625 \nQ 57.328125 34.859375 57.328125 23.390625 \nQ 57.328125 12.15625 50.6875 5.359375 \nQ 44.046875 -1.421875 33.015625 -1.421875 \nQ 20.359375 -1.421875 13.671875 8.265625 \nQ 6.984375 17.96875 6.984375 36.375 \nQ 6.984375 53.65625 15.1875 63.9375 \nQ 23.390625 74.21875 37.203125 74.21875 \nQ 40.921875 74.21875 44.703125 73.484375 \nQ 48.484375 72.75 52.59375 71.296875 \nz\n\" id=\"DejaVuSans-54\"/>\n      </defs>\n      <g transform=\"translate(20.878125 227.227075)scale(0.1 -0.1)\">\n       <use xlink:href=\"#DejaVuSans-54\"/>\n       <use x=\"63.623047\" xlink:href=\"#DejaVuSans-48\"/>\n      </g>\n     </g>\n    </g>\n    <g id=\"ytick_3\">\n     <g id=\"line2d_11\">\n      <g>\n       <use style=\"stroke:#000000;stroke-width:0.8;\" x=\"40.603125\" xlink:href=\"#m8c4bc5d8d1\" y=\"167.482744\"/>\n      </g>\n     </g>\n     <g id=\"text_12\">\n      <!-- 70 -->\n      <defs>\n       <path d=\"M 8.203125 72.90625 \nL 55.078125 72.90625 \nL 55.078125 68.703125 \nL 28.609375 0 \nL 18.3125 0 \nL 43.21875 64.59375 \nL 8.203125 64.59375 \nz\n\" id=\"DejaVuSans-55\"/>\n      </defs>\n      <g transform=\"translate(20.878125 171.281963)scale(0.1 -0.1)\">\n       <use xlink:href=\"#DejaVuSans-55\"/>\n       <use x=\"63.623047\" xlink:href=\"#DejaVuSans-48\"/>\n      </g>\n     </g>\n    </g>\n    <g id=\"ytick_4\">\n     <g id=\"line2d_12\">\n      <g>\n       <use style=\"stroke:#000000;stroke-width:0.8;\" x=\"40.603125\" xlink:href=\"#m8c4bc5d8d1\" y=\"111.537633\"/>\n      </g>\n     </g>\n     <g id=\"text_13\">\n      <!-- 80 -->\n      <defs>\n       <path d=\"M 31.78125 34.625 \nQ 24.75 34.625 20.71875 30.859375 \nQ 16.703125 27.09375 16.703125 20.515625 \nQ 16.703125 13.921875 20.71875 10.15625 \nQ 24.75 6.390625 31.78125 6.390625 \nQ 38.8125 6.390625 42.859375 10.171875 \nQ 46.921875 13.96875 46.921875 20.515625 \nQ 46.921875 27.09375 42.890625 30.859375 \nQ 38.875 34.625 31.78125 34.625 \nz\nM 21.921875 38.8125 \nQ 15.578125 40.375 12.03125 44.71875 \nQ 8.5 49.078125 8.5 55.328125 \nQ 8.5 64.0625 14.71875 69.140625 \nQ 20.953125 74.21875 31.78125 74.21875 \nQ 42.671875 74.21875 48.875 69.140625 \nQ 55.078125 64.0625 55.078125 55.328125 \nQ 55.078125 49.078125 51.53125 44.71875 \nQ 48 40.375 41.703125 38.8125 \nQ 48.828125 37.15625 52.796875 32.3125 \nQ 56.78125 27.484375 56.78125 20.515625 \nQ 56.78125 9.90625 50.3125 4.234375 \nQ 43.84375 -1.421875 31.78125 -1.421875 \nQ 19.734375 -1.421875 13.25 4.234375 \nQ 6.78125 9.90625 6.78125 20.515625 \nQ 6.78125 27.484375 10.78125 32.3125 \nQ 14.796875 37.15625 21.921875 38.8125 \nz\nM 18.3125 54.390625 \nQ 18.3125 48.734375 21.84375 45.5625 \nQ 25.390625 42.390625 31.78125 42.390625 \nQ 38.140625 42.390625 41.71875 45.5625 \nQ 45.3125 48.734375 45.3125 54.390625 \nQ 45.3125 60.0625 41.71875 63.234375 \nQ 38.140625 66.40625 31.78125 66.40625 \nQ 25.390625 66.40625 21.84375 63.234375 \nQ 18.3125 60.0625 18.3125 54.390625 \nz\n\" id=\"DejaVuSans-56\"/>\n      </defs>\n      <g transform=\"translate(20.878125 115.336852)scale(0.1 -0.1)\">\n       <use xlink:href=\"#DejaVuSans-56\"/>\n       <use x=\"63.623047\" xlink:href=\"#DejaVuSans-48\"/>\n      </g>\n     </g>\n    </g>\n    <g id=\"ytick_5\">\n     <g id=\"line2d_13\">\n      <g>\n       <use style=\"stroke:#000000;stroke-width:0.8;\" x=\"40.603125\" xlink:href=\"#m8c4bc5d8d1\" y=\"55.592521\"/>\n      </g>\n     </g>\n     <g id=\"text_14\">\n      <!-- 90 -->\n      <defs>\n       <path d=\"M 10.984375 1.515625 \nL 10.984375 10.5 \nQ 14.703125 8.734375 18.5 7.8125 \nQ 22.3125 6.890625 25.984375 6.890625 \nQ 35.75 6.890625 40.890625 13.453125 \nQ 46.046875 20.015625 46.78125 33.40625 \nQ 43.953125 29.203125 39.59375 26.953125 \nQ 35.25 24.703125 29.984375 24.703125 \nQ 19.046875 24.703125 12.671875 31.3125 \nQ 6.296875 37.9375 6.296875 49.421875 \nQ 6.296875 60.640625 12.9375 67.421875 \nQ 19.578125 74.21875 30.609375 74.21875 \nQ 43.265625 74.21875 49.921875 64.515625 \nQ 56.59375 54.828125 56.59375 36.375 \nQ 56.59375 19.140625 48.40625 8.859375 \nQ 40.234375 -1.421875 26.421875 -1.421875 \nQ 22.703125 -1.421875 18.890625 -0.6875 \nQ 15.09375 0.046875 10.984375 1.515625 \nz\nM 30.609375 32.421875 \nQ 37.25 32.421875 41.125 36.953125 \nQ 45.015625 41.5 45.015625 49.421875 \nQ 45.015625 57.28125 41.125 61.84375 \nQ 37.25 66.40625 30.609375 66.40625 \nQ 23.96875 66.40625 20.09375 61.84375 \nQ 16.21875 57.28125 16.21875 49.421875 \nQ 16.21875 41.5 20.09375 36.953125 \nQ 23.96875 32.421875 30.609375 32.421875 \nz\n\" id=\"DejaVuSans-57\"/>\n      </defs>\n      <g transform=\"translate(20.878125 59.39174)scale(0.1 -0.1)\">\n       <use xlink:href=\"#DejaVuSans-57\"/>\n       <use x=\"63.623047\" xlink:href=\"#DejaVuSans-48\"/>\n      </g>\n     </g>\n    </g>\n    <g id=\"text_15\">\n     <!-- Time until next eruption[min] -->\n     <defs>\n      <path d=\"M -0.296875 72.90625 \nL 61.375 72.90625 \nL 61.375 64.59375 \nL 35.5 64.59375 \nL 35.5 0 \nL 25.59375 0 \nL 25.59375 64.59375 \nL -0.296875 64.59375 \nz\n\" id=\"DejaVuSans-84\"/>\n      <path d=\"M 9.421875 75.984375 \nL 18.40625 75.984375 \nL 18.40625 0 \nL 9.421875 0 \nz\n\" id=\"DejaVuSans-108\"/>\n      <path d=\"M 54.890625 54.6875 \nL 35.109375 28.078125 \nL 55.90625 0 \nL 45.3125 0 \nL 29.390625 21.484375 \nL 13.484375 0 \nL 2.875 0 \nL 24.125 28.609375 \nL 4.6875 54.6875 \nL 15.28125 54.6875 \nL 29.78125 35.203125 \nL 44.28125 54.6875 \nz\n\" id=\"DejaVuSans-120\"/>\n     </defs>\n     <g transform=\"translate(14.798437 243.815938)rotate(-90)scale(0.1 -0.1)\">\n      <use xlink:href=\"#DejaVuSans-84\"/>\n      <use x=\"57.958984\" xlink:href=\"#DejaVuSans-105\"/>\n      <use x=\"85.742188\" xlink:href=\"#DejaVuSans-109\"/>\n      <use x=\"183.154297\" xlink:href=\"#DejaVuSans-101\"/>\n      <use x=\"244.677734\" xlink:href=\"#DejaVuSans-32\"/>\n      <use x=\"276.464844\" xlink:href=\"#DejaVuSans-117\"/>\n      <use x=\"339.84375\" xlink:href=\"#DejaVuSans-110\"/>\n      <use x=\"403.222656\" xlink:href=\"#DejaVuSans-116\"/>\n      <use x=\"442.431641\" xlink:href=\"#DejaVuSans-105\"/>\n      <use x=\"470.214844\" xlink:href=\"#DejaVuSans-108\"/>\n      <use x=\"497.998047\" xlink:href=\"#DejaVuSans-32\"/>\n      <use x=\"529.785156\" xlink:href=\"#DejaVuSans-110\"/>\n      <use x=\"593.164062\" xlink:href=\"#DejaVuSans-101\"/>\n      <use x=\"652.9375\" xlink:href=\"#DejaVuSans-120\"/>\n      <use x=\"712.117188\" xlink:href=\"#DejaVuSans-116\"/>\n      <use x=\"751.326172\" xlink:href=\"#DejaVuSans-32\"/>\n      <use x=\"783.113281\" xlink:href=\"#DejaVuSans-101\"/>\n      <use x=\"844.636719\" xlink:href=\"#DejaVuSans-114\"/>\n      <use x=\"885.75\" xlink:href=\"#DejaVuSans-117\"/>\n      <use x=\"949.128906\" xlink:href=\"#DejaVuSans-112\"/>\n      <use x=\"1012.605469\" xlink:href=\"#DejaVuSans-116\"/>\n      <use x=\"1051.814453\" xlink:href=\"#DejaVuSans-105\"/>\n      <use x=\"1079.597656\" xlink:href=\"#DejaVuSans-111\"/>\n      <use x=\"1140.779297\" xlink:href=\"#DejaVuSans-110\"/>\n      <use x=\"1204.158203\" xlink:href=\"#DejaVuSans-91\"/>\n      <use x=\"1243.171875\" xlink:href=\"#DejaVuSans-109\"/>\n      <use x=\"1340.583984\" xlink:href=\"#DejaVuSans-105\"/>\n      <use x=\"1368.367188\" xlink:href=\"#DejaVuSans-110\"/>\n      <use x=\"1431.746094\" xlink:href=\"#DejaVuSans-93\"/>\n     </g>\n    </g>\n   </g>\n   <g id=\"patch_3\">\n    <path d=\"M 40.603125 333.36 \nL 40.603125 7.2 \n\" style=\"fill:none;stroke:#000000;stroke-linecap:square;stroke-linejoin:miter;stroke-width:0.8;\"/>\n   </g>\n   <g id=\"patch_4\">\n    <path d=\"M 487.003125 333.36 \nL 487.003125 7.2 \n\" style=\"fill:none;stroke:#000000;stroke-linecap:square;stroke-linejoin:miter;stroke-width:0.8;\"/>\n   </g>\n   <g id=\"patch_5\">\n    <path d=\"M 40.603125 333.36 \nL 487.003125 333.36 \n\" style=\"fill:none;stroke:#000000;stroke-linecap:square;stroke-linejoin:miter;stroke-width:0.8;\"/>\n   </g>\n   <g id=\"patch_6\">\n    <path d=\"M 40.603125 7.2 \nL 487.003125 7.2 \n\" style=\"fill:none;stroke:#000000;stroke-linecap:square;stroke-linejoin:miter;stroke-width:0.8;\"/>\n   </g>\n  </g>\n </g>\n <defs>\n  <clipPath id=\"ped1406c267\">\n   <rect height=\"326.16\" width=\"446.4\" x=\"40.603125\" y=\"7.2\"/>\n  </clipPath>\n </defs>\n</svg>\n",
      "image/png": "[encoded data removed]"
     },
     "metadata": {
      "needs_background": "light"
     }
    }
   ],
   "source": [
    "%matplotlib inline\n",
    "import numpy as np\n",
    "import matplotlib.pyplot as plt\n",
    "plt.figure(figsize=(8,6))\n",
    "\n",
    "plt.scatter(X, Y, s=None, c=None, marker=None, cmap=None, norm=None, vmin=None, vmax=None, alpha=None, linewidths=None, edgecolors=None)\n",
    "\n",
    "plt.xlabel('Length of eruption[min]')\n",
    "plt.ylabel('Time until next eruption[min]')\n",
    "plt.axis('tight')\n",
    "plt.show()"
   ]
  },
  {
   "cell_type": "markdown",
   "metadata": {
    "deletable": false,
    "editable": false,
    "nbgrader": {
     "cell_type": "markdown",
     "checksum": "2140899aaaa3fd41988998c005341021",
     "grade": false,
     "grade_id": "cell-f4082fd2776a70cb",
     "locked": true,
     "schema_version": 3,
     "solution": false,
     "task": false
    }
   },
   "source": [
    "**d)** Looking at the plot, what can you observe?"
   ]
  },
  {
   "cell_type": "markdown",
   "metadata": {
    "deletable": false,
    "nbgrader": {
     "cell_type": "markdown",
     "checksum": "fd753ad0e87b4d57eb2a40b1abd6e8eb",
     "grade": true,
     "grade_id": "cell-5370ee9c6fd4faf1",
     "locked": false,
     "points": 2,
     "schema_version": 3,
     "solution": true,
     "task": false
    }
   },
   "source": [
    "There seems to be a linear relationship between the waiting time and duration of an eruption. As the waiting time increases, the duration of the eruption increases."
   ]
  },
  {
   "cell_type": "markdown",
   "metadata": {
    "deletable": false,
    "editable": false,
    "nbgrader": {
     "cell_type": "markdown",
     "checksum": "2981e92f30db3b94d325c27fb97de751",
     "grade": false,
     "grade_id": "cell-e409d0816baec257",
     "locked": true,
     "schema_version": 3,
     "solution": false,
     "task": false
    }
   },
   "source": [
    "## Assignment 2: The Iris Dataset [10 Points]\n",
    "\n",
    "The Iris Dataset is another Machine Learning Toy Dataset. The goal is to *classify* the iris plant into three sub-species or *classes* displayed below: I. setosa, I. versicolor, and I. virginica. For that four *features*, the length and width of both the petal and sepal leaves are provided. More information is found [here](https://archive.ics.uci.edu/ml/datasets/Iris/). This type of problem is a *Classification* task in which a mapping from *features* to *label* or *class* has to be learned usind *training samples*. For new *samples* of unknown class, the class has to be *predicted* from the features.\n",
    "\n",
    "![iris1](iris1.jpg) ![iris2](iris2.jpg) ![iris3](iris3.jpg) "
   ]
  },
  {
   "cell_type": "markdown",
   "metadata": {
    "deletable": false,
    "editable": false,
    "nbgrader": {
     "cell_type": "markdown",
     "checksum": "d9657ad1889f728313442df46af5cca9",
     "grade": false,
     "grade_id": "cell-8fc518bf360d90ab",
     "locked": true,
     "schema_version": 3,
     "solution": false,
     "task": false
    }
   },
   "source": [
    "In this case data is provided in the file `iris.json` in the [json data interchange format](https://en.wikipedia.org/wiki/JSON). "
   ]
  },
  {
   "cell_type": "markdown",
   "metadata": {
    "deletable": false,
    "editable": false,
    "nbgrader": {
     "cell_type": "markdown",
     "checksum": "5df8e943610041c5902d646c3e74aef8",
     "grade": false,
     "grade_id": "cell-ba281bc738a9dc79",
     "locked": true,
     "schema_version": 3,
     "solution": false,
     "task": false
    }
   },
   "source": [
    "**a)** Open the `iris.json` file (from the Stud.IP exercise folder) with a standard text editor and briefly describe the structure and the content of the file."
   ]
  },
  {
   "cell_type": "markdown",
   "metadata": {
    "deletable": false,
    "nbgrader": {
     "cell_type": "markdown",
     "checksum": "921035fd9b7371d16cb47fef00ed5d45",
     "grade": true,
     "grade_id": "cell-1cb3d6ec00a26d08",
     "locked": false,
     "points": 1,
     "schema_version": 3,
     "solution": true,
     "task": false
    }
   },
   "source": [
    "YOUR ANSWER HERE"
   ]
  },
  {
   "cell_type": "markdown",
   "metadata": {},
   "source": [
    "We now load the Python module [json](https://docs.python.org/3/library/json.html) to import the iris data into python and work with it:"
   ]
  },
  {
   "cell_type": "code",
   "execution_count": null,
   "metadata": {
    "deletable": false,
    "editable": false,
    "nbgrader": {
     "cell_type": "code",
     "checksum": "03a10b33b0109131b9029902d1d64273",
     "grade": false,
     "grade_id": "cell-3c732be6faa525cf",
     "locked": true,
     "schema_version": 3,
     "solution": false,
     "task": false
    }
   },
   "outputs": [],
   "source": [
    "import json"
   ]
  },
  {
   "cell_type": "markdown",
   "metadata": {
    "deletable": false,
    "editable": false,
    "nbgrader": {
     "cell_type": "markdown",
     "checksum": "6d9bbb3757df774e10522f6b8c177882",
     "grade": false,
     "grade_id": "cell-d5b9b9c66d686422",
     "locked": true,
     "schema_version": 3,
     "solution": false,
     "task": false
    }
   },
   "source": [
    "We need also the [numpy](https://numpy.org/) module for computing and array manipulation:"
   ]
  },
  {
   "cell_type": "code",
   "execution_count": null,
   "metadata": {
    "deletable": false,
    "editable": false,
    "nbgrader": {
     "cell_type": "code",
     "checksum": "e82d83847fa0e5da78a52f7ede3a4080",
     "grade": false,
     "grade_id": "cell-2ac1ec92c9c9cab7",
     "locked": true,
     "schema_version": 3,
     "solution": false,
     "task": false
    }
   },
   "outputs": [],
   "source": [
    "import numpy as np"
   ]
  },
  {
   "cell_type": "markdown",
   "metadata": {
    "deletable": false,
    "editable": false,
    "nbgrader": {
     "cell_type": "markdown",
     "checksum": "7ec6ea2b3d4095229c1c971bd03a2d63",
     "grade": false,
     "grade_id": "cell-9ee9355585331dfc",
     "locked": true,
     "schema_version": 3,
     "solution": false,
     "task": false
    }
   },
   "source": [
    "We can now load the dataset into python:"
   ]
  },
  {
   "cell_type": "code",
   "execution_count": null,
   "metadata": {
    "deletable": false,
    "editable": false,
    "nbgrader": {
     "cell_type": "code",
     "checksum": "cab7704577778ee0e255ec3c930ce2d2",
     "grade": false,
     "grade_id": "cell-e7cf3b63fdc1dd59",
     "locked": true,
     "schema_version": 3,
     "solution": false,
     "task": false
    }
   },
   "outputs": [],
   "source": [
    "# load file\n",
    "with open('iris.json') as iris_file:\n",
    "    iris = json.load(iris_file)"
   ]
  },
  {
   "cell_type": "markdown",
   "metadata": {
    "deletable": false,
    "editable": false,
    "nbgrader": {
     "cell_type": "markdown",
     "checksum": "f3ee6dce6dab4867d88acfc352dcb6b3",
     "grade": false,
     "grade_id": "cell-ce9880255b9b7df5",
     "locked": true,
     "schema_version": 3,
     "solution": false,
     "task": false
    }
   },
   "source": [
    "And print some basic information of the dataset:"
   ]
  },
  {
   "cell_type": "code",
   "execution_count": null,
   "metadata": {
    "deletable": false,
    "editable": false,
    "nbgrader": {
     "cell_type": "code",
     "checksum": "550ec0e5252137af2d24eaad35b2ba31",
     "grade": false,
     "grade_id": "cell-29a9fccf2e9362b8",
     "locked": true,
     "schema_version": 3,
     "solution": false,
     "task": false
    }
   },
   "outputs": [],
   "source": [
    "print('Datatype:', type(iris))\n",
    "print('Keys:', iris.keys())\n",
    "print('Attributes:', iris.get('attributes'))\n",
    "print('Labels:', iris.get('target_names'))\n",
    "print('Number of samples:', len(iris.get('targets')))"
   ]
  },
  {
   "cell_type": "markdown",
   "metadata": {
    "deletable": false,
    "editable": false,
    "nbgrader": {
     "cell_type": "markdown",
     "checksum": "d32929f0ba74951dd53cd6fd77720581",
     "grade": false,
     "grade_id": "cell-d8303190380d69de",
     "locked": true,
     "schema_version": 3,
     "solution": false,
     "task": false
    }
   },
   "source": [
    "**b)** Explain each of the above printed lines and what they tell you about the dataset"
   ]
  },
  {
   "cell_type": "markdown",
   "metadata": {
    "deletable": false,
    "nbgrader": {
     "cell_type": "markdown",
     "checksum": "f8f15169fb7a35d2a85903b0a7eae7ca",
     "grade": true,
     "grade_id": "cell-eceff7c76450b9d6",
     "locked": false,
     "points": 1,
     "schema_version": 3,
     "solution": true,
     "task": false
    }
   },
   "source": [
    "YOUR ANSWER HERE"
   ]
  },
  {
   "cell_type": "markdown",
   "metadata": {
    "deletable": false,
    "editable": false,
    "nbgrader": {
     "cell_type": "markdown",
     "checksum": "9ac0c6e4eed5f4ab823f9cbee2a8d9c7",
     "grade": false,
     "grade_id": "cell-46ee4675fdc31a70",
     "locked": true,
     "schema_version": 3,
     "solution": false,
     "task": false
    }
   },
   "source": [
    "We can also print information of a single *sample* of the dataset:"
   ]
  },
  {
   "cell_type": "code",
   "execution_count": null,
   "metadata": {
    "deletable": false,
    "nbgrader": {
     "cell_type": "code",
     "checksum": "0020aa36198e09a14770528f0b26e15e",
     "grade": true,
     "grade_id": "cell-436da63761dd1e56",
     "locked": false,
     "points": 2,
     "schema_version": 3,
     "solution": true,
     "task": false
    }
   },
   "outputs": [],
   "source": [
    "# Cast data to correct data type and convert to numpy array\n",
    "X = np.array(iris.get('data')).astype(np.float)\n",
    "Y = np.array(iris.get('targets')).astype(np.int)\n",
    "example_num = 42\n",
    "# YOUR CODE HERE\n",
    "print()\n",
    "print('Example data:', X[example_num])\n",
    "print('Example target:', Y[example_num])"
   ]
  },
  {
   "cell_type": "markdown",
   "metadata": {
    "deletable": false,
    "editable": false,
    "nbgrader": {
     "cell_type": "markdown",
     "checksum": "5ace03c1cdc2f7bcf35212d25d38d1a9",
     "grade": false,
     "grade_id": "cell-983b0fe1e46595d8",
     "locked": true,
     "schema_version": 3,
     "solution": false,
     "task": false
    }
   },
   "source": [
    "**c)** Print another example. Think about the function of the first two lines in the code above and discuss with your tutors."
   ]
  },
  {
   "cell_type": "markdown",
   "metadata": {
    "deletable": false,
    "editable": false,
    "nbgrader": {
     "cell_type": "markdown",
     "checksum": "83e7edd2399d9f5aecc8961746457189",
     "grade": false,
     "grade_id": "cell-8d4f0f01c41b0596",
     "locked": true,
     "schema_version": 3,
     "solution": false,
     "task": false
    }
   },
   "source": [
    "To get more insight into our dataset we could print more samples but visualisation is the better solution. For that we use the [matplotlib](https://matplotlib.org/) module:"
   ]
  },
  {
   "cell_type": "code",
   "execution_count": null,
   "metadata": {
    "deletable": false,
    "nbgrader": {
     "cell_type": "code",
     "checksum": "b8de8d71f392b27e0b05a1766968f2d6",
     "grade": true,
     "grade_id": "cell-d401f4d341343f65",
     "locked": false,
     "points": 2,
     "schema_version": 3,
     "solution": true,
     "task": false
    }
   },
   "outputs": [],
   "source": [
    "# Visualize data partially\n",
    "%matplotlib notebook\n",
    "import matplotlib.pyplot as plt\n",
    "\n",
    "plt.figure(figsize=(8,6))\n",
    "\n",
    "attr_num1 = 2\n",
    "attr_num2 = 3\n",
    "# YOUR CODE HERE\n",
    "\n",
    "x_min, x_max = X[:, attr_num1].min() - .5, X[:, attr_num1].max() + .5\n",
    "y_min, y_max = X[:, attr_num2].min() - .5, X[:, attr_num2].max() + .5\n",
    "\n",
    "plt.scatter(X[:,attr_num1], X[:,attr_num2], c=Y, cmap=plt.cm.Set1, edgecolor='k')\n",
    "plt.xlabel(iris.get('attributes')[attr_num1])\n",
    "plt.ylabel(iris.get('attributes')[attr_num2])\n",
    "plt.show()"
   ]
  },
  {
   "cell_type": "markdown",
   "metadata": {
    "deletable": false,
    "editable": false,
    "nbgrader": {
     "cell_type": "markdown",
     "checksum": "6fb7af28c8e9ab911c4d6da3ff3fdaa1",
     "grade": false,
     "grade_id": "cell-dcd2daf305cb7f07",
     "locked": true,
     "schema_version": 3,
     "solution": false,
     "task": false
    }
   },
   "source": [
    "**d)** Explain what the code above does and what is plotted in the graph. Then use another feature combination."
   ]
  },
  {
   "cell_type": "markdown",
   "metadata": {
    "deletable": false,
    "nbgrader": {
     "cell_type": "markdown",
     "checksum": "65b8783f3757b99189ae51ff94f7c040",
     "grade": true,
     "grade_id": "cell-10f202d42414663b",
     "locked": false,
     "points": 2,
     "schema_version": 3,
     "solution": true,
     "task": false
    }
   },
   "source": [
    "YOUR ANSWER HERE"
   ]
  },
  {
   "cell_type": "markdown",
   "metadata": {
    "deletable": false,
    "editable": false,
    "nbgrader": {
     "cell_type": "markdown",
     "checksum": "c5c526ff79e2e0799d8317f83bab577b",
     "grade": false,
     "grade_id": "cell-dcfdfe46e48579f4",
     "locked": true,
     "schema_version": 3,
     "solution": false,
     "task": false
    }
   },
   "source": [
    "If we want to plot all possible feature combinations, we can use functions of the [seaborn](https://seaborn.pydata.org) modul, which again is based on the [pandas](https://pandas.pydata.org/) module:"
   ]
  },
  {
   "cell_type": "code",
   "execution_count": null,
   "metadata": {},
   "outputs": [],
   "source": [
    "import pandas as pd\n",
    "import seaborn as sns\n",
    "\n",
    "sns.set(style=\"ticks\")\n",
    "# create pandas data frame from features\n",
    "df = pd.DataFrame(iris.get('data'), columns=iris.get('attributes'))\n",
    "# add the classes\n",
    "df['class'] = iris.get('targets')\n",
    "\n",
    "sns.pairplot(df,hue=\"class\", height=2)"
   ]
  },
  {
   "cell_type": "markdown",
   "metadata": {
    "deletable": false,
    "editable": false,
    "nbgrader": {
     "cell_type": "markdown",
     "checksum": "9eddd776701e295748aee931eb36e015",
     "grade": false,
     "grade_id": "cell-16cc676eed3fe0da",
     "locked": true,
     "schema_version": 3,
     "solution": false,
     "task": false
    }
   },
   "source": [
    "**e)** What is displayed in the graphs above?"
   ]
  },
  {
   "cell_type": "markdown",
   "metadata": {
    "deletable": false,
    "nbgrader": {
     "cell_type": "markdown",
     "checksum": "139e01ea8af188f599fac6e1192d40c7",
     "grade": true,
     "grade_id": "cell-e2996fa1944585de",
     "locked": false,
     "points": 2,
     "schema_version": 3,
     "solution": true,
     "task": false
    }
   },
   "source": [
    "YOUR ANSWER HERE"
   ]
  },
  {
   "cell_type": "markdown",
   "metadata": {
    "deletable": false,
    "editable": false,
    "nbgrader": {
     "cell_type": "markdown",
     "checksum": "7f46c1f2da0e88112c8148f51b26e177",
     "grade": false,
     "grade_id": "cell-8cac99248b84482a",
     "locked": true,
     "schema_version": 3,
     "solution": false,
     "task": false
    }
   },
   "source": [
    "**Bonus)** We can also use Principal Component Analysis to visualize the data. For that we use [scikit-learn](https://scikit-learn.org/stable/index.html). Explain what the code below does."
   ]
  },
  {
   "cell_type": "code",
   "execution_count": null,
   "metadata": {
    "deletable": false,
    "editable": false,
    "nbgrader": {
     "cell_type": "code",
     "checksum": "c625985f020d02aa4acd26d4587b691e",
     "grade": false,
     "grade_id": "cell-484e2326741cdd8a",
     "locked": true,
     "schema_version": 3,
     "solution": false,
     "task": false
    }
   },
   "outputs": [],
   "source": [
    "# PCA to visualize data completely\n",
    "from mpl_toolkits.mplot3d import Axes3D\n",
    "from sklearn.decomposition import PCA\n",
    "\n",
    "fig = plt.figure(figsize=(8, 6))\n",
    "ax = Axes3D(fig, elev=-150, azim=110)\n",
    "X_reduced = PCA(n_components=3).fit_transform(X)\n",
    "ax.scatter(X_reduced[:, 0], X_reduced[:, 1], X_reduced[:, 2], c=Y,\n",
    "           cmap=plt.cm.Set1, edgecolor='k', s=40)\n",
    "ax.set_title(\"First three PCA directions\")\n",
    "ax.set_xlabel(\"1st eigenvector\")\n",
    "ax.w_xaxis.set_ticklabels([])\n",
    "ax.set_ylabel(\"2nd eigenvector\")\n",
    "ax.w_yaxis.set_ticklabels([])\n",
    "ax.set_zlabel(\"3rd eigenvector\")\n",
    "ax.w_zaxis.set_ticklabels([])\n",
    "\n",
    "plt.show()"
   ]
  },
  {
   "cell_type": "markdown",
   "metadata": {
    "deletable": false,
    "nbgrader": {
     "cell_type": "markdown",
     "checksum": "d7e29c7ca1eb0b5569dae861c4f5d402",
     "grade": true,
     "grade_id": "cell-85348eda0938ab9b",
     "locked": false,
     "points": 0,
     "schema_version": 3,
     "solution": true,
     "task": false
    }
   },
   "source": [
    "YOUR ANSWER HERE"
   ]
  },
  {
   "cell_type": "markdown",
   "metadata": {
    "deletable": false,
    "editable": false,
    "nbgrader": {
     "cell_type": "markdown",
     "checksum": "895b43ee16983da1e73f2568e4d624f0",
     "grade": false,
     "grade_id": "cell-2ffac9b50e51a50b",
     "locked": true,
     "schema_version": 3,
     "solution": false,
     "task": false
    }
   },
   "source": [
    "## Bottom Line\n",
    "If you want to do more take a look at the [scikit-learn](https://scikit-learn.org/stable/tutorial/index.html) or the [seaborn](https://seaborn.pydata.org/tutorial.html) tutorial. You can try to load and visualize another dataset or have a closer look at [numpy](https://numpy.org/devdocs/user/quickstart.html) and [matplotlib](https://matplotlib.org/3.1.3/tutorials/introductory/pyplot.html#sphx-glr-tutorials-introductory-pyplot-py)."
   ]
  }
 ],
 "metadata": {
  "kernelspec": {
   "display_name": "Python 3.6.9 64-bit",
   "language": "python",
   "name": "python36964bit8d95413712d7475e9341d38e75f0d6d1"
  },
  "language_info": {
   "codemirror_mode": {
    "name": "ipython",
    "version": 3
   },
   "file_extension": ".py",
   "mimetype": "text/x-python",
   "name": "python",
   "nbconvert_exporter": "python",
   "pygments_lexer": "ipython3",
   "version": "3.6.9-final"
  },
  "toc": {
   "base_numbering": 1,
   "nav_menu": {},
   "number_sections": true,
   "sideBar": true,
   "skip_h1_title": false,
   "title_cell": "Table of Contents",
   "title_sidebar": "Contents",
   "toc_cell": false,
   "toc_position": {},
   "toc_section_display": true,
   "toc_window_display": false
  }
 },
 "nbformat": 4,
 "nbformat_minor": 4
}
{
 "cells": [
  {
   "cell_type": "markdown",
   "metadata": {
    "deletable": false,
    "editable": false,
    "nbgrader": {
     "cell_type": "markdown",
     "checksum": "854157be79d96ba9515f2461b53750a5",
     "grade": false,
     "grade_id": "header",
     "locked": true,
     "schema_version": 3,
     "solution": false
    }
   },
   "source": [
    "Osnabrück University - Machine Learning (Summer Term 2020) - Prof. Dr.-Ing. G. Heidemann, Ulf Krumnack, Axel Schaffland"
   ]
  },
  {
   "cell_type": "markdown",
   "metadata": {
    "deletable": false,
    "editable": false,
    "nbgrader": {
     "cell_type": "markdown",
     "checksum": "60fb6a7056eccb2d4420f6526d4865a9",
     "grade": false,
     "grade_id": "title",
     "locked": true,
     "schema_version": 3,
     "solution": false
    }
   },
   "source": [
    "# Exercise Sheet 02: Decision Trees"
   ]
  },
  {
   "cell_type": "markdown",
   "metadata": {
    "deletable": false,
    "editable": false,
    "nbgrader": {
     "cell_type": "markdown",
     "checksum": "3756188f6d76d8a52d79ac911d216758",
     "grade": false,
     "grade_id": "introduction",
     "locked": true,
     "schema_version": 3,
     "solution": false
    }
   },
   "source": [
    "## Introduction\n",
    "By now everyone should have found a group. If someone still has none but wants to participate in the course please contact one of the tutors.\n",
    "\n",
    "This week's sheet should be solved and handed in before the end of **Saturday, May 9th, 2020**. If you need help (and Google and other resources were not enough), feel free to contact your groups designated tutor or whom ever of us you run into first. Please upload your results to your group's studip folder."
   ]
  },
  {
   "cell_type": "markdown",
   "metadata": {
    "deletable": false,
    "editable": false,
    "nbgrader": {
     "cell_type": "markdown",
     "checksum": "86e66a15936528bc082fd066e96936aa",
     "grade": false,
     "grade_id": "math-euclid",
     "locked": true,
     "schema_version": 3,
     "solution": false
    }
   },
   "source": [
    "## Assignment 0: Math recap (Euclidean Space) [0 Points]\n",
    "\n",
    "This exercise is supposed to be very easy and is voluntary. There will be a similar exercise on every sheet.\n",
    "It is intended to revise some basic mathematical notions that are assumed throughout this class and to allow you to check if you are comfortable with them.\n",
    "Usually you should have no problem to answer these questions offhand, but if you feel unsure, this is a good time to look them up again. You are always welcome to discuss questions with the tutors or in the practice session.\n",
    "Also, if you have a (math) topic you would like to recap, please let us know."
   ]
  },
  {
   "cell_type": "markdown",
   "metadata": {
    "deletable": false,
    "editable": false,
    "nbgrader": {
     "cell_type": "markdown",
     "checksum": "899ac70855dbd336b6edef96c4c1a6f5",
     "grade": false,
     "grade_id": "math-euclid-q1",
     "locked": true,
     "schema_version": 3,
     "solution": false
    }
   },
   "source": [
    "**a)** What is a *Euclidean space*? What is the *Cartesian plane*? How are they usually denoted? How to write points in these spaces?"
   ]
  },
  {
   "cell_type": "markdown",
   "metadata": {
    "collapsed": true,
    "deletable": false,
    "nbgrader": {
     "cell_type": "markdown",
     "checksum": "10da800d32483f0d4bfa9cf43624b3c0",
     "grade": true,
     "grade_id": "math-euclid-a1",
     "locked": false,
     "points": 0,
     "schema_version": 3,
     "solution": true
    },
    "solution": true
   },
   "source": [
    "YOUR ANSWER HERE"
   ]
  },
  {
   "cell_type": "markdown",
   "metadata": {
    "deletable": false,
    "editable": false,
    "nbgrader": {
     "cell_type": "markdown",
     "checksum": "0bf071a4c6d1ff977bcd336eb96d7daa",
     "grade": false,
     "grade_id": "math-euclid-q2",
     "locked": true,
     "schema_version": 3,
     "solution": false
    }
   },
   "source": [
    "**b)** What is the *norm* of a vector in a Euclidean space? How to *add* and *substract* two vectors? How is the *Euclidean distance* defined? Are there other ways to measure distances?"
   ]
  },
  {
   "cell_type": "markdown",
   "metadata": {
    "collapsed": true,
    "deletable": false,
    "nbgrader": {
     "cell_type": "markdown",
     "checksum": "4f95335b2228d0766f6bdbbba83f857d",
     "grade": true,
     "grade_id": "math-euclid-a2",
     "locked": false,
     "points": 0,
     "schema_version": 3,
     "solution": true
    },
    "solution": true
   },
   "source": [
    "YOUR ANSWER HERE"
   ]
  },
  {
   "cell_type": "markdown",
   "metadata": {
    "deletable": false,
    "editable": false,
    "nbgrader": {
     "cell_type": "markdown",
     "checksum": "c7a7304a941a4864f1c0ad2cce2d86b3",
     "grade": false,
     "grade_id": "math-euclid-q3",
     "locked": true,
     "schema_version": 3,
     "solution": false
    }
   },
   "source": [
    "**c)** What is the (standard) *scalar product* of two vectors? How is it related to the length and angle between these vectors? Name some use cases."
   ]
  },
  {
   "cell_type": "markdown",
   "metadata": {
    "collapsed": true,
    "deletable": false,
    "nbgrader": {
     "cell_type": "markdown",
     "checksum": "e5c2f82430f4ba30219c7b0e9a43836d",
     "grade": true,
     "grade_id": "math-euclid-a3",
     "locked": false,
     "points": 0,
     "schema_version": 3,
     "solution": true
    },
    "solution": true
   },
   "source": [
    "YOUR ANSWER HERE"
   ]
  },
  {
   "cell_type": "markdown",
   "metadata": {
    "deletable": false,
    "editable": false,
    "nbgrader": {
     "cell_type": "markdown",
     "checksum": "4d8851499df24faff207a9fe289f2e6c",
     "grade": false,
     "grade_id": "1",
     "locked": true,
     "schema_version": 3,
     "solution": false
    }
   },
   "source": [
    "## Assignment 1: Decision Trees [4 Points]\n",
    "Draw the decision trees for the following boolean functions. Either use pen and paper and scan/photograph the result or employ your ASCII artist within below. \n",
    "\n",
    "Note: $\\oplus := xor$, that means one of the operands has to be true, while the other one has to be false:\n",
    "\n",
    "$\\oplus$ | $B$ | $\\neg B$\n",
    "---------|-----|---------\n",
    "$A$      |  f  |    t\n",
    "$\\neg A$ |  t  |    f"
   ]
  },
  {
   "cell_type": "markdown",
   "metadata": {
    "deletable": false,
    "editable": false,
    "nbgrader": {
     "cell_type": "markdown",
     "checksum": "036b14fec23ad7a705b874c9aaf562d1",
     "grade": false,
     "grade_id": "1a",
     "locked": true,
     "schema_version": 3,
     "solution": false
    }
   },
   "source": [
    "**a)** $\\neg A \\wedge B$\n"
   ]
  },
  {
   "cell_type": "markdown",
   "metadata": {
    "deletable": false,
    "nbgrader": {
     "cell_type": "markdown",
     "checksum": "a9f2836883e282f83c51bd783028777f",
     "grade": true,
     "grade_id": "1a-answer",
     "locked": false,
     "points": 1,
     "schema_version": 3,
     "solution": true
    },
    "solution": true
   },
   "source": [
    "![a](a.png)"
   ]
  },
  {
   "cell_type": "markdown",
   "metadata": {
    "deletable": false,
    "editable": false,
    "nbgrader": {
     "cell_type": "markdown",
     "checksum": "5b13aecaf503aeeb4b22ccbba0e26340",
     "grade": false,
     "grade_id": "1b",
     "locked": true,
     "schema_version": 3,
     "solution": false
    }
   },
   "source": [
    "**b)** $A \\oplus B$ "
   ]
  },
  {
   "cell_type": "markdown",
   "metadata": {
    "deletable": false,
    "nbgrader": {
     "cell_type": "markdown",
     "checksum": "0f21396484008856a236c6728d2d44f5",
     "grade": true,
     "grade_id": "1b_answer",
     "locked": false,
     "points": 1,
     "schema_version": 3,
     "solution": true
    },
    "solution": true
   },
   "source": [
    "![b](b.png)"
   ]
  },
  {
   "cell_type": "markdown",
   "metadata": {
    "deletable": false,
    "editable": false,
    "nbgrader": {
     "cell_type": "markdown",
     "checksum": "1dd2047cae668a16b2b6da9a50fa9f5b",
     "grade": false,
     "grade_id": "1c",
     "locked": true,
     "schema_version": 3,
     "solution": false
    }
   },
   "source": [
    "**c)** $A \\vee (B \\wedge C) \\vee (\\neg C \\wedge D)$"
   ]
  },
  {
   "cell_type": "markdown",
   "metadata": {
    "deletable": false,
    "nbgrader": {
     "cell_type": "markdown",
     "checksum": "c2af131d635c16e17e405789768f240a",
     "grade": true,
     "grade_id": "1c-answer",
     "locked": false,
     "points": 1,
     "schema_version": 3,
     "solution": true
    },
    "solution": true
   },
   "source": [
    "![c](c.png)"
   ]
  },
  {
   "cell_type": "markdown",
   "metadata": {
    "deletable": false,
    "editable": false,
    "nbgrader": {
     "cell_type": "markdown",
     "checksum": "08d555131bd63c4850d4ea6ce7876315",
     "grade": false,
     "grade_id": "1d",
     "locked": true,
     "schema_version": 3,
     "solution": false
    }
   },
   "source": [
    "**d)** $(A \\rightarrow (B \\wedge \\neg C)) \\vee (A \\wedge B)$"
   ]
  },
  {
   "cell_type": "markdown",
   "metadata": {
    "deletable": false,
    "nbgrader": {
     "cell_type": "markdown",
     "checksum": "21dba1a896d5553904739b917f6da1e6",
     "grade": true,
     "grade_id": "1d-answer",
     "locked": false,
     "points": 1,
     "schema_version": 3,
     "solution": true
    },
    "solution": true
   },
   "source": [
    "![d](d.png)"
   ]
  },
  {
   "cell_type": "markdown",
   "metadata": {
    "deletable": false,
    "editable": false,
    "nbgrader": {
     "cell_type": "markdown",
     "checksum": "b60d7db6c515794ed215753fa117334f",
     "grade": false,
     "grade_id": "2",
     "locked": true,
     "schema_version": 3,
     "solution": false
    }
   },
   "source": [
    "## Assignment 2: Entropy and Information Gain [8 Points]\n",
    "\n",
    "In many machine learning applications it is crucial to determine which criterions are necessary for a good classification. Decision trees have those criterions close to the root, imposing an order from significant to less significant criterions. One way to select the most important criterion is to compare its information gain or its entropy to others. The following dataset is a hands-on example for this method. \n",
    "\n",
    "Consider the following attributes with their possible values:\n",
    "\n",
    "  * $raining = \\{yes, no\\}$\n",
    "  * $tired = \\{yes, no\\}$\n",
    "  * $late = \\{yes, no\\}$\n",
    "  * $distance = \\{short, medium, long\\}$\n",
    "\n",
    "And a training data set consisting of those attributes:\n",
    "\n",
    "| #  | raining | tired | late | distance | attend_party |\n",
    "|----|---------|-------|------|----------|--------------|\n",
    "| 1  | yes     | no    | no   | short    | **yes**      |\n",
    "| 2  | yes     | no    | yes  | medium   | **no**       |\n",
    "| 3  | no      | yes   | no   | long     | **no**       |\n",
    "| 4  | yes     | yes   | yes  | short    | **no**       |\n",
    "| 5  | yes     | no    | no   | short    | **yes**      |\n",
    "| 6  | no      | no    | no   | medium   | **yes**      |\n",
    "| 7  | no      | yes   | no   | long     | **no**       |\n",
    "| 8  | yes     | no    | yes  | short    | **no**       |\n",
    "| 9  | yes     | yes   | no   | short    | **yes**      |\n",
    "| 10 | no      | yes   | no   | medium   | **no**       |\n",
    "| 11 | no      | yes   | no   | long     | **no**       |\n",
    "| 12 | no      | yes   | yes  | short    | **no**       |"
   ]
  },
  {
   "cell_type": "markdown",
   "metadata": {
    "deletable": false,
    "editable": false,
    "nbgrader": {
     "cell_type": "markdown",
     "checksum": "d16aa7ec4daf6aed8b7b8c84d68d4d61",
     "grade": false,
     "grade_id": "2a",
     "locked": true,
     "schema_version": 3,
     "solution": false
    }
   },
   "source": [
    "**a)** Build the root node of a decision tree from the training samples given in the table above by calculating the information gain for all four attributes (raining, tired, late, distance).\n",
    "\n",
    "$$\\operatorname{Gain}(S,A) = \\operatorname{Entropy}(S) - \\sum_{v \\in \\operatorname{Values}(A)} \\frac{|S_v|}{|S|}\\operatorname{Entropy}(S_v)$$\n",
    "\n",
    "$$\\operatorname{Entropy}(S) = -p_{\\oplus} log_{2} p_{\\oplus} - p_{\\ominus} log_{2} p_{\\ominus}$$\n",
    "\n",
    "$S$ is the set of all data samples. $S_v$ is the subset for which attribute $A$ has value $v$. An example for attribute **tired** with value $yes$ would be:\n",
    "$$|S_{yes}| = 7, S_{yes}:[1+, 6−]$$"
   ]
  },
  {
   "cell_type": "markdown",
   "metadata": {
    "deletable": false,
    "nbgrader": {
     "cell_type": "markdown",
     "checksum": "5d13a848d94d3a2552c856f613b1fd2d",
     "grade": true,
     "grade_id": "2a-answer",
     "locked": false,
     "points": 4,
     "schema_version": 3,
     "solution": true
    },
    "solution": true
   },
   "source": [
    "$E(S) = - \\frac{1}{3} log_2(\\frac{1}{3}) - \\frac{2}{3} log_2(\\frac{2}{3}) \\approx 0.918$\n",
    "\n",
    "**RAINING**  \n",
    "\n",
    "$|S_{yes}| = 6, S_{yes}: [3+, 3-] \\quad\\quad |S_{no}| = 6, S_{no}: [1+, 5-]$  \n",
    "$E(S_{yes} = - \\frac{1}{2} log_2(\\frac{1}{2}) - \\frac{1}{2} log_2(\\frac{1}{2}) = 1$  \n",
    "$E(S_{no} = - \\frac{1}{6} log_2(\\frac{1}{6}) - \\frac{5}{6} log_2(\\frac{5}{6}) \\approx 0.650$  \n",
    "$Gain(S, raining) = 0.918 - (\\frac{6}{12} + \\frac{6}{12} \\cdot 0.65) \\approx 0.093$\n",
    "\n",
    "**TIRED**  \n",
    "\n",
    "$|S_{yes}| = 7, S_{yes}: [1+, 6-] \\quad\\quad |S_{no}| = 5, S_{no}: [3+, 2-]$  \n",
    "$E(S_{yes} = - \\frac{1}{7} log_2(\\frac{1}{7}) - \\frac{6}{7} log_2(\\frac{6}{7}) \\approx 0.592$  \n",
    "$E(S_{no} = - \\frac{3}{5} log_2(\\frac{3}{5}) - \\frac{2}{5} log_2(\\frac{2}{5}) \\approx 0.971$  \n",
    "$Gain(S, tired) = 0.918 - (\\frac{7}{12} \\cdot 0.592 + \\frac{5}{12} \\cdot 0.971) \\approx 0.168$\n",
    "\n",
    "**LATE**  \n",
    "\n",
    "$|S_{yes}| = 4, S_{yes}: [0+, 4-] \\quad\\quad |S_{no}| = 8, S_{no}: [4+, 4-]$  \n",
    "$E(S_{yes} = - log_2(1) = 0$  \n",
    "$E(S_{no} = - \\frac{4}{8} log_2(\\frac{4}{8}) - \\frac{4}{8} log_2(\\frac{4}{8}) = 1$  \n",
    "$Gain(S, tired) = 0.918 - (\\frac{4}{12} \\cdot 0 + \\frac{8}{12} \\cdot 1) \\approx 0.251$\n",
    "\n",
    "**DISTANCE**  \n",
    "\n",
    "$|S_{short}| = 6, S_{short}: [3+, 3-] \\quad\\quad |S_{medium}| = 3, S_{medium}: [1+, 2-] \\quad\\quad |S_{long}| = 3, S_{long}: [0+, 3-]$  \n",
    "$E(S_{short} = - \\frac{3}{6} log_2(\\frac{3}{6}) - \\frac{3}{6} log_2(\\frac{3}{6}) = 1$  \n",
    "$E(S_{medium} = - \\frac{1}{3} log_2(\\frac{1}{3}) - \\frac{2}{3} log_2(\\frac{2}{3}) = 0.918$  \n",
    "$E(S_{long} = - 1 \\cdot log_2(1) = 0$  \n",
    "$Gain(S, distance) = 0.918 - (\\frac{6}{12} \\cdot 1 + \\frac{3}{12} \\cdot 0.918 + \\frac{3}{12} \\cdot 0) \\approx 0.189$\n",
    "\n",
    "$\\rightarrow$ **biggest information gain for the attribute *late***"
   ]
  },
  {
   "cell_type": "markdown",
   "metadata": {
    "deletable": false,
    "editable": false,
    "nbgrader": {
     "cell_type": "markdown",
     "checksum": "462907b7cdb40f8c21a7a10f98f41f3a",
     "grade": false,
     "grade_id": "2b",
     "locked": true,
     "schema_version": 3,
     "solution": false
    }
   },
   "source": [
    "**b)** Perform the same calculation as in **a)** but use the gain ratio instead of the information gain. Does the result for the root node change?\n",
    "\n",
    "$$\\operatorname{GainRatio}(S,A) = \\frac{\\operatorname{Gain}(S,A)}{\\operatorname{SplitInformation}(S,A)}$$\n",
    "\n",
    "$$\\operatorname{SplitInformation}(S,A) = - \\sum_{v \\in \\operatorname{Values}(A)} \\frac{|S_v|}{|S|} \\log_{2} \\frac{|S_{v}|}{|S|}$$"
   ]
  },
  {
   "cell_type": "markdown",
   "metadata": {
    "deletable": false,
    "nbgrader": {
     "cell_type": "markdown",
     "checksum": "c536e75b992639fa2b21877a388eda0f",
     "grade": true,
     "grade_id": "2b-answer",
     "locked": false,
     "points": 4,
     "schema_version": 3,
     "solution": true
    },
    "solution": true
   },
   "source": [
    "**RAINING**  \n",
    "\n",
    "$SplitInformation(S, raining) = - (\\frac{6}{12} log_2(\\frac{6}{12}) + \\frac{6}{12} log_2(\\frac{6}{12})) = 1$  \n",
    "$GainRatio(S, raining) = \\frac{0.093}{1} = 0.093$  \n",
    "\n",
    "**TIRED**  \n",
    "\n",
    "$SplitInformation(S, tired) = - (\\frac{7}{12} log_2(\\frac{7}{12}) + \\frac{5}{12} log_2(\\frac{5}{12})) \\approx 0.980$  \n",
    "$GainRatio(S, tired) = \\frac{0.168}{0.980} = 0.171$  \n",
    "\n",
    "**LATE**  \n",
    "\n",
    "$SplitInformation(S, late) = - (\\frac{4}{12} log_2(\\frac{4}{12}) + \\frac{8}{12} log_2(\\frac{8}{12})) \\approx 0.918$  \n",
    "$GainRatio(S, late) = \\frac{0.251}{0.918} \\approx 0.273$  \n",
    "\n",
    "**DISTANCE**  \n",
    "\n",
    "$SplitInformation(S, distance) = - (\\frac{6}{12} log_2(\\frac{6}{12}) + \\frac{3}{12} log_2(\\frac{3}{12}) + \\frac{3}{12} log_2(\\frac{3}{12})) = 1.5$  \n",
    "$GainRatio(S, distance) = \\frac{0.189}{1.5} \\approx 0.126$  \n",
    "\n",
    "**$\\rightarrow$ *late* is still the best attribute**"
   ]
  },
  {
   "cell_type": "markdown",
   "metadata": {
    "deletable": false,
    "editable": false,
    "nbgrader": {
     "cell_type": "markdown",
     "checksum": "3096fd53f8793ef0da892c705ed3f4f8",
     "grade": false,
     "grade_id": "3",
     "locked": true,
     "schema_version": 3,
     "solution": false
    }
   },
   "source": [
    "## Assignment 3: ID3 algorithm [4 Points]\n",
    "\n",
    "Implement the following two functions in Python. Take a look at the `assert`s to see how the function should behave. An assert is a condition that your function is required to pass. Most of the conditions here are taken from the lecture slides (ML-03, Slide 12 & 13). Don't worry if you do not get all asserts to pass, just comment the failing ones out."
   ]
  },
  {
   "cell_type": "markdown",
   "metadata": {
    "deletable": false,
    "editable": false,
    "nbgrader": {
     "cell_type": "markdown",
     "checksum": "c6f905d2d0829b495c78bbb9da30d3e4",
     "grade": false,
     "grade_id": "3a-info",
     "locked": true,
     "schema_version": 3,
     "solution": false
    }
   },
   "source": [
    "**a) Entropy**\n",
    "\n",
    "$$\\operatorname{Entropy}(S) = - \\sum_{i=1...c} p_i \\log_2 p_i$$"
   ]
  },
  {
   "cell_type": "code",
   "execution_count": 9,
   "metadata": {
    "deletable": false,
    "nbgrader": {
     "cell_type": "code",
     "checksum": "04ade5155ee9a4ddf8773ac7c21650b3",
     "grade": true,
     "grade_id": "3a-code",
     "locked": false,
     "points": 1,
     "schema_version": 3,
     "solution": true
    }
   },
   "outputs": [],
   "source": [
    "from math import log2\n",
    "def entropy(s):\n",
    "    \"\"\"\n",
    "    Calculate the entropy for a given target value set. \n",
    "    \n",
    "    Args:\n",
    "        s (list): Target classes for specific observations.\n",
    "        \n",
    "    Returns:\n",
    "        The entropy of s.\n",
    "    \"\"\"\n",
    "    # YOUR CODE HERE\n",
    "    entropy = 0\n",
    "    for val in set(s):\n",
    "        proportion = s.count(val) / len(s)\n",
    "        entropy += proportion * log2(proportion)\n",
    "    return -entropy\n",
    "\n",
    "# See ML-03, Slide 12 & 13"
   ]
  },
  {
   "cell_type": "code",
   "execution_count": 10,
   "metadata": {},
   "outputs": [],
   "source": [
    "assert entropy([1,1,1,0,0,0]) == 1.0\n",
    "assert round(entropy([1,1,1,1,0,0,0]), 3) == 0.985\n",
    "assert round(entropy([1,1,1,1,1,1,0]), 3) == 0.592\n",
    "assert round(entropy([1,1,1,1,1,1,0,0]), 3) == 0.811\n",
    "assert round(entropy([2,2,1,1,0,0]), 3) == 1.585\n",
    "assert round(entropy([2,2,2,1,0]), 3) == 1.371\n",
    "assert round(entropy([2,2,2,0,0]), 3) == 0.971\n",
    "assert entropy(['yes','yes','yes','no','no','no']) == 1.0"
   ]
  },
  {
   "cell_type": "markdown",
   "metadata": {
    "deletable": false,
    "editable": false,
    "nbgrader": {
     "cell_type": "markdown",
     "checksum": "42f8db6f4c8da24a8d3ba6073241b42b",
     "grade": false,
     "grade_id": "3b",
     "locked": true,
     "schema_version": 3,
     "solution": false
    }
   },
   "source": [
    "**b)** Information Gain\n",
    "\n",
    "$$\\operatorname{Gain}(S,A) = \\operatorname{Entropy}(S) - \\sum_{v \\in \\operatorname{Values}(A)} \\frac{|S_v|}{|S|} \\operatorname{Entropy}(S_v)$$"
   ]
  },
  {
   "cell_type": "code",
   "execution_count": 11,
   "metadata": {
    "deletable": false,
    "nbgrader": {
     "cell_type": "code",
     "checksum": "2125b6a58982392af48e26ec77dcae8f",
     "grade": true,
     "grade_id": "3b-code",
     "locked": false,
     "points": 1,
     "schema_version": 3,
     "solution": true
    }
   },
   "outputs": [],
   "source": [
    "def gain(targets, attr_values):\n",
    "    \"\"\"\n",
    "    Calculates the expected reduction in entropy due to sorting on A.\n",
    "    \n",
    "    Args:\n",
    "        targets (list): Target classes for observations in attr_values.\n",
    "        attr_values (list): Values of each instance for the respective attribute.\n",
    "        \n",
    "    Returns:\n",
    "        The information gain of \n",
    "    \"\"\"\n",
    "    # YOUR CODE HERE\n",
    "    gain = entropy(targets)\n",
    "    for val in set(attr_values):\n",
    "        val_subset = [targets[i] for i in range(len(attr_values)) if attr_values[i] == val]\n",
    "        gain -= len(val_subset) / len(targets) * entropy(val_subset)\n",
    "    return gain\n",
    "\n",
    "# See ML-03, Slide 12 & 13\n"
   ]
  },
  {
   "cell_type": "code",
   "execution_count": 12,
   "metadata": {},
   "outputs": [],
   "source": [
    "# The lists here can each be seen as one column of a table such as the one in assignment 2. \n",
    "# Assert targets would be the last column, while the attribute values are the values of one attribute, here the \n",
    "# example rain and distance\n",
    "assert_targets = [\"no\",\"no\",\"yes\",\"yes\",\"yes\",\"no\",\"yes\",\"no\",\"yes\",\"yes\",\"yes\",\"yes\",\"yes\",\"no\"]\n",
    "assert_attribute_values_1 = [\"yes\", \"yes\",\"yes\",\"yes\",\"no\", \"no\", \"no\", \"yes\", \"no\", \"no\", \"no\",\"yes\", \"no\", \"yes\"]\n",
    "assert_attribute_values_2 = [\"high\",\"low\",\"medium\",\"high\",\"high\",\"medium\",\"low\",\"medium\",\"low\",\"high\",\"high\",\"medium\",\"low\",\"low\"]\n",
    "assert_attribute_values_3 = [0,1,0,0,0,1,1,0,0,0,1,1,0,1]\n",
    "assert round(gain(assert_targets, assert_attribute_values_1), 3) == 0.152\n",
    "assert round(gain(assert_targets, assert_attribute_values_2), 3) == 0.05\n",
    "assert round(gain(assert_targets, assert_attribute_values_3), 3) == 0.048"
   ]
  },
  {
   "cell_type": "markdown",
   "metadata": {
    "deletable": false,
    "editable": false,
    "nbgrader": {
     "cell_type": "markdown",
     "checksum": "fcec37c4bc9f90fef3c797d731292bd0",
     "grade": false,
     "grade_id": "3c",
     "locked": true,
     "schema_version": 3,
     "solution": false
    }
   },
   "source": [
    "**c)** ID3\n",
    "\n",
    "In the next two cells we have implemented the ID3 algorithm following the pseudocode from [Wikipedia](https://en.wikipedia.org/wiki/ID3_algorithm#Pseudocode) - it relies on your two functions from above, `entropy` and `gain`. Try to understand what the code does and replace `# YOUR CODE HERE` with meaningful comments describing the respective parts of the code. Though its often annoying, being able to read other peoples code is one of the key skills (and obstacles) in software engineering. So give it a try! Otherwise you are of course welcome to write your own implementation."
   ]
  },
  {
   "cell_type": "code",
   "execution_count": 13,
   "metadata": {
    "deletable": false,
    "nbgrader": {
     "cell_type": "code",
     "checksum": "4ff916d9e5ad08e0fbf068c8a2b30385",
     "grade": true,
     "grade_id": "3c-answer",
     "locked": false,
     "points": 1,
     "schema_version": 3,
     "solution": true
    }
   },
   "outputs": [],
   "source": [
    "from collections import Counter, namedtuple\n",
    "\n",
    "\n",
    "class Node(namedtuple('Node', 'label children')):\n",
    "    \"\"\"\n",
    "    A small node representation with a pretty string representation.\n",
    "    \"\"\"\n",
    "    def __str__(self, level=0):\n",
    "        return_str ='{}{!s}\\n'.format(' ' * level * 4, self.label)\n",
    "        for child in self.children:\n",
    "            return_str += child.__str__(level + 1)\n",
    "        return return_str\n",
    "\n",
    "def id3(examples, attributes, target_attribute=None): \n",
    "    \"\"\"\n",
    "    Calculate a tree of Nodes (fields: label [string], children [list]) \n",
    "    using the ID3 algorithm found as pseudocode on Wikipedia.\n",
    "    \"\"\"\n",
    "    # YOUR CODE HERE\n",
    "    # checks whether all examples are identical\n",
    "    if all(target == examples['targets'][0] for target in examples['targets']):\n",
    "        # returns the target name of all the identical targets\n",
    "        return Node('Result: {!s}'.format(examples['target_names'][examples['targets'][0]]), [])\n",
    "    \n",
    "    # YOUR CODE HERE\n",
    "    # if there is no attribute\n",
    "    if len(attributes) == 0:\n",
    "        # returns the most common target attribute from the data sample\n",
    "        attr = Counter(data_sample[target_attribute] for data_sample in examples['data']).most_common(1)\n",
    "        return Node('Attribute: {!s}, {!s} occurences'.format(examples['attributes'][target_attribute], attr), [])\n",
    "    \n",
    "    # YOUR CODE HERE\n",
    "    # computes list of gains of all attributes\n",
    "    gains = [gain(examples['targets'], [r[attribute] for r in examples['data']]) \n",
    "             for attribute in attributes]\n",
    "    # selects the attribute with the biggest gain\n",
    "    max_gain_attribute = attributes[gains.index(max(gains))]\n",
    "    \n",
    "    # YOUR CODE HERE\n",
    "    # creates the tree's root node with the max gain attribute\n",
    "    root = Node('Attribute: {!s} (gain {!s})'.format(examples['attributes'][max_gain_attribute], \n",
    "                                                     round(max(gains), 4)), [])\n",
    "    \n",
    "    # YOUR CODE HERE\n",
    "    # iterates through the possible values for the max gain attribute\n",
    "    for vi in set(data_sample[max_gain_attribute] for data_sample in examples['data']):\n",
    "        # YOUR CODE HERE\n",
    "        # creates a child node in the tree for the attribute value vi\n",
    "        child = Node('Value: {!s}'.format(vi), [])\n",
    "        root.children.append(child)\n",
    "        \n",
    "        # YOUR CODE HERE\n",
    "        # creates the subset of the data sample with the value vi for the max gain attribute\n",
    "        vi_indices = [idx for idx, data_sample in enumerate(examples['data']) \n",
    "                          if data_sample[max_gain_attribute] == vi]\n",
    "        examples_vi = dict(examples)\n",
    "        examples_vi['data'] = [examples['data'][i] for i in vi_indices]\n",
    "        examples_vi['targets'] = [examples['targets'][i] for i in vi_indices]\n",
    "        \n",
    "        if examples_vi['data']:\n",
    "            # YOUR CODE HERE\n",
    "            # if there are examples for vi, we recursively call id3 for the subtree\n",
    "            child.children.append(\n",
    "                id3(examples_vi,\n",
    "                    [attribute_ for attribute_ in attributes if not attribute_ == max_gain_attribute],\n",
    "                    max_gain_attribute)\n",
    "            )\n",
    "            \n",
    "        else:\n",
    "            # YOUR CODE HERE\n",
    "            # if there are no examples for vi, we add a node with the most common target value\n",
    "            # --> leaf node\n",
    "            attr = Counter(examples_vi['targets']).most_common(1)\n",
    "            label = 'Attribute: {!s}, {!s} occurences'.format(examples['attributes'][target_attribute], attr)\n",
    "            child.children.append(Node(label, []))\n",
    "\n",
    "    return root"
   ]
  },
  {
   "cell_type": "markdown",
   "metadata": {
    "deletable": false,
    "editable": false,
    "nbgrader": {
     "cell_type": "markdown",
     "checksum": "283adee2240e03ad3988aada7a462fd4",
     "grade": false,
     "grade_id": "3d-1",
     "locked": true,
     "schema_version": 3,
     "solution": false
    }
   },
   "source": [
    "**d)** The algorithm is applied to two data sets. Run those and discuss the differences. For which data set is the ID3 algorithm better suited and why?"
   ]
  },
  {
   "cell_type": "markdown",
   "metadata": {
    "deletable": false,
    "editable": false,
    "nbgrader": {
     "cell_type": "markdown",
     "checksum": "0635f51b260f64ea62131b9df63d555b",
     "grade": false,
     "grade_id": "3d-2",
     "locked": true,
     "schema_version": 3,
     "solution": false
    }
   },
   "source": [
    "This code runs the ID3 algorithm on the party data set which you already know from assignment 2."
   ]
  },
  {
   "cell_type": "code",
   "execution_count": 14,
   "metadata": {
    "deletable": false,
    "editable": false,
    "nbgrader": {
     "cell_type": "code",
     "checksum": "b993a47515301e3cd87cf1a9fbd76398",
     "grade": false,
     "grade_id": "3d-3",
     "locked": true,
     "schema_version": 3,
     "solution": false
    }
   },
   "outputs": [
    {
     "output_type": "stream",
     "name": "stdout",
     "text": "Attribute: late (gain 0.2516)\n    Value: no\n        Attribute: distance (gain 0.75)\n            Value: medium\n                Attribute: tired (gain 1.0)\n                    Value: no\n                        Result: yes\n                    Value: yes\n                        Result: no\n            Value: short\n                Result: yes\n            Value: long\n                Result: no\n    Value: yes\n        Result: no\n\n"
    }
   ],
   "source": [
    "import json\n",
    "\n",
    "with open('party.json', 'r') as party_file:\n",
    "    party = json.load(party_file)\n",
    "\n",
    "# Make sure our gain function handles the data set as expected.\n",
    "assert round(gain(party['targets'], [r[2] for r in party['data']]), 3) == 0.252\n",
    "\n",
    "# Apply ID3 algorithm\n",
    "tree_party = id3(party, list(range(len(party['attributes']))))\n",
    "\n",
    "print(tree_party)"
   ]
  },
  {
   "cell_type": "markdown",
   "metadata": {
    "deletable": false,
    "editable": false,
    "nbgrader": {
     "cell_type": "markdown",
     "checksum": "285b54c54b3d45f46a8706d2dc8a1960",
     "grade": false,
     "grade_id": "3d-4",
     "locked": true,
     "schema_version": 3,
     "solution": false
    }
   },
   "source": [
    "This code runs the ID3 algorithm on the famous iris flowers data set, you have seen in the demo from sheet 00."
   ]
  },
  {
   "cell_type": "code",
   "execution_count": 15,
   "metadata": {
    "deletable": false,
    "editable": false,
    "nbgrader": {
     "cell_type": "code",
     "checksum": "3ded027d34301668b53acdab7cd53e3d",
     "grade": false,
     "grade_id": "3d-5",
     "locked": true,
     "schema_version": 3,
     "solution": false
    }
   },
   "outputs": [
    {
     "output_type": "stream",
     "name": "stdout",
     "text": "Attribute: petal length (gain 1.4463)\n    Value: 6.0\n        Result: Iris-virginica\n    Value: 5.4\n        Result: Iris-virginica\n    Value: 4.8\n        Attribute: sepal length (gain 1.0)\n            Value: 6.2\n                Result: Iris-virginica\n            Value: 6.0\n                Result: Iris-virginica\n            Value: 6.8\n                Result: Iris-versicolor\n            Value: 5.9\n                Result: Iris-versicolor\n    Value: 6.3\n        Result: Iris-virginica\n    Value: 6.1\n        Result: Iris-virginica\n    Value: 1.2\n        Result: Iris-setosa\n    Value: 5.2\n        Result: Iris-virginica\n    Value: 3.3\n        Result: Iris-versicolor\n    Value: 1.6\n        Result: Iris-setosa\n    Value: 1.0\n        Result: Iris-setosa\n    Value: 1.9\n        Result: Iris-setosa\n    Value: 5.1\n        Attribute: sepal length (gain 0.5436)\n            Value: 6.0\n                Result: Iris-versicolor\n            Value: 6.9\n                Result: Iris-virginica\n            Value: 6.3\n                Result: Iris-virginica\n            Value: 6.5\n                Result: Iris-virginica\n            Value: 5.8\n                Result: Iris-virginica\n            Value: 5.9\n                Result: Iris-virginica\n    Value: 4.5\n        Attribute: sepal length (gain 0.5436)\n            Value: 6.0\n                Result: Iris-versicolor\n            Value: 5.4\n                Result: Iris-versicolor\n            Value: 5.7\n                Result: Iris-versicolor\n            Value: 5.6\n                Result: Iris-versicolor\n            Value: 4.9\n                Result: Iris-virginica\n            Value: 6.2\n                Result: Iris-versicolor\n            Value: 6.4\n                Result: Iris-versicolor\n    Value: 5.7\n        Result: Iris-virginica\n    Value: 3.5\n        Result: Iris-versicolor\n    Value: 5.9\n        Result: Iris-virginica\n    Value: 5.6\n        Result: Iris-virginica\n    Value: 4.7\n        Result: Iris-versicolor\n    Value: 1.1\n        Result: Iris-setosa\n    Value: 1.7\n        Result: Iris-setosa\n    Value: 3.9\n        Result: Iris-versicolor\n    Value: 6.7\n        Result: Iris-virginica\n    Value: 6.9\n        Result: Iris-virginica\n    Value: 5.5\n        Result: Iris-virginica\n    Value: 4.9\n        Attribute: sepal width (gain 0.971)\n            Value: 3.1\n                Result: Iris-versicolor\n            Value: 3.0\n                Result: Iris-virginica\n            Value: 2.5\n                Result: Iris-versicolor\n            Value: 2.7\n                Result: Iris-virginica\n            Value: 2.8\n                Result: Iris-virginica\n    Value: 5.8\n        Result: Iris-virginica\n    Value: 6.4\n        Result: Iris-virginica\n    Value: 1.4\n        Result: Iris-setosa\n    Value: 3.6\n        Result: Iris-versicolor\n    Value: 4.6\n        Result: Iris-versicolor\n    Value: 1.3\n        Result: Iris-setosa\n    Value: 3.8\n        Result: Iris-versicolor\n    Value: 3.7\n        Result: Iris-versicolor\n    Value: 1.5\n        Result: Iris-setosa\n    Value: 4.4\n        Result: Iris-versicolor\n    Value: 4.1\n        Result: Iris-versicolor\n    Value: 4.3\n        Result: Iris-versicolor\n    Value: 6.6\n        Result: Iris-virginica\n    Value: 3.0\n        Result: Iris-versicolor\n    Value: 4.0\n        Result: Iris-versicolor\n    Value: 5.0\n        Attribute: sepal length (gain 0.8113)\n            Value: 6.0\n                Result: Iris-virginica\n            Value: 5.7\n                Result: Iris-virginica\n            Value: 6.7\n                Result: Iris-versicolor\n            Value: 6.3\n                Result: Iris-virginica\n    Value: 5.3\n        Result: Iris-virginica\n    Value: 4.2\n        Result: Iris-versicolor\n\n"
    }
   ],
   "source": [
    "import json\n",
    "\n",
    "with open('iris.json', 'r') as iris_file:\n",
    "    iris = json.load(iris_file)\n",
    "\n",
    "# Make sure our gain function handles the data set as expected.\n",
    "assert round(gain(iris['targets'], [r[2] for r in iris['data']]), 3) == 1.446\n",
    "\n",
    "# Apply ID3 algorithm\n",
    "tree_iris = id3(iris, list(range(len(iris['attributes']))))\n",
    "\n",
    "print(tree_iris)"
   ]
  },
  {
   "cell_type": "markdown",
   "metadata": {
    "deletable": false,
    "nbgrader": {
     "cell_type": "markdown",
     "checksum": "2e6c4f9c4f123dbe30830eddaa329a5a",
     "grade": true,
     "grade_id": "3d-answer",
     "locked": false,
     "points": 1,
     "schema_version": 3,
     "solution": true
    }
   },
   "source": [
    "YOUR ANSWER HERE:\n",
    "\n",
    "The ID3 algorithm works better for the party example. The iris data set contains continuous valued attributes which leads the ID3 algorithm to generate a lot of branches (for each value). An approach to mitigate that would be to define thresholds."
   ]
  },
  {
   "cell_type": "markdown",
   "metadata": {
    "deletable": false,
    "editable": false,
    "nbgrader": {
     "cell_type": "markdown",
     "checksum": "ad8293d44334aa301868b5d62c08d284",
     "grade": false,
     "grade_id": "4-1",
     "locked": true,
     "schema_version": 3,
     "solution": false
    }
   },
   "source": [
    "## Assignment 4: Decision Trees on Iris Flowers [4 Points]\n",
    "\n",
    "In this exercise we are going to examine and compare two decision trees that were generated from the iris flower data set to classify three variations of Iris flowers. The Iris data set is a classical example of a labeled dataset, i.e. every sample consists of two parts: features and labels. There are four features per sample in this data set (sepal length ($x_1$), sepal width ($x_2$), petal length ($x_3$) and petal width ($x_4$) in cm) and a corresponding label (Iris Setosa, Iris Versicolour, Iris Virginica). These samples are by nature **noisy**, no matter how carefully the measurement was taken - slight deviation from the actual length **cannot be avoided**. We want to learn how the features are related to the label so that we could (in the future) predict the label of a new sample automatically. One way to obtain such a `classifier` is to train a decision tree on the data.\n",
    "\n",
    "Here are two decisions tree generated by the data set. We will now take a closer look."
   ]
  },
  {
   "cell_type": "markdown",
   "metadata": {
    "deletable": false,
    "editable": false,
    "nbgrader": {
     "cell_type": "markdown",
     "checksum": "730e61df559215aa8d4dd57701074550",
     "grade": false,
     "grade_id": "4-2",
     "locked": true,
     "schema_version": 3,
     "solution": false
    }
   },
   "source": [
    "**Tree 1:**"
   ]
  },
  {
   "cell_type": "markdown",
   "metadata": {
    "deletable": false,
    "editable": false,
    "nbgrader": {
     "cell_type": "markdown",
     "checksum": "4633aa12103d3890f8c053b45df9ad0c",
     "grade": false,
     "grade_id": "4-4",
     "locked": true,
     "schema_version": 3,
     "solution": false
    }
   },
   "source": [
    "**Tree 2:**"
   ]
  },
  {
   "cell_type": "raw",
   "metadata": {},
   "source": [
    "                      +\n",
    "                      |\n",
    "                      |\n",
    "                      |\n",
    "       x3 < 2.45      |     x3 >= 2.45\n",
    "   +------------------+------------------+\n",
    "   |                                     |\n",
    "   |                        x4 < 1.75    |     x4 >= 1.75\n",
    "   +                           +---------+---------+\n",
    "setosa                         |                   |\n",
    "                               |                   |\n",
    "                     x3 < 4.95 |   x3 >= 4.95      +\n",
    "                        +--------------+       virginica\n",
    "                        |              |\n",
    "                        |              |\n",
    "              x4 < 1.65 | x4 >= 1.65   +\n",
    "                 +------------+    virginica\n",
    "                 |            |\n",
    "                 |            |\n",
    "                 +            +\n",
    "            versicolor    virginica\n"
   ]
  },
  {
   "cell_type": "raw",
   "metadata": {},
   "source": [
    "a                     + \n",
    "                      |\n",
    "                      |\n",
    "                      |\n",
    "       x3 < 2.45      |     x3 >= 2.45\n",
    "   +------------------+------------------+\n",
    "   |                                     |\n",
    "   |                        x4 < 1.75    |     x4 >= 1.75\n",
    "   +                           +---------+---------+\n",
    "setosa                         |                   |\n",
    "                               |                   |\n",
    "                               +                   +\n",
    "                          versicolor           virginica"
   ]
  },
  {
   "cell_type": "markdown",
   "metadata": {
    "deletable": false,
    "editable": false,
    "nbgrader": {
     "cell_type": "markdown",
     "checksum": "ffcd784b47c90e217848e02ffc378b75",
     "grade": false,
     "grade_id": "4a-1",
     "locked": true,
     "schema_version": 3,
     "solution": false
    }
   },
   "source": [
    "**a)** What does it mean that the features $x1$ and $x2$ do not appear in the decision trees?"
   ]
  },
  {
   "cell_type": "markdown",
   "metadata": {
    "deletable": false,
    "nbgrader": {
     "cell_type": "markdown",
     "checksum": "494a7784873d2fc015370f61c0b64eec",
     "grade": true,
     "grade_id": "4a-answer",
     "locked": false,
     "points": 1,
     "schema_version": 3,
     "solution": true
    },
    "solution": true
   },
   "source": [
    "It means that $x_1$ and $x_2$ don't provide any additional information for the classification task."
   ]
  },
  {
   "cell_type": "markdown",
   "metadata": {
    "deletable": false,
    "editable": false,
    "nbgrader": {
     "cell_type": "markdown",
     "checksum": "277247f94c11865f9544f0fe2c425842",
     "grade": false,
     "grade_id": "4b",
     "locked": true,
     "schema_version": 3,
     "solution": false
    }
   },
   "source": [
    "**b)** With which method from the lecture might the second tree have been generated from the first one? Explain the procedure."
   ]
  },
  {
   "cell_type": "markdown",
   "metadata": {
    "deletable": false,
    "nbgrader": {
     "cell_type": "markdown",
     "checksum": "0a5a3187f58d0e0e6e9f8d8932ceeed8",
     "grade": true,
     "grade_id": "4b-answer",
     "locked": false,
     "points": 1,
     "schema_version": 3,
     "solution": true
    },
    "solution": true
   },
   "source": [
    "With 'Reduced Error Pruning' - removes nodes to achieve better generalization on validation set.\n",
    "It greedily removes the node that most improves the validation set accuracy."
   ]
  },
  {
   "cell_type": "markdown",
   "metadata": {
    "deletable": false,
    "editable": false,
    "nbgrader": {
     "cell_type": "markdown",
     "checksum": "a9aa2fb79517682bc4d80360baec170b",
     "grade": false,
     "grade_id": "4c",
     "locked": true,
     "schema_version": 3,
     "solution": false
    }
   },
   "source": [
    "**c)** After training the tree we can calculate the accuracy, i.e. the percentage of the training set that is classified correctly. Although the first tree was trained on the data set until no improvement of the accuracy was possible, its accuracy is *only* 98%. Explain why it is not 100 %"
   ]
  },
  {
   "cell_type": "markdown",
   "metadata": {
    "deletable": false,
    "nbgrader": {
     "cell_type": "markdown",
     "checksum": "602464d5b9d93a8576cf0a4f433c0c9e",
     "grade": true,
     "grade_id": "4c-answer",
     "locked": false,
     "points": 1,
     "schema_version": 3,
     "solution": true
    },
    "solution": true
   },
   "source": [
    "There could be several reasons for that. One would be inconsistencies in the data set."
   ]
  },
  {
   "cell_type": "markdown",
   "metadata": {
    "deletable": false,
    "editable": false,
    "nbgrader": {
     "cell_type": "markdown",
     "checksum": "65bd16338d432abb937b4f859aad840d",
     "grade": false,
     "grade_id": "4d",
     "locked": true,
     "schema_version": 3,
     "solution": false
    }
   },
   "source": [
    "**d)** Tree 2 only has a 96% accuracy on the training set. Why might this tree still be preferable over tree 1?"
   ]
  },
  {
   "cell_type": "markdown",
   "metadata": {
    "deletable": false,
    "nbgrader": {
     "cell_type": "markdown",
     "checksum": "c12b2c472831afbdfebf1f5a5820681c",
     "grade": true,
     "grade_id": "4d-answer",
     "locked": false,
     "points": 1,
     "schema_version": 3,
     "solution": true
    },
    "solution": true
   },
   "source": [
    "The first tree's higher accuracy on the training data might be due to overfitting. If that's the case, the generalization capabilities of the second tree might be worse. Additionally, the second tree is smaller and therefore less computationally expensive."
   ]
  }
 ],
 "metadata": {
  "kernelspec": {
   "display_name": "Python 3.6.9 64-bit",
   "language": "python",
   "name": "python36964bit5c854418a93c4e6aa2697e27618b9afb"
  },
  "language_info": {
   "codemirror_mode": {
    "name": "ipython",
    "version": 3
   },
   "file_extension": ".py",
   "mimetype": "text/x-python",
   "name": "python",
   "nbconvert_exporter": "python",
   "pygments_lexer": "ipython3",
   "version": "3.6.9-final"
  },
  "toc": {
   "base_numbering": 1,
   "nav_menu": {},
   "number_sections": true,
   "sideBar": true,
   "skip_h1_title": false,
   "title_cell": "Table of Contents",
   "title_sidebar": "Contents",
   "toc_cell": false,
   "toc_position": {},
   "toc_section_display": true,
   "toc_window_display": true
  },
  "widgets": {
   "state": {},
   "version": "1.1.2"
  }
 },
 "nbformat": 4,
 "nbformat_minor": 2
}
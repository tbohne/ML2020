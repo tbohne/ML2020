{
 "cells": [
  {
   "cell_type": "markdown",
   "metadata": {
    "deletable": false,
    "editable": false,
    "nbgrader": {
     "cell_type": "markdown",
     "checksum": "12d4757fd3d4e68c031c5b38a8639e44",
     "grade": false,
     "grade_id": "cell-394682a21c078310",
     "locked": true,
     "schema_version": 3,
     "solution": false,
     "task": false
    }
   },
   "source": [
    "Osnabrück University - Machine Learning (Summer Term 2019) - Prof. Dr.-Ing. G. Heidemann, Ulf Krumnack, Axel Schaffland"
   ]
  },
  {
   "cell_type": "markdown",
   "metadata": {
    "deletable": false,
    "editable": false,
    "nbgrader": {
     "cell_type": "markdown",
     "checksum": "1c06dfce29b0acd25cae4015ca1285b1",
     "grade": false,
     "grade_id": "cell-e9802371e834eb85",
     "locked": true,
     "schema_version": 3,
     "solution": false,
     "task": false
    }
   },
   "source": [
    "# Exercise Sheet 03: Basics of Data Mining"
   ]
  },
  {
   "cell_type": "markdown",
   "metadata": {
    "deletable": false,
    "editable": false,
    "nbgrader": {
     "cell_type": "markdown",
     "checksum": "e32cca4d055b292a8160e3f10594bbab",
     "grade": false,
     "grade_id": "cell-f790e30691d4d590",
     "locked": true,
     "schema_version": 3,
     "solution": false,
     "task": false
    }
   },
   "source": [
    "## Introduction\n",
    "\n",
    "This week's sheet should be solved and handed in before the end of **Saturday, May 16, 2020**. If you need help (and Google and other resources were not enough), feel free to contact your groups designated tutor or whomever of us you run into first. Please upload your results to your group's studip folder.\n",
    "\n",
    "There are a lot of implementations with fewer theory questions on this sheet, but don't worry: To be able to implement most of the code, you have to understand the theory.\n",
    "\n",
    "This week's assignments make use of two packages: `numpy` and `matplotlib`. We already expected you to install those as part of sheet 0 (`conda env create -f ml.yml`). If you did not do so, go back to those instructions or just run the following command in the `terminal`/`cmd.exe` to do so. This will also upgrade your current installation.\n",
    "\n",
    "    conda install jupyter numpy matplotlib\n",
    "\n",
    "One note about `matplotlib`: If you run code which contains a plot like the cell below, it can sometimes take a while to execute the code and show the results. During that process the invocation count will be shown as a little Asterisk (\\*) like this:\n",
    "\n",
    "    In [*]:\n",
    "    \n",
    "Just be patient for a few seconds. \n",
    "\n",
    "A second note about `matplotlib`: For interactive plots you have to call the magic function `%matplotlib` with `notebook` as argument (`%matplotlib notebook`) for inline plots which are saved inside the notebook use `inline` as argument.\n",
    "\n",
    "The following cell tests if `numpy` and `matplotlib` are installed and work:"
   ]
  },
  {
   "cell_type": "code",
   "execution_count": null,
   "metadata": {
    "deletable": false,
    "editable": false,
    "nbgrader": {
     "cell_type": "code",
     "checksum": "e38cf869abb5bb404c583d588e050e4c",
     "grade": false,
     "grade_id": "cell-43b756541dad5bdc",
     "locked": true,
     "schema_version": 3,
     "solution": false,
     "task": false
    }
   },
   "outputs": [],
   "source": [
    "%matplotlib inline\n",
    "import importlib\n",
    "\n",
    "assert importlib.util.find_spec('numpy') is not None , 'numpy not found'\n",
    "assert importlib.util.find_spec('matplotlib') is not None, 'matplotlib not found'\n",
    "\n",
    "import numpy as np\n",
    "import matplotlib.pyplot as plt\n",
    "\n",
    "figure_intro = plt.figure('Example plot')\n",
    "plt.plot(np.random.randn(1000, 1))\n",
    "figure_intro.canvas.draw()"
   ]
  },
  {
   "cell_type": "markdown",
   "metadata": {
    "deletable": false,
    "editable": false,
    "nbgrader": {
     "cell_type": "markdown",
     "checksum": "acb676566a95e7b2a1d4d44eeff3b767",
     "grade": false,
     "grade_id": "math-matrix",
     "locked": true,
     "schema_version": 3,
     "solution": false
    }
   },
   "source": [
    "## Assignment 0: Math recap (matrices and linear mappings) [0 Points]\n",
    "\n",
    "This exercise is supposed to be very easy and is voluntary. There will be a similar exercise on every sheet. It is intended to revise some basic mathematical notions that are assumed throughout this class and to allow you to check if you are comfortable with them. Usually you should have no problem to answer these questions offhand, but if you feel unsure, this is a good time to look them up again. You are always welcome to discuss questions with the tutors or in the practice session. Also, if you have a (math) topic you would like to recap, please let us know."
   ]
  },
  {
   "cell_type": "markdown",
   "metadata": {
    "deletable": false,
    "editable": false,
    "nbgrader": {
     "cell_type": "markdown",
     "checksum": "607871e43aba6a9036a1decaea2dfa04",
     "grade": false,
     "grade_id": "math-matrix-q1",
     "locked": true,
     "schema_version": 3,
     "solution": false
    }
   },
   "source": [
    "**a)** What is a *matrix*? How is it usually written?"
   ]
  },
  {
   "cell_type": "markdown",
   "metadata": {
    "collapsed": true,
    "deletable": false,
    "nbgrader": {
     "cell_type": "markdown",
     "checksum": "d6810d6862cdde6b4ed37c8dd42a2179",
     "grade": true,
     "grade_id": "math-matrix-a1",
     "locked": false,
     "points": 0,
     "schema_version": 3,
     "solution": true
    },
    "solution": true
   },
   "source": [
    "YOUR ANSWER HERE"
   ]
  },
  {
   "cell_type": "markdown",
   "metadata": {
    "deletable": false,
    "editable": false,
    "nbgrader": {
     "cell_type": "markdown",
     "checksum": "1caa2cca091eb1822e38f81ae904626a",
     "grade": false,
     "grade_id": "math-matrix-q2",
     "locked": true,
     "schema_version": 3,
     "solution": false
    }
   },
   "source": [
    "**b)** How is *addition of matrices* defined? What about *matrix multiplication*?"
   ]
  },
  {
   "cell_type": "markdown",
   "metadata": {
    "collapsed": true,
    "deletable": false,
    "nbgrader": {
     "cell_type": "markdown",
     "checksum": "01a22be201f80d235514a258966bdd8b",
     "grade": true,
     "grade_id": "math-matrix-a2",
     "locked": false,
     "points": 0,
     "schema_version": 3,
     "solution": true
    },
    "solution": true
   },
   "source": [
    "YOUR ANSWER HERE"
   ]
  },
  {
   "cell_type": "markdown",
   "metadata": {
    "deletable": false,
    "editable": false,
    "nbgrader": {
     "cell_type": "markdown",
     "checksum": "ecc2bf97ccf3546968a6f8b7da2656ae",
     "grade": false,
     "grade_id": "math-matrix-q3",
     "locked": true,
     "schema_version": 3,
     "solution": false
    }
   },
   "source": [
    "**c)** What is a *linear mapping*? What is the relation to matrices?"
   ]
  },
  {
   "cell_type": "markdown",
   "metadata": {
    "collapsed": true,
    "deletable": false,
    "nbgrader": {
     "cell_type": "markdown",
     "checksum": "203d58dbd5f1d0a202d1a66a54fd66d0",
     "grade": true,
     "grade_id": "math-matrix-a3",
     "locked": false,
     "points": 0,
     "schema_version": 3,
     "solution": true
    },
    "solution": true
   },
   "source": [
    "YOUR ANSWER HERE"
   ]
  },
  {
   "cell_type": "markdown",
   "metadata": {
    "deletable": false,
    "editable": false,
    "nbgrader": {
     "cell_type": "markdown",
     "checksum": "54afd21f0c5f5e547759e7c0a1ed464f",
     "grade": false,
     "grade_id": "1",
     "locked": true,
     "schema_version": 3,
     "solution": false
    }
   },
   "source": [
    "## Assignment 1: Rosner test [5 Points]\n",
    "\n",
    "The Rosner test is an iterative procedure to remove outliers of a data set via a z-test. In this exercise you will implement it and apply it to a sample data set."
   ]
  },
  {
   "cell_type": "markdown",
   "metadata": {
    "deletable": false,
    "editable": false,
    "nbgrader": {
     "cell_type": "markdown",
     "checksum": "d82297f0a89eb3fc4696837945639779",
     "grade": false,
     "grade_id": "1a",
     "locked": true,
     "schema_version": 3,
     "solution": false
    }
   },
   "source": [
    "### a) Outliers\n",
    "\n",
    "First of all, think about why we use procedures like this and answer the following questions: \n",
    "\n",
    "What are causes for outliers? And what are our options to deal with them? "
   ]
  },
  {
   "cell_type": "markdown",
   "metadata": {
    "deletable": false,
    "nbgrader": {
     "cell_type": "markdown",
     "checksum": "1781fd2b6c19b6721f71e77b2c55156c",
     "grade": true,
     "grade_id": "1a_answer",
     "locked": false,
     "points": 2,
     "schema_version": 3,
     "solution": true
    }
   },
   "source": [
    "YOUR ANSWER HERE\n",
    "\n",
    "TBD"
   ]
  },
  {
   "cell_type": "markdown",
   "metadata": {
    "deletable": false,
    "editable": false,
    "nbgrader": {
     "cell_type": "markdown",
     "checksum": "f9bfc15074353da2770f3cbbac0461cb",
     "grade": false,
     "grade_id": "1b",
     "locked": true,
     "schema_version": 3,
     "solution": false
    }
   },
   "source": [
    "### b) Rosner test\n",
    "\n",
    "In the following you find a stub for the implementation. The dataset is already generated. Now it is your turn to write the Rosner test and detect the outliers in the data. \n",
    "\n",
    "`data` is a `np.array` of `[x, y]` coordinates. `outliers` is a list of `[x, y]` coordinates."
   ]
  },
  {
   "cell_type": "code",
   "execution_count": 13,
   "metadata": {
    "deletable": false,
    "nbgrader": {
     "cell_type": "code",
     "checksum": "7eb285760d0dffc0d3c6cd386bf4dbdb",
     "grade": true,
     "grade_id": "1b_code",
     "locked": false,
     "points": 3,
     "schema_version": 3,
     "solution": true
    }
   },
   "outputs": [
    {
     "output_type": "display_data",
     "data": {
      "text/plain": "<Figure size 432x288 with 1 Axes>",
      "image/svg+xml": "<?xml version=\"1.0\" encoding=\"utf-8\" standalone=\"no\"?>\n<!DOCTYPE svg PUBLIC \"-//W3C//DTD SVG 1.1//EN\"\n  \"http://www.w3.org/Graphics/SVG/1.1/DTD/svg11.dtd\">\n<!-- Created with matplotlib (https://matplotlib.org/) -->\n<svg height=\"252.317344pt\" version=\"1.1\" viewBox=\"0 0 385.25625 252.317344\" width=\"385.25625pt\" xmlns=\"http://www.w3.org/2000/svg\" xmlns:xlink=\"http://www.w3.org/1999/xlink\">\n <defs>\n  <style type=\"text/css\">\n*{stroke-linecap:butt;stroke-linejoin:round;}\n  </style>\n </defs>\n <g id=\"figure_1\">\n  <g id=\"patch_1\">\n   <path d=\"M 0 252.317344 \nL 385.25625 252.317344 \nL 385.25625 0 \nL 0 0 \nz\n\" style=\"fill:none;\"/>\n  </g>\n  <g id=\"axes_1\">\n   <g id=\"patch_2\">\n    <path d=\"M 35.304688 228.439219 \nL 370.104688 228.439219 \nL 370.104688 10.999219 \nL 35.304688 10.999219 \nz\n\" style=\"fill:#ffffff;\"/>\n   </g>\n   <g id=\"PathCollection_1\">\n    <defs>\n     <path d=\"M -3 3 \nL 3 -3 \nM -3 -3 \nL 3 3 \n\" id=\"m085b9e2efd\" style=\"stroke:#1f77b4;stroke-width:1.5;\"/>\n    </defs>\n    <g clip-path=\"url(#p702d0cade0)\">\n     <use style=\"fill:#1f77b4;stroke:#1f77b4;stroke-width:1.5;\" x=\"91.420461\" xlink:href=\"#m085b9e2efd\" y=\"120.60724\"/>\n     <use style=\"fill:#1f77b4;stroke:#1f77b4;stroke-width:1.5;\" x=\"238.975366\" xlink:href=\"#m085b9e2efd\" y=\"113.100628\"/>\n     <use style=\"fill:#1f77b4;stroke:#1f77b4;stroke-width:1.5;\" x=\"70.188985\" xlink:href=\"#m085b9e2efd\" y=\"117.519613\"/>\n     <use style=\"fill:#1f77b4;stroke:#1f77b4;stroke-width:1.5;\" x=\"232.776269\" xlink:href=\"#m085b9e2efd\" y=\"114.130162\"/>\n     <use style=\"fill:#1f77b4;stroke:#1f77b4;stroke-width:1.5;\" x=\"229.892753\" xlink:href=\"#m085b9e2efd\" y=\"127.254079\"/>\n     <use style=\"fill:#1f77b4;stroke:#1f77b4;stroke-width:1.5;\" x=\"183.777107\" xlink:href=\"#m085b9e2efd\" y=\"120.718744\"/>\n     <use style=\"fill:#1f77b4;stroke:#1f77b4;stroke-width:1.5;\" x=\"300.438389\" xlink:href=\"#m085b9e2efd\" y=\"109.955376\"/>\n     <use style=\"fill:#1f77b4;stroke:#1f77b4;stroke-width:1.5;\" x=\"259.204416\" xlink:href=\"#m085b9e2efd\" y=\"120.982466\"/>\n     <use style=\"fill:#1f77b4;stroke:#1f77b4;stroke-width:1.5;\" x=\"93.779251\" xlink:href=\"#m085b9e2efd\" y=\"116.652469\"/>\n     <use style=\"fill:#1f77b4;stroke:#1f77b4;stroke-width:1.5;\" x=\"191.537577\" xlink:href=\"#m085b9e2efd\" y=\"118.862181\"/>\n     <use style=\"fill:#1f77b4;stroke:#1f77b4;stroke-width:1.5;\" x=\"339.913988\" xlink:href=\"#m085b9e2efd\" y=\"105.040576\"/>\n     <use style=\"fill:#1f77b4;stroke:#1f77b4;stroke-width:1.5;\" x=\"90.98445\" xlink:href=\"#m085b9e2efd\" y=\"122.669285\"/>\n     <use style=\"fill:#1f77b4;stroke:#1f77b4;stroke-width:1.5;\" x=\"85.017788\" xlink:href=\"#m085b9e2efd\" y=\"120.008496\"/>\n     <use style=\"fill:#1f77b4;stroke:#1f77b4;stroke-width:1.5;\" x=\"40.844749\" xlink:href=\"#m085b9e2efd\" y=\"114.449542\"/>\n     <use style=\"fill:#1f77b4;stroke:#1f77b4;stroke-width:1.5;\" x=\"89.742763\" xlink:href=\"#m085b9e2efd\" y=\"117.0984\"/>\n     <use style=\"fill:#1f77b4;stroke:#1f77b4;stroke-width:1.5;\" x=\"163.282524\" xlink:href=\"#m085b9e2efd\" y=\"126.851693\"/>\n     <use style=\"fill:#1f77b4;stroke:#1f77b4;stroke-width:1.5;\" x=\"65.207136\" xlink:href=\"#m085b9e2efd\" y=\"121.307863\"/>\n     <use style=\"fill:#1f77b4;stroke:#1f77b4;stroke-width:1.5;\" x=\"68.367281\" xlink:href=\"#m085b9e2efd\" y=\"120.525085\"/>\n     <use style=\"fill:#1f77b4;stroke:#1f77b4;stroke-width:1.5;\" x=\"268.97376\" xlink:href=\"#m085b9e2efd\" y=\"117.092707\"/>\n     <use style=\"fill:#1f77b4;stroke:#1f77b4;stroke-width:1.5;\" x=\"341.411398\" xlink:href=\"#m085b9e2efd\" y=\"127.122259\"/>\n     <use style=\"fill:#1f77b4;stroke:#1f77b4;stroke-width:1.5;\" x=\"184.386818\" xlink:href=\"#m085b9e2efd\" y=\"114.927893\"/>\n     <use style=\"fill:#1f77b4;stroke:#1f77b4;stroke-width:1.5;\" x=\"355.412947\" xlink:href=\"#m085b9e2efd\" y=\"126.799841\"/>\n     <use style=\"fill:#1f77b4;stroke:#1f77b4;stroke-width:1.5;\" x=\"204.919106\" xlink:href=\"#m085b9e2efd\" y=\"114.287727\"/>\n     <use style=\"fill:#1f77b4;stroke:#1f77b4;stroke-width:1.5;\" x=\"346.287185\" xlink:href=\"#m085b9e2efd\" y=\"114.706826\"/>\n     <use style=\"fill:#1f77b4;stroke:#1f77b4;stroke-width:1.5;\" x=\"304.959493\" xlink:href=\"#m085b9e2efd\" y=\"120.954898\"/>\n     <use style=\"fill:#1f77b4;stroke:#1f77b4;stroke-width:1.5;\" x=\"40.205048\" xlink:href=\"#m085b9e2efd\" y=\"122.492754\"/>\n     <use style=\"fill:#1f77b4;stroke:#1f77b4;stroke-width:1.5;\" x=\"149.591825\" xlink:href=\"#m085b9e2efd\" y=\"123.0697\"/>\n     <use style=\"fill:#1f77b4;stroke:#1f77b4;stroke-width:1.5;\" x=\"199.820597\" xlink:href=\"#m085b9e2efd\" y=\"129.451281\"/>\n     <use style=\"fill:#1f77b4;stroke:#1f77b4;stroke-width:1.5;\" x=\"190.047662\" xlink:href=\"#m085b9e2efd\" y=\"120.077396\"/>\n     <use style=\"fill:#1f77b4;stroke:#1f77b4;stroke-width:1.5;\" x=\"43.184171\" xlink:href=\"#m085b9e2efd\" y=\"121.66194\"/>\n     <use style=\"fill:#1f77b4;stroke:#1f77b4;stroke-width:1.5;\" x=\"368.333422\" xlink:href=\"#m085b9e2efd\" y=\"124.583532\"/>\n     <use style=\"fill:#1f77b4;stroke:#1f77b4;stroke-width:1.5;\" x=\"176.759723\" xlink:href=\"#m085b9e2efd\" y=\"125.091601\"/>\n     <use style=\"fill:#1f77b4;stroke:#1f77b4;stroke-width:1.5;\" x=\"131.980529\" xlink:href=\"#m085b9e2efd\" y=\"121.868832\"/>\n     <use style=\"fill:#1f77b4;stroke:#1f77b4;stroke-width:1.5;\" x=\"318.325926\" xlink:href=\"#m085b9e2efd\" y=\"130.493623\"/>\n     <use style=\"fill:#1f77b4;stroke:#1f77b4;stroke-width:1.5;\" x=\"69.744497\" xlink:href=\"#m085b9e2efd\" y=\"111.056681\"/>\n     <use style=\"fill:#1f77b4;stroke:#1f77b4;stroke-width:1.5;\" x=\"39.532733\" xlink:href=\"#m085b9e2efd\" y=\"115.623819\"/>\n     <use style=\"fill:#1f77b4;stroke:#1f77b4;stroke-width:1.5;\" x=\"141.68033\" xlink:href=\"#m085b9e2efd\" y=\"114.755177\"/>\n     <use style=\"fill:#1f77b4;stroke:#1f77b4;stroke-width:1.5;\" x=\"128.720184\" xlink:href=\"#m085b9e2efd\" y=\"121.73809\"/>\n     <use style=\"fill:#1f77b4;stroke:#1f77b4;stroke-width:1.5;\" x=\"168.509434\" xlink:href=\"#m085b9e2efd\" y=\"118.218649\"/>\n     <use style=\"fill:#1f77b4;stroke:#1f77b4;stroke-width:1.5;\" x=\"178.587796\" xlink:href=\"#m085b9e2efd\" y=\"120.860161\"/>\n     <use style=\"fill:#1f77b4;stroke:#1f77b4;stroke-width:1.5;\" x=\"180.005044\" xlink:href=\"#m085b9e2efd\" y=\"119.07482\"/>\n     <use style=\"fill:#1f77b4;stroke:#1f77b4;stroke-width:1.5;\" x=\"164.591327\" xlink:href=\"#m085b9e2efd\" y=\"121.651099\"/>\n     <use style=\"fill:#1f77b4;stroke:#1f77b4;stroke-width:1.5;\" x=\"113.404456\" xlink:href=\"#m085b9e2efd\" y=\"111.906227\"/>\n     <use style=\"fill:#1f77b4;stroke:#1f77b4;stroke-width:1.5;\" x=\"97.89432\" xlink:href=\"#m085b9e2efd\" y=\"113.083586\"/>\n     <use style=\"fill:#1f77b4;stroke:#1f77b4;stroke-width:1.5;\" x=\"113.241979\" xlink:href=\"#m085b9e2efd\" y=\"124.191388\"/>\n     <use style=\"fill:#1f77b4;stroke:#1f77b4;stroke-width:1.5;\" x=\"179.235381\" xlink:href=\"#m085b9e2efd\" y=\"118.471325\"/>\n     <use style=\"fill:#1f77b4;stroke:#1f77b4;stroke-width:1.5;\" x=\"138.120411\" xlink:href=\"#m085b9e2efd\" y=\"120.896864\"/>\n     <use style=\"fill:#1f77b4;stroke:#1f77b4;stroke-width:1.5;\" x=\"142.834812\" xlink:href=\"#m085b9e2efd\" y=\"118.471042\"/>\n     <use style=\"fill:#1f77b4;stroke:#1f77b4;stroke-width:1.5;\" x=\"325.927322\" xlink:href=\"#m085b9e2efd\" y=\"132.743565\"/>\n     <use style=\"fill:#1f77b4;stroke:#1f77b4;stroke-width:1.5;\" x=\"172.495916\" xlink:href=\"#m085b9e2efd\" y=\"127.550563\"/>\n     <use style=\"fill:#1f77b4;stroke:#1f77b4;stroke-width:1.5;\" x=\"166.588129\" xlink:href=\"#m085b9e2efd\" y=\"125.69433\"/>\n     <use style=\"fill:#1f77b4;stroke:#1f77b4;stroke-width:1.5;\" x=\"118.794869\" xlink:href=\"#m085b9e2efd\" y=\"112.083782\"/>\n     <use style=\"fill:#1f77b4;stroke:#1f77b4;stroke-width:1.5;\" x=\"354.213596\" xlink:href=\"#m085b9e2efd\" y=\"112.77586\"/>\n     <use style=\"fill:#1f77b4;stroke:#1f77b4;stroke-width:1.5;\" x=\"118.050583\" xlink:href=\"#m085b9e2efd\" y=\"117.035576\"/>\n     <use style=\"fill:#1f77b4;stroke:#1f77b4;stroke-width:1.5;\" x=\"335.605218\" xlink:href=\"#m085b9e2efd\" y=\"123.538231\"/>\n     <use style=\"fill:#1f77b4;stroke:#1f77b4;stroke-width:1.5;\" x=\"290.420833\" xlink:href=\"#m085b9e2efd\" y=\"114.403586\"/>\n     <use style=\"fill:#1f77b4;stroke:#1f77b4;stroke-width:1.5;\" x=\"209.074617\" xlink:href=\"#m085b9e2efd\" y=\"124.837047\"/>\n     <use style=\"fill:#1f77b4;stroke:#1f77b4;stroke-width:1.5;\" x=\"294.347212\" xlink:href=\"#m085b9e2efd\" y=\"125.667154\"/>\n     <use style=\"fill:#1f77b4;stroke:#1f77b4;stroke-width:1.5;\" x=\"221.762728\" xlink:href=\"#m085b9e2efd\" y=\"118.600932\"/>\n     <use style=\"fill:#1f77b4;stroke:#1f77b4;stroke-width:1.5;\" x=\"157.034606\" xlink:href=\"#m085b9e2efd\" y=\"119.945161\"/>\n     <use style=\"fill:#1f77b4;stroke:#1f77b4;stroke-width:1.5;\" x=\"327.185841\" xlink:href=\"#m085b9e2efd\" y=\"112.511594\"/>\n     <use style=\"fill:#1f77b4;stroke:#1f77b4;stroke-width:1.5;\" x=\"237.762853\" xlink:href=\"#m085b9e2efd\" y=\"118.268057\"/>\n     <use style=\"fill:#1f77b4;stroke:#1f77b4;stroke-width:1.5;\" x=\"248.256969\" xlink:href=\"#m085b9e2efd\" y=\"123.049666\"/>\n     <use style=\"fill:#1f77b4;stroke:#1f77b4;stroke-width:1.5;\" x=\"131.761249\" xlink:href=\"#m085b9e2efd\" y=\"111.460417\"/>\n     <use style=\"fill:#1f77b4;stroke:#1f77b4;stroke-width:1.5;\" x=\"206.556216\" xlink:href=\"#m085b9e2efd\" y=\"130.785465\"/>\n     <use style=\"fill:#1f77b4;stroke:#1f77b4;stroke-width:1.5;\" x=\"58.433876\" xlink:href=\"#m085b9e2efd\" y=\"120.875976\"/>\n     <use style=\"fill:#1f77b4;stroke:#1f77b4;stroke-width:1.5;\" x=\"330.490411\" xlink:href=\"#m085b9e2efd\" y=\"123.198007\"/>\n     <use style=\"fill:#1f77b4;stroke:#1f77b4;stroke-width:1.5;\" x=\"215.785544\" xlink:href=\"#m085b9e2efd\" y=\"121.563521\"/>\n     <use style=\"fill:#1f77b4;stroke:#1f77b4;stroke-width:1.5;\" x=\"361.923529\" xlink:href=\"#m085b9e2efd\" y=\"117.155207\"/>\n     <use style=\"fill:#1f77b4;stroke:#1f77b4;stroke-width:1.5;\" x=\"363.241611\" xlink:href=\"#m085b9e2efd\" y=\"115.151531\"/>\n     <use style=\"fill:#1f77b4;stroke:#1f77b4;stroke-width:1.5;\" x=\"145.485498\" xlink:href=\"#m085b9e2efd\" y=\"116.577262\"/>\n     <use style=\"fill:#1f77b4;stroke:#1f77b4;stroke-width:1.5;\" x=\"280.876848\" xlink:href=\"#m085b9e2efd\" y=\"123.397362\"/>\n     <use style=\"fill:#1f77b4;stroke:#1f77b4;stroke-width:1.5;\" x=\"254.310963\" xlink:href=\"#m085b9e2efd\" y=\"114.995381\"/>\n     <use style=\"fill:#1f77b4;stroke:#1f77b4;stroke-width:1.5;\" x=\"38.668544\" xlink:href=\"#m085b9e2efd\" y=\"113.420748\"/>\n     <use style=\"fill:#1f77b4;stroke:#1f77b4;stroke-width:1.5;\" x=\"117.831609\" xlink:href=\"#m085b9e2efd\" y=\"124.322291\"/>\n     <use style=\"fill:#1f77b4;stroke:#1f77b4;stroke-width:1.5;\" x=\"290.776842\" xlink:href=\"#m085b9e2efd\" y=\"132.531919\"/>\n     <use style=\"fill:#1f77b4;stroke:#1f77b4;stroke-width:1.5;\" x=\"202.486798\" xlink:href=\"#m085b9e2efd\" y=\"120.380493\"/>\n     <use style=\"fill:#1f77b4;stroke:#1f77b4;stroke-width:1.5;\" x=\"227.152954\" xlink:href=\"#m085b9e2efd\" y=\"114.577129\"/>\n     <use style=\"fill:#1f77b4;stroke:#1f77b4;stroke-width:1.5;\" x=\"68.949197\" xlink:href=\"#m085b9e2efd\" y=\"126.184635\"/>\n     <use style=\"fill:#1f77b4;stroke:#1f77b4;stroke-width:1.5;\" x=\"325.938488\" xlink:href=\"#m085b9e2efd\" y=\"130.609857\"/>\n     <use style=\"fill:#1f77b4;stroke:#1f77b4;stroke-width:1.5;\" x=\"46.247277\" xlink:href=\"#m085b9e2efd\" y=\"127.19924\"/>\n     <use style=\"fill:#1f77b4;stroke:#1f77b4;stroke-width:1.5;\" x=\"258.023327\" xlink:href=\"#m085b9e2efd\" y=\"120.745731\"/>\n     <use style=\"fill:#1f77b4;stroke:#1f77b4;stroke-width:1.5;\" x=\"272.047944\" xlink:href=\"#m085b9e2efd\" y=\"113.962768\"/>\n     <use style=\"fill:#1f77b4;stroke:#1f77b4;stroke-width:1.5;\" x=\"231.620508\" xlink:href=\"#m085b9e2efd\" y=\"124.184772\"/>\n     <use style=\"fill:#1f77b4;stroke:#1f77b4;stroke-width:1.5;\" x=\"328.600977\" xlink:href=\"#m085b9e2efd\" y=\"119.628248\"/>\n     <use style=\"fill:#1f77b4;stroke:#1f77b4;stroke-width:1.5;\" x=\"256.451743\" xlink:href=\"#m085b9e2efd\" y=\"123.044651\"/>\n     <use style=\"fill:#1f77b4;stroke:#1f77b4;stroke-width:1.5;\" x=\"161.41323\" xlink:href=\"#m085b9e2efd\" y=\"120.066565\"/>\n     <use style=\"fill:#1f77b4;stroke:#1f77b4;stroke-width:1.5;\" x=\"125.185397\" xlink:href=\"#m085b9e2efd\" y=\"119.660448\"/>\n     <use style=\"fill:#1f77b4;stroke:#1f77b4;stroke-width:1.5;\" x=\"301.229967\" xlink:href=\"#m085b9e2efd\" y=\"119.729623\"/>\n     <use style=\"fill:#1f77b4;stroke:#1f77b4;stroke-width:1.5;\" x=\"173.278636\" xlink:href=\"#m085b9e2efd\" y=\"113.729971\"/>\n     <use style=\"fill:#1f77b4;stroke:#1f77b4;stroke-width:1.5;\" x=\"70.226551\" xlink:href=\"#m085b9e2efd\" y=\"117.978959\"/>\n     <use style=\"fill:#1f77b4;stroke:#1f77b4;stroke-width:1.5;\" x=\"300.762344\" xlink:href=\"#m085b9e2efd\" y=\"118.51038\"/>\n     <use style=\"fill:#1f77b4;stroke:#1f77b4;stroke-width:1.5;\" x=\"339.029084\" xlink:href=\"#m085b9e2efd\" y=\"113.572758\"/>\n     <use style=\"fill:#1f77b4;stroke:#1f77b4;stroke-width:1.5;\" x=\"47.545858\" xlink:href=\"#m085b9e2efd\" y=\"118.684178\"/>\n     <use style=\"fill:#1f77b4;stroke:#1f77b4;stroke-width:1.5;\" x=\"328.900958\" xlink:href=\"#m085b9e2efd\" y=\"121.583171\"/>\n     <use style=\"fill:#1f77b4;stroke:#1f77b4;stroke-width:1.5;\" x=\"359.099881\" xlink:href=\"#m085b9e2efd\" y=\"126.004885\"/>\n     <use style=\"fill:#1f77b4;stroke:#1f77b4;stroke-width:1.5;\" x=\"228.46598\" xlink:href=\"#m085b9e2efd\" y=\"118.435331\"/>\n     <use style=\"fill:#1f77b4;stroke:#1f77b4;stroke-width:1.5;\" x=\"145.44756\" xlink:href=\"#m085b9e2efd\" y=\"121.701748\"/>\n     <use style=\"fill:#1f77b4;stroke:#1f77b4;stroke-width:1.5;\" x=\"140.427064\" xlink:href=\"#m085b9e2efd\" y=\"122.385122\"/>\n     <use style=\"fill:#1f77b4;stroke:#1f77b4;stroke-width:1.5;\" x=\"340.407349\" xlink:href=\"#m085b9e2efd\" y=\"117.936518\"/>\n     <use style=\"fill:#1f77b4;stroke:#1f77b4;stroke-width:1.5;\" x=\"257.880969\" xlink:href=\"#m085b9e2efd\" y=\"143.704566\"/>\n     <use style=\"fill:#1f77b4;stroke:#1f77b4;stroke-width:1.5;\" x=\"229.77446\" xlink:href=\"#m085b9e2efd\" y=\"147.596153\"/>\n     <use style=\"fill:#1f77b4;stroke:#1f77b4;stroke-width:1.5;\" x=\"308.260419\" xlink:href=\"#m085b9e2efd\" y=\"21.844587\"/>\n     <use style=\"fill:#1f77b4;stroke:#1f77b4;stroke-width:1.5;\" x=\"174.319083\" xlink:href=\"#m085b9e2efd\" y=\"83.44936\"/>\n     <use style=\"fill:#1f77b4;stroke:#1f77b4;stroke-width:1.5;\" x=\"44.97211\" xlink:href=\"#m085b9e2efd\" y=\"106.989821\"/>\n     <use style=\"fill:#1f77b4;stroke:#1f77b4;stroke-width:1.5;\" x=\"310.717407\" xlink:href=\"#m085b9e2efd\" y=\"132.162713\"/>\n     <use style=\"fill:#1f77b4;stroke:#1f77b4;stroke-width:1.5;\" x=\"266.891209\" xlink:href=\"#m085b9e2efd\" y=\"84.391328\"/>\n     <use style=\"fill:#1f77b4;stroke:#1f77b4;stroke-width:1.5;\" x=\"131.099047\" xlink:href=\"#m085b9e2efd\" y=\"73.746869\"/>\n     <use style=\"fill:#1f77b4;stroke:#1f77b4;stroke-width:1.5;\" x=\"305.309693\" xlink:href=\"#m085b9e2efd\" y=\"69.429258\"/>\n     <use style=\"fill:#1f77b4;stroke:#1f77b4;stroke-width:1.5;\" x=\"178.750167\" xlink:href=\"#m085b9e2efd\" y=\"90.263443\"/>\n    </g>\n   </g>\n   <g id=\"matplotlib.axis_1\">\n    <g id=\"xtick_1\">\n     <g id=\"line2d_1\">\n      <defs>\n       <path d=\"M 0 0 \nL 0 3.5 \n\" id=\"m83b015de0f\" style=\"stroke:#000000;stroke-width:0.8;\"/>\n      </defs>\n      <g>\n       <use style=\"stroke:#000000;stroke-width:0.8;\" x=\"35.304688\" xlink:href=\"#m83b015de0f\" y=\"228.439219\"/>\n      </g>\n     </g>\n     <g id=\"text_1\">\n      <!-- 0.0 -->\n      <defs>\n       <path d=\"M 31.78125 66.40625 \nQ 24.171875 66.40625 20.328125 58.90625 \nQ 16.5 51.421875 16.5 36.375 \nQ 16.5 21.390625 20.328125 13.890625 \nQ 24.171875 6.390625 31.78125 6.390625 \nQ 39.453125 6.390625 43.28125 13.890625 \nQ 47.125 21.390625 47.125 36.375 \nQ 47.125 51.421875 43.28125 58.90625 \nQ 39.453125 66.40625 31.78125 66.40625 \nz\nM 31.78125 74.21875 \nQ 44.046875 74.21875 50.515625 64.515625 \nQ 56.984375 54.828125 56.984375 36.375 \nQ 56.984375 17.96875 50.515625 8.265625 \nQ 44.046875 -1.421875 31.78125 -1.421875 \nQ 19.53125 -1.421875 13.0625 8.265625 \nQ 6.59375 17.96875 6.59375 36.375 \nQ 6.59375 54.828125 13.0625 64.515625 \nQ 19.53125 74.21875 31.78125 74.21875 \nz\n\" id=\"DejaVuSans-48\"/>\n       <path d=\"M 10.6875 12.40625 \nL 21 12.40625 \nL 21 0 \nL 10.6875 0 \nz\n\" id=\"DejaVuSans-46\"/>\n      </defs>\n      <g transform=\"translate(27.353125 243.037656)scale(0.1 -0.1)\">\n       <use xlink:href=\"#DejaVuSans-48\"/>\n       <use x=\"63.623047\" xlink:href=\"#DejaVuSans-46\"/>\n       <use x=\"95.410156\" xlink:href=\"#DejaVuSans-48\"/>\n      </g>\n     </g>\n    </g>\n    <g id=\"xtick_2\">\n     <g id=\"line2d_2\">\n      <g>\n       <use style=\"stroke:#000000;stroke-width:0.8;\" x=\"102.264688\" xlink:href=\"#m83b015de0f\" y=\"228.439219\"/>\n      </g>\n     </g>\n     <g id=\"text_2\">\n      <!-- 0.2 -->\n      <defs>\n       <path d=\"M 19.1875 8.296875 \nL 53.609375 8.296875 \nL 53.609375 0 \nL 7.328125 0 \nL 7.328125 8.296875 \nQ 12.9375 14.109375 22.625 23.890625 \nQ 32.328125 33.6875 34.8125 36.53125 \nQ 39.546875 41.84375 41.421875 45.53125 \nQ 43.3125 49.21875 43.3125 52.78125 \nQ 43.3125 58.59375 39.234375 62.25 \nQ 35.15625 65.921875 28.609375 65.921875 \nQ 23.96875 65.921875 18.8125 64.3125 \nQ 13.671875 62.703125 7.8125 59.421875 \nL 7.8125 69.390625 \nQ 13.765625 71.78125 18.9375 73 \nQ 24.125 74.21875 28.421875 74.21875 \nQ 39.75 74.21875 46.484375 68.546875 \nQ 53.21875 62.890625 53.21875 53.421875 \nQ 53.21875 48.921875 51.53125 44.890625 \nQ 49.859375 40.875 45.40625 35.40625 \nQ 44.1875 33.984375 37.640625 27.21875 \nQ 31.109375 20.453125 19.1875 8.296875 \nz\n\" id=\"DejaVuSans-50\"/>\n      </defs>\n      <g transform=\"translate(94.313125 243.037656)scale(0.1 -0.1)\">\n       <use xlink:href=\"#DejaVuSans-48\"/>\n       <use x=\"63.623047\" xlink:href=\"#DejaVuSans-46\"/>\n       <use x=\"95.410156\" xlink:href=\"#DejaVuSans-50\"/>\n      </g>\n     </g>\n    </g>\n    <g id=\"xtick_3\">\n     <g id=\"line2d_3\">\n      <g>\n       <use style=\"stroke:#000000;stroke-width:0.8;\" x=\"169.224688\" xlink:href=\"#m83b015de0f\" y=\"228.439219\"/>\n      </g>\n     </g>\n     <g id=\"text_3\">\n      <!-- 0.4 -->\n      <defs>\n       <path d=\"M 37.796875 64.3125 \nL 12.890625 25.390625 \nL 37.796875 25.390625 \nz\nM 35.203125 72.90625 \nL 47.609375 72.90625 \nL 47.609375 25.390625 \nL 58.015625 25.390625 \nL 58.015625 17.1875 \nL 47.609375 17.1875 \nL 47.609375 0 \nL 37.796875 0 \nL 37.796875 17.1875 \nL 4.890625 17.1875 \nL 4.890625 26.703125 \nz\n\" id=\"DejaVuSans-52\"/>\n      </defs>\n      <g transform=\"translate(161.273125 243.037656)scale(0.1 -0.1)\">\n       <use xlink:href=\"#DejaVuSans-48\"/>\n       <use x=\"63.623047\" xlink:href=\"#DejaVuSans-46\"/>\n       <use x=\"95.410156\" xlink:href=\"#DejaVuSans-52\"/>\n      </g>\n     </g>\n    </g>\n    <g id=\"xtick_4\">\n     <g id=\"line2d_4\">\n      <g>\n       <use style=\"stroke:#000000;stroke-width:0.8;\" x=\"236.184688\" xlink:href=\"#m83b015de0f\" y=\"228.439219\"/>\n      </g>\n     </g>\n     <g id=\"text_4\">\n      <!-- 0.6 -->\n      <defs>\n       <path d=\"M 33.015625 40.375 \nQ 26.375 40.375 22.484375 35.828125 \nQ 18.609375 31.296875 18.609375 23.390625 \nQ 18.609375 15.53125 22.484375 10.953125 \nQ 26.375 6.390625 33.015625 6.390625 \nQ 39.65625 6.390625 43.53125 10.953125 \nQ 47.40625 15.53125 47.40625 23.390625 \nQ 47.40625 31.296875 43.53125 35.828125 \nQ 39.65625 40.375 33.015625 40.375 \nz\nM 52.59375 71.296875 \nL 52.59375 62.3125 \nQ 48.875 64.0625 45.09375 64.984375 \nQ 41.3125 65.921875 37.59375 65.921875 \nQ 27.828125 65.921875 22.671875 59.328125 \nQ 17.53125 52.734375 16.796875 39.40625 \nQ 19.671875 43.65625 24.015625 45.921875 \nQ 28.375 48.1875 33.59375 48.1875 \nQ 44.578125 48.1875 50.953125 41.515625 \nQ 57.328125 34.859375 57.328125 23.390625 \nQ 57.328125 12.15625 50.6875 5.359375 \nQ 44.046875 -1.421875 33.015625 -1.421875 \nQ 20.359375 -1.421875 13.671875 8.265625 \nQ 6.984375 17.96875 6.984375 36.375 \nQ 6.984375 53.65625 15.1875 63.9375 \nQ 23.390625 74.21875 37.203125 74.21875 \nQ 40.921875 74.21875 44.703125 73.484375 \nQ 48.484375 72.75 52.59375 71.296875 \nz\n\" id=\"DejaVuSans-54\"/>\n      </defs>\n      <g transform=\"translate(228.233125 243.037656)scale(0.1 -0.1)\">\n       <use xlink:href=\"#DejaVuSans-48\"/>\n       <use x=\"63.623047\" xlink:href=\"#DejaVuSans-46\"/>\n       <use x=\"95.410156\" xlink:href=\"#DejaVuSans-54\"/>\n      </g>\n     </g>\n    </g>\n    <g id=\"xtick_5\">\n     <g id=\"line2d_5\">\n      <g>\n       <use style=\"stroke:#000000;stroke-width:0.8;\" x=\"303.144688\" xlink:href=\"#m83b015de0f\" y=\"228.439219\"/>\n      </g>\n     </g>\n     <g id=\"text_5\">\n      <!-- 0.8 -->\n      <defs>\n       <path d=\"M 31.78125 34.625 \nQ 24.75 34.625 20.71875 30.859375 \nQ 16.703125 27.09375 16.703125 20.515625 \nQ 16.703125 13.921875 20.71875 10.15625 \nQ 24.75 6.390625 31.78125 6.390625 \nQ 38.8125 6.390625 42.859375 10.171875 \nQ 46.921875 13.96875 46.921875 20.515625 \nQ 46.921875 27.09375 42.890625 30.859375 \nQ 38.875 34.625 31.78125 34.625 \nz\nM 21.921875 38.8125 \nQ 15.578125 40.375 12.03125 44.71875 \nQ 8.5 49.078125 8.5 55.328125 \nQ 8.5 64.0625 14.71875 69.140625 \nQ 20.953125 74.21875 31.78125 74.21875 \nQ 42.671875 74.21875 48.875 69.140625 \nQ 55.078125 64.0625 55.078125 55.328125 \nQ 55.078125 49.078125 51.53125 44.71875 \nQ 48 40.375 41.703125 38.8125 \nQ 48.828125 37.15625 52.796875 32.3125 \nQ 56.78125 27.484375 56.78125 20.515625 \nQ 56.78125 9.90625 50.3125 4.234375 \nQ 43.84375 -1.421875 31.78125 -1.421875 \nQ 19.734375 -1.421875 13.25 4.234375 \nQ 6.78125 9.90625 6.78125 20.515625 \nQ 6.78125 27.484375 10.78125 32.3125 \nQ 14.796875 37.15625 21.921875 38.8125 \nz\nM 18.3125 54.390625 \nQ 18.3125 48.734375 21.84375 45.5625 \nQ 25.390625 42.390625 31.78125 42.390625 \nQ 38.140625 42.390625 41.71875 45.5625 \nQ 45.3125 48.734375 45.3125 54.390625 \nQ 45.3125 60.0625 41.71875 63.234375 \nQ 38.140625 66.40625 31.78125 66.40625 \nQ 25.390625 66.40625 21.84375 63.234375 \nQ 18.3125 60.0625 18.3125 54.390625 \nz\n\" id=\"DejaVuSans-56\"/>\n      </defs>\n      <g transform=\"translate(295.193125 243.037656)scale(0.1 -0.1)\">\n       <use xlink:href=\"#DejaVuSans-48\"/>\n       <use x=\"63.623047\" xlink:href=\"#DejaVuSans-46\"/>\n       <use x=\"95.410156\" xlink:href=\"#DejaVuSans-56\"/>\n      </g>\n     </g>\n    </g>\n    <g id=\"xtick_6\">\n     <g id=\"line2d_6\">\n      <g>\n       <use style=\"stroke:#000000;stroke-width:0.8;\" x=\"370.104688\" xlink:href=\"#m83b015de0f\" y=\"228.439219\"/>\n      </g>\n     </g>\n     <g id=\"text_6\">\n      <!-- 1.0 -->\n      <defs>\n       <path d=\"M 12.40625 8.296875 \nL 28.515625 8.296875 \nL 28.515625 63.921875 \nL 10.984375 60.40625 \nL 10.984375 69.390625 \nL 28.421875 72.90625 \nL 38.28125 72.90625 \nL 38.28125 8.296875 \nL 54.390625 8.296875 \nL 54.390625 0 \nL 12.40625 0 \nz\n\" id=\"DejaVuSans-49\"/>\n      </defs>\n      <g transform=\"translate(362.153125 243.037656)scale(0.1 -0.1)\">\n       <use xlink:href=\"#DejaVuSans-49\"/>\n       <use x=\"63.623047\" xlink:href=\"#DejaVuSans-46\"/>\n       <use x=\"95.410156\" xlink:href=\"#DejaVuSans-48\"/>\n      </g>\n     </g>\n    </g>\n   </g>\n   <g id=\"matplotlib.axis_2\">\n    <g id=\"ytick_1\">\n     <g id=\"line2d_7\">\n      <defs>\n       <path d=\"M 0 0 \nL -3.5 0 \n\" id=\"m029ae81b22\" style=\"stroke:#000000;stroke-width:0.8;\"/>\n      </defs>\n      <g>\n       <use style=\"stroke:#000000;stroke-width:0.8;\" x=\"35.304688\" xlink:href=\"#m029ae81b22\" y=\"228.439219\"/>\n      </g>\n     </g>\n     <g id=\"text_7\">\n      <!-- −20 -->\n      <defs>\n       <path d=\"M 10.59375 35.5 \nL 73.1875 35.5 \nL 73.1875 27.203125 \nL 10.59375 27.203125 \nz\n\" id=\"DejaVuSans-8722\"/>\n      </defs>\n      <g transform=\"translate(7.2 232.238437)scale(0.1 -0.1)\">\n       <use xlink:href=\"#DejaVuSans-8722\"/>\n       <use x=\"83.789062\" xlink:href=\"#DejaVuSans-50\"/>\n       <use x=\"147.412109\" xlink:href=\"#DejaVuSans-48\"/>\n      </g>\n     </g>\n    </g>\n    <g id=\"ytick_2\">\n     <g id=\"line2d_8\">\n      <g>\n       <use style=\"stroke:#000000;stroke-width:0.8;\" x=\"35.304688\" xlink:href=\"#m029ae81b22\" y=\"201.259219\"/>\n      </g>\n     </g>\n     <g id=\"text_8\">\n      <!-- −15 -->\n      <defs>\n       <path d=\"M 10.796875 72.90625 \nL 49.515625 72.90625 \nL 49.515625 64.59375 \nL 19.828125 64.59375 \nL 19.828125 46.734375 \nQ 21.96875 47.46875 24.109375 47.828125 \nQ 26.265625 48.1875 28.421875 48.1875 \nQ 40.625 48.1875 47.75 41.5 \nQ 54.890625 34.8125 54.890625 23.390625 \nQ 54.890625 11.625 47.5625 5.09375 \nQ 40.234375 -1.421875 26.90625 -1.421875 \nQ 22.3125 -1.421875 17.546875 -0.640625 \nQ 12.796875 0.140625 7.71875 1.703125 \nL 7.71875 11.625 \nQ 12.109375 9.234375 16.796875 8.0625 \nQ 21.484375 6.890625 26.703125 6.890625 \nQ 35.15625 6.890625 40.078125 11.328125 \nQ 45.015625 15.765625 45.015625 23.390625 \nQ 45.015625 31 40.078125 35.4375 \nQ 35.15625 39.890625 26.703125 39.890625 \nQ 22.75 39.890625 18.8125 39.015625 \nQ 14.890625 38.140625 10.796875 36.28125 \nz\n\" id=\"DejaVuSans-53\"/>\n      </defs>\n      <g transform=\"translate(7.2 205.058437)scale(0.1 -0.1)\">\n       <use xlink:href=\"#DejaVuSans-8722\"/>\n       <use x=\"83.789062\" xlink:href=\"#DejaVuSans-49\"/>\n       <use x=\"147.412109\" xlink:href=\"#DejaVuSans-53\"/>\n      </g>\n     </g>\n    </g>\n    <g id=\"ytick_3\">\n     <g id=\"line2d_9\">\n      <g>\n       <use style=\"stroke:#000000;stroke-width:0.8;\" x=\"35.304688\" xlink:href=\"#m029ae81b22\" y=\"174.079219\"/>\n      </g>\n     </g>\n     <g id=\"text_9\">\n      <!-- −10 -->\n      <g transform=\"translate(7.2 177.878437)scale(0.1 -0.1)\">\n       <use xlink:href=\"#DejaVuSans-8722\"/>\n       <use x=\"83.789062\" xlink:href=\"#DejaVuSans-49\"/>\n       <use x=\"147.412109\" xlink:href=\"#DejaVuSans-48\"/>\n      </g>\n     </g>\n    </g>\n    <g id=\"ytick_4\">\n     <g id=\"line2d_10\">\n      <g>\n       <use style=\"stroke:#000000;stroke-width:0.8;\" x=\"35.304688\" xlink:href=\"#m029ae81b22\" y=\"146.899219\"/>\n      </g>\n     </g>\n     <g id=\"text_10\">\n      <!-- −5 -->\n      <g transform=\"translate(13.5625 150.698437)scale(0.1 -0.1)\">\n       <use xlink:href=\"#DejaVuSans-8722\"/>\n       <use x=\"83.789062\" xlink:href=\"#DejaVuSans-53\"/>\n      </g>\n     </g>\n    </g>\n    <g id=\"ytick_5\">\n     <g id=\"line2d_11\">\n      <g>\n       <use style=\"stroke:#000000;stroke-width:0.8;\" x=\"35.304688\" xlink:href=\"#m029ae81b22\" y=\"119.719219\"/>\n      </g>\n     </g>\n     <g id=\"text_11\">\n      <!-- 0 -->\n      <g transform=\"translate(21.942188 123.518437)scale(0.1 -0.1)\">\n       <use xlink:href=\"#DejaVuSans-48\"/>\n      </g>\n     </g>\n    </g>\n    <g id=\"ytick_6\">\n     <g id=\"line2d_12\">\n      <g>\n       <use style=\"stroke:#000000;stroke-width:0.8;\" x=\"35.304688\" xlink:href=\"#m029ae81b22\" y=\"92.539219\"/>\n      </g>\n     </g>\n     <g id=\"text_12\">\n      <!-- 5 -->\n      <g transform=\"translate(21.942188 96.338437)scale(0.1 -0.1)\">\n       <use xlink:href=\"#DejaVuSans-53\"/>\n      </g>\n     </g>\n    </g>\n    <g id=\"ytick_7\">\n     <g id=\"line2d_13\">\n      <g>\n       <use style=\"stroke:#000000;stroke-width:0.8;\" x=\"35.304688\" xlink:href=\"#m029ae81b22\" y=\"65.359219\"/>\n      </g>\n     </g>\n     <g id=\"text_13\">\n      <!-- 10 -->\n      <g transform=\"translate(15.579688 69.158437)scale(0.1 -0.1)\">\n       <use xlink:href=\"#DejaVuSans-49\"/>\n       <use x=\"63.623047\" xlink:href=\"#DejaVuSans-48\"/>\n      </g>\n     </g>\n    </g>\n    <g id=\"ytick_8\">\n     <g id=\"line2d_14\">\n      <g>\n       <use style=\"stroke:#000000;stroke-width:0.8;\" x=\"35.304688\" xlink:href=\"#m029ae81b22\" y=\"38.179219\"/>\n      </g>\n     </g>\n     <g id=\"text_14\">\n      <!-- 15 -->\n      <g transform=\"translate(15.579688 41.978437)scale(0.1 -0.1)\">\n       <use xlink:href=\"#DejaVuSans-49\"/>\n       <use x=\"63.623047\" xlink:href=\"#DejaVuSans-53\"/>\n      </g>\n     </g>\n    </g>\n    <g id=\"ytick_9\">\n     <g id=\"line2d_15\">\n      <g>\n       <use style=\"stroke:#000000;stroke-width:0.8;\" x=\"35.304688\" xlink:href=\"#m029ae81b22\" y=\"10.999219\"/>\n      </g>\n     </g>\n     <g id=\"text_15\">\n      <!-- 20 -->\n      <g transform=\"translate(15.579688 14.798437)scale(0.1 -0.1)\">\n       <use xlink:href=\"#DejaVuSans-50\"/>\n       <use x=\"63.623047\" xlink:href=\"#DejaVuSans-48\"/>\n      </g>\n     </g>\n    </g>\n   </g>\n   <g id=\"patch_3\">\n    <path d=\"M 35.304688 228.439219 \nL 35.304688 10.999219 \n\" style=\"fill:none;stroke:#000000;stroke-linecap:square;stroke-linejoin:miter;stroke-width:0.8;\"/>\n   </g>\n   <g id=\"patch_4\">\n    <path d=\"M 370.104688 228.439219 \nL 370.104688 10.999219 \n\" style=\"fill:none;stroke:#000000;stroke-linecap:square;stroke-linejoin:miter;stroke-width:0.8;\"/>\n   </g>\n   <g id=\"patch_5\">\n    <path d=\"M 35.304688 228.439219 \nL 370.104688 228.439219 \n\" style=\"fill:none;stroke:#000000;stroke-linecap:square;stroke-linejoin:miter;stroke-width:0.8;\"/>\n   </g>\n   <g id=\"patch_6\">\n    <path d=\"M 35.304688 10.999219 \nL 370.104688 10.999219 \n\" style=\"fill:none;stroke:#000000;stroke-linecap:square;stroke-linejoin:miter;stroke-width:0.8;\"/>\n   </g>\n  </g>\n </g>\n <defs>\n  <clipPath id=\"p702d0cade0\">\n   <rect height=\"217.44\" width=\"334.8\" x=\"35.304688\" y=\"10.999219\"/>\n  </clipPath>\n </defs>\n</svg>\n",
      "image/png": "[encoded data removed]"
     },
     "metadata": {
      "needs_background": "light"
     }
    },
    {
     "output_type": "display_data",
     "data": {
      "text/plain": "<Figure size 432x288 with 1 Axes>",
      "image/svg+xml": "<?xml version=\"1.0\" encoding=\"utf-8\" standalone=\"no\"?>\n<!DOCTYPE svg PUBLIC \"-//W3C//DTD SVG 1.1//EN\"\n  \"http://www.w3.org/Graphics/SVG/1.1/DTD/svg11.dtd\">\n<!-- Created with matplotlib (https://matplotlib.org/) -->\n<svg height=\"252.317344pt\" version=\"1.1\" viewBox=\"0 0 385.25625 252.317344\" width=\"385.25625pt\" xmlns=\"http://www.w3.org/2000/svg\" xmlns:xlink=\"http://www.w3.org/1999/xlink\">\n <defs>\n  <style type=\"text/css\">\n*{stroke-linecap:butt;stroke-linejoin:round;}\n  </style>\n </defs>\n <g id=\"figure_1\">\n  <g id=\"patch_1\">\n   <path d=\"M 0 252.317344 \nL 385.25625 252.317344 \nL 385.25625 0 \nL 0 0 \nz\n\" style=\"fill:none;\"/>\n  </g>\n  <g id=\"axes_1\">\n   <g id=\"patch_2\">\n    <path d=\"M 35.304688 228.439219 \nL 370.104688 228.439219 \nL 370.104688 10.999219 \nL 35.304688 10.999219 \nz\n\" style=\"fill:#ffffff;\"/>\n   </g>\n   <g id=\"PathCollection_1\">\n    <defs>\n     <path d=\"M -3 3 \nL 3 -3 \nM -3 -3 \nL 3 3 \n\" id=\"m70648a24df\" style=\"stroke:#0000ff;stroke-width:1.5;\"/>\n    </defs>\n    <g clip-path=\"url(#p74ea4e9be5)\">\n     <use style=\"fill:#0000ff;stroke:#0000ff;stroke-width:1.5;\" x=\"91.420461\" xlink:href=\"#m70648a24df\" y=\"120.60724\"/>\n     <use style=\"fill:#0000ff;stroke:#0000ff;stroke-width:1.5;\" x=\"238.975366\" xlink:href=\"#m70648a24df\" y=\"113.100628\"/>\n     <use style=\"fill:#0000ff;stroke:#0000ff;stroke-width:1.5;\" x=\"70.188985\" xlink:href=\"#m70648a24df\" y=\"117.519613\"/>\n     <use style=\"fill:#0000ff;stroke:#0000ff;stroke-width:1.5;\" x=\"232.776269\" xlink:href=\"#m70648a24df\" y=\"114.130162\"/>\n     <use style=\"fill:#0000ff;stroke:#0000ff;stroke-width:1.5;\" x=\"229.892753\" xlink:href=\"#m70648a24df\" y=\"127.254079\"/>\n     <use style=\"fill:#0000ff;stroke:#0000ff;stroke-width:1.5;\" x=\"183.777107\" xlink:href=\"#m70648a24df\" y=\"120.718744\"/>\n     <use style=\"fill:#0000ff;stroke:#0000ff;stroke-width:1.5;\" x=\"300.438389\" xlink:href=\"#m70648a24df\" y=\"109.955376\"/>\n     <use style=\"fill:#0000ff;stroke:#0000ff;stroke-width:1.5;\" x=\"259.204416\" xlink:href=\"#m70648a24df\" y=\"120.982466\"/>\n     <use style=\"fill:#0000ff;stroke:#0000ff;stroke-width:1.5;\" x=\"93.779251\" xlink:href=\"#m70648a24df\" y=\"116.652469\"/>\n     <use style=\"fill:#0000ff;stroke:#0000ff;stroke-width:1.5;\" x=\"191.537577\" xlink:href=\"#m70648a24df\" y=\"118.862181\"/>\n     <use style=\"fill:#0000ff;stroke:#0000ff;stroke-width:1.5;\" x=\"339.913988\" xlink:href=\"#m70648a24df\" y=\"105.040576\"/>\n     <use style=\"fill:#0000ff;stroke:#0000ff;stroke-width:1.5;\" x=\"90.98445\" xlink:href=\"#m70648a24df\" y=\"122.669285\"/>\n     <use style=\"fill:#0000ff;stroke:#0000ff;stroke-width:1.5;\" x=\"85.017788\" xlink:href=\"#m70648a24df\" y=\"120.008496\"/>\n     <use style=\"fill:#0000ff;stroke:#0000ff;stroke-width:1.5;\" x=\"40.844749\" xlink:href=\"#m70648a24df\" y=\"114.449542\"/>\n     <use style=\"fill:#0000ff;stroke:#0000ff;stroke-width:1.5;\" x=\"89.742763\" xlink:href=\"#m70648a24df\" y=\"117.0984\"/>\n     <use style=\"fill:#0000ff;stroke:#0000ff;stroke-width:1.5;\" x=\"163.282524\" xlink:href=\"#m70648a24df\" y=\"126.851693\"/>\n     <use style=\"fill:#0000ff;stroke:#0000ff;stroke-width:1.5;\" x=\"65.207136\" xlink:href=\"#m70648a24df\" y=\"121.307863\"/>\n     <use style=\"fill:#0000ff;stroke:#0000ff;stroke-width:1.5;\" x=\"68.367281\" xlink:href=\"#m70648a24df\" y=\"120.525085\"/>\n     <use style=\"fill:#0000ff;stroke:#0000ff;stroke-width:1.5;\" x=\"268.97376\" xlink:href=\"#m70648a24df\" y=\"117.092707\"/>\n     <use style=\"fill:#0000ff;stroke:#0000ff;stroke-width:1.5;\" x=\"341.411398\" xlink:href=\"#m70648a24df\" y=\"127.122259\"/>\n     <use style=\"fill:#0000ff;stroke:#0000ff;stroke-width:1.5;\" x=\"184.386818\" xlink:href=\"#m70648a24df\" y=\"114.927893\"/>\n     <use style=\"fill:#0000ff;stroke:#0000ff;stroke-width:1.5;\" x=\"355.412947\" xlink:href=\"#m70648a24df\" y=\"126.799841\"/>\n     <use style=\"fill:#0000ff;stroke:#0000ff;stroke-width:1.5;\" x=\"204.919106\" xlink:href=\"#m70648a24df\" y=\"114.287727\"/>\n     <use style=\"fill:#0000ff;stroke:#0000ff;stroke-width:1.5;\" x=\"346.287185\" xlink:href=\"#m70648a24df\" y=\"114.706826\"/>\n     <use style=\"fill:#0000ff;stroke:#0000ff;stroke-width:1.5;\" x=\"304.959493\" xlink:href=\"#m70648a24df\" y=\"120.954898\"/>\n     <use style=\"fill:#0000ff;stroke:#0000ff;stroke-width:1.5;\" x=\"40.205048\" xlink:href=\"#m70648a24df\" y=\"122.492754\"/>\n     <use style=\"fill:#0000ff;stroke:#0000ff;stroke-width:1.5;\" x=\"149.591825\" xlink:href=\"#m70648a24df\" y=\"123.0697\"/>\n     <use style=\"fill:#0000ff;stroke:#0000ff;stroke-width:1.5;\" x=\"199.820597\" xlink:href=\"#m70648a24df\" y=\"129.451281\"/>\n     <use style=\"fill:#0000ff;stroke:#0000ff;stroke-width:1.5;\" x=\"190.047662\" xlink:href=\"#m70648a24df\" y=\"120.077396\"/>\n     <use style=\"fill:#0000ff;stroke:#0000ff;stroke-width:1.5;\" x=\"43.184171\" xlink:href=\"#m70648a24df\" y=\"121.66194\"/>\n     <use style=\"fill:#0000ff;stroke:#0000ff;stroke-width:1.5;\" x=\"368.333422\" xlink:href=\"#m70648a24df\" y=\"124.583532\"/>\n     <use style=\"fill:#0000ff;stroke:#0000ff;stroke-width:1.5;\" x=\"176.759723\" xlink:href=\"#m70648a24df\" y=\"125.091601\"/>\n     <use style=\"fill:#0000ff;stroke:#0000ff;stroke-width:1.5;\" x=\"131.980529\" xlink:href=\"#m70648a24df\" y=\"121.868832\"/>\n     <use style=\"fill:#0000ff;stroke:#0000ff;stroke-width:1.5;\" x=\"318.325926\" xlink:href=\"#m70648a24df\" y=\"130.493623\"/>\n     <use style=\"fill:#0000ff;stroke:#0000ff;stroke-width:1.5;\" x=\"69.744497\" xlink:href=\"#m70648a24df\" y=\"111.056681\"/>\n     <use style=\"fill:#0000ff;stroke:#0000ff;stroke-width:1.5;\" x=\"39.532733\" xlink:href=\"#m70648a24df\" y=\"115.623819\"/>\n     <use style=\"fill:#0000ff;stroke:#0000ff;stroke-width:1.5;\" x=\"141.68033\" xlink:href=\"#m70648a24df\" y=\"114.755177\"/>\n     <use style=\"fill:#0000ff;stroke:#0000ff;stroke-width:1.5;\" x=\"128.720184\" xlink:href=\"#m70648a24df\" y=\"121.73809\"/>\n     <use style=\"fill:#0000ff;stroke:#0000ff;stroke-width:1.5;\" x=\"168.509434\" xlink:href=\"#m70648a24df\" y=\"118.218649\"/>\n     <use style=\"fill:#0000ff;stroke:#0000ff;stroke-width:1.5;\" x=\"178.587796\" xlink:href=\"#m70648a24df\" y=\"120.860161\"/>\n     <use style=\"fill:#0000ff;stroke:#0000ff;stroke-width:1.5;\" x=\"180.005044\" xlink:href=\"#m70648a24df\" y=\"119.07482\"/>\n     <use style=\"fill:#0000ff;stroke:#0000ff;stroke-width:1.5;\" x=\"164.591327\" xlink:href=\"#m70648a24df\" y=\"121.651099\"/>\n     <use style=\"fill:#0000ff;stroke:#0000ff;stroke-width:1.5;\" x=\"113.404456\" xlink:href=\"#m70648a24df\" y=\"111.906227\"/>\n     <use style=\"fill:#0000ff;stroke:#0000ff;stroke-width:1.5;\" x=\"97.89432\" xlink:href=\"#m70648a24df\" y=\"113.083586\"/>\n     <use style=\"fill:#0000ff;stroke:#0000ff;stroke-width:1.5;\" x=\"113.241979\" xlink:href=\"#m70648a24df\" y=\"124.191388\"/>\n     <use style=\"fill:#0000ff;stroke:#0000ff;stroke-width:1.5;\" x=\"179.235381\" xlink:href=\"#m70648a24df\" y=\"118.471325\"/>\n     <use style=\"fill:#0000ff;stroke:#0000ff;stroke-width:1.5;\" x=\"138.120411\" xlink:href=\"#m70648a24df\" y=\"120.896864\"/>\n     <use style=\"fill:#0000ff;stroke:#0000ff;stroke-width:1.5;\" x=\"142.834812\" xlink:href=\"#m70648a24df\" y=\"118.471042\"/>\n     <use style=\"fill:#0000ff;stroke:#0000ff;stroke-width:1.5;\" x=\"325.927322\" xlink:href=\"#m70648a24df\" y=\"132.743565\"/>\n     <use style=\"fill:#0000ff;stroke:#0000ff;stroke-width:1.5;\" x=\"172.495916\" xlink:href=\"#m70648a24df\" y=\"127.550563\"/>\n     <use style=\"fill:#0000ff;stroke:#0000ff;stroke-width:1.5;\" x=\"166.588129\" xlink:href=\"#m70648a24df\" y=\"125.69433\"/>\n     <use style=\"fill:#0000ff;stroke:#0000ff;stroke-width:1.5;\" x=\"118.794869\" xlink:href=\"#m70648a24df\" y=\"112.083782\"/>\n     <use style=\"fill:#0000ff;stroke:#0000ff;stroke-width:1.5;\" x=\"354.213596\" xlink:href=\"#m70648a24df\" y=\"112.77586\"/>\n     <use style=\"fill:#0000ff;stroke:#0000ff;stroke-width:1.5;\" x=\"118.050583\" xlink:href=\"#m70648a24df\" y=\"117.035576\"/>\n     <use style=\"fill:#0000ff;stroke:#0000ff;stroke-width:1.5;\" x=\"335.605218\" xlink:href=\"#m70648a24df\" y=\"123.538231\"/>\n     <use style=\"fill:#0000ff;stroke:#0000ff;stroke-width:1.5;\" x=\"290.420833\" xlink:href=\"#m70648a24df\" y=\"114.403586\"/>\n     <use style=\"fill:#0000ff;stroke:#0000ff;stroke-width:1.5;\" x=\"209.074617\" xlink:href=\"#m70648a24df\" y=\"124.837047\"/>\n     <use style=\"fill:#0000ff;stroke:#0000ff;stroke-width:1.5;\" x=\"294.347212\" xlink:href=\"#m70648a24df\" y=\"125.667154\"/>\n     <use style=\"fill:#0000ff;stroke:#0000ff;stroke-width:1.5;\" x=\"221.762728\" xlink:href=\"#m70648a24df\" y=\"118.600932\"/>\n     <use style=\"fill:#0000ff;stroke:#0000ff;stroke-width:1.5;\" x=\"157.034606\" xlink:href=\"#m70648a24df\" y=\"119.945161\"/>\n     <use style=\"fill:#0000ff;stroke:#0000ff;stroke-width:1.5;\" x=\"327.185841\" xlink:href=\"#m70648a24df\" y=\"112.511594\"/>\n     <use style=\"fill:#0000ff;stroke:#0000ff;stroke-width:1.5;\" x=\"237.762853\" xlink:href=\"#m70648a24df\" y=\"118.268057\"/>\n     <use style=\"fill:#0000ff;stroke:#0000ff;stroke-width:1.5;\" x=\"248.256969\" xlink:href=\"#m70648a24df\" y=\"123.049666\"/>\n     <use style=\"fill:#0000ff;stroke:#0000ff;stroke-width:1.5;\" x=\"131.761249\" xlink:href=\"#m70648a24df\" y=\"111.460417\"/>\n     <use style=\"fill:#0000ff;stroke:#0000ff;stroke-width:1.5;\" x=\"206.556216\" xlink:href=\"#m70648a24df\" y=\"130.785465\"/>\n     <use style=\"fill:#0000ff;stroke:#0000ff;stroke-width:1.5;\" x=\"58.433876\" xlink:href=\"#m70648a24df\" y=\"120.875976\"/>\n     <use style=\"fill:#0000ff;stroke:#0000ff;stroke-width:1.5;\" x=\"330.490411\" xlink:href=\"#m70648a24df\" y=\"123.198007\"/>\n     <use style=\"fill:#0000ff;stroke:#0000ff;stroke-width:1.5;\" x=\"215.785544\" xlink:href=\"#m70648a24df\" y=\"121.563521\"/>\n     <use style=\"fill:#0000ff;stroke:#0000ff;stroke-width:1.5;\" x=\"361.923529\" xlink:href=\"#m70648a24df\" y=\"117.155207\"/>\n     <use style=\"fill:#0000ff;stroke:#0000ff;stroke-width:1.5;\" x=\"363.241611\" xlink:href=\"#m70648a24df\" y=\"115.151531\"/>\n     <use style=\"fill:#0000ff;stroke:#0000ff;stroke-width:1.5;\" x=\"145.485498\" xlink:href=\"#m70648a24df\" y=\"116.577262\"/>\n     <use style=\"fill:#0000ff;stroke:#0000ff;stroke-width:1.5;\" x=\"280.876848\" xlink:href=\"#m70648a24df\" y=\"123.397362\"/>\n     <use style=\"fill:#0000ff;stroke:#0000ff;stroke-width:1.5;\" x=\"254.310963\" xlink:href=\"#m70648a24df\" y=\"114.995381\"/>\n     <use style=\"fill:#0000ff;stroke:#0000ff;stroke-width:1.5;\" x=\"38.668544\" xlink:href=\"#m70648a24df\" y=\"113.420748\"/>\n     <use style=\"fill:#0000ff;stroke:#0000ff;stroke-width:1.5;\" x=\"117.831609\" xlink:href=\"#m70648a24df\" y=\"124.322291\"/>\n     <use style=\"fill:#0000ff;stroke:#0000ff;stroke-width:1.5;\" x=\"290.776842\" xlink:href=\"#m70648a24df\" y=\"132.531919\"/>\n     <use style=\"fill:#0000ff;stroke:#0000ff;stroke-width:1.5;\" x=\"202.486798\" xlink:href=\"#m70648a24df\" y=\"120.380493\"/>\n     <use style=\"fill:#0000ff;stroke:#0000ff;stroke-width:1.5;\" x=\"227.152954\" xlink:href=\"#m70648a24df\" y=\"114.577129\"/>\n     <use style=\"fill:#0000ff;stroke:#0000ff;stroke-width:1.5;\" x=\"68.949197\" xlink:href=\"#m70648a24df\" y=\"126.184635\"/>\n     <use style=\"fill:#0000ff;stroke:#0000ff;stroke-width:1.5;\" x=\"325.938488\" xlink:href=\"#m70648a24df\" y=\"130.609857\"/>\n     <use style=\"fill:#0000ff;stroke:#0000ff;stroke-width:1.5;\" x=\"46.247277\" xlink:href=\"#m70648a24df\" y=\"127.19924\"/>\n     <use style=\"fill:#0000ff;stroke:#0000ff;stroke-width:1.5;\" x=\"258.023327\" xlink:href=\"#m70648a24df\" y=\"120.745731\"/>\n     <use style=\"fill:#0000ff;stroke:#0000ff;stroke-width:1.5;\" x=\"272.047944\" xlink:href=\"#m70648a24df\" y=\"113.962768\"/>\n     <use style=\"fill:#0000ff;stroke:#0000ff;stroke-width:1.5;\" x=\"231.620508\" xlink:href=\"#m70648a24df\" y=\"124.184772\"/>\n     <use style=\"fill:#0000ff;stroke:#0000ff;stroke-width:1.5;\" x=\"328.600977\" xlink:href=\"#m70648a24df\" y=\"119.628248\"/>\n     <use style=\"fill:#0000ff;stroke:#0000ff;stroke-width:1.5;\" x=\"256.451743\" xlink:href=\"#m70648a24df\" y=\"123.044651\"/>\n     <use style=\"fill:#0000ff;stroke:#0000ff;stroke-width:1.5;\" x=\"161.41323\" xlink:href=\"#m70648a24df\" y=\"120.066565\"/>\n     <use style=\"fill:#0000ff;stroke:#0000ff;stroke-width:1.5;\" x=\"125.185397\" xlink:href=\"#m70648a24df\" y=\"119.660448\"/>\n     <use style=\"fill:#0000ff;stroke:#0000ff;stroke-width:1.5;\" x=\"301.229967\" xlink:href=\"#m70648a24df\" y=\"119.729623\"/>\n     <use style=\"fill:#0000ff;stroke:#0000ff;stroke-width:1.5;\" x=\"173.278636\" xlink:href=\"#m70648a24df\" y=\"113.729971\"/>\n     <use style=\"fill:#0000ff;stroke:#0000ff;stroke-width:1.5;\" x=\"70.226551\" xlink:href=\"#m70648a24df\" y=\"117.978959\"/>\n     <use style=\"fill:#0000ff;stroke:#0000ff;stroke-width:1.5;\" x=\"300.762344\" xlink:href=\"#m70648a24df\" y=\"118.51038\"/>\n     <use style=\"fill:#0000ff;stroke:#0000ff;stroke-width:1.5;\" x=\"339.029084\" xlink:href=\"#m70648a24df\" y=\"113.572758\"/>\n     <use style=\"fill:#0000ff;stroke:#0000ff;stroke-width:1.5;\" x=\"47.545858\" xlink:href=\"#m70648a24df\" y=\"118.684178\"/>\n     <use style=\"fill:#0000ff;stroke:#0000ff;stroke-width:1.5;\" x=\"328.900958\" xlink:href=\"#m70648a24df\" y=\"121.583171\"/>\n     <use style=\"fill:#0000ff;stroke:#0000ff;stroke-width:1.5;\" x=\"359.099881\" xlink:href=\"#m70648a24df\" y=\"126.004885\"/>\n     <use style=\"fill:#0000ff;stroke:#0000ff;stroke-width:1.5;\" x=\"228.46598\" xlink:href=\"#m70648a24df\" y=\"118.435331\"/>\n     <use style=\"fill:#0000ff;stroke:#0000ff;stroke-width:1.5;\" x=\"145.44756\" xlink:href=\"#m70648a24df\" y=\"121.701748\"/>\n     <use style=\"fill:#0000ff;stroke:#0000ff;stroke-width:1.5;\" x=\"140.427064\" xlink:href=\"#m70648a24df\" y=\"122.385122\"/>\n     <use style=\"fill:#0000ff;stroke:#0000ff;stroke-width:1.5;\" x=\"340.407349\" xlink:href=\"#m70648a24df\" y=\"117.936518\"/>\n     <use style=\"fill:#0000ff;stroke:#0000ff;stroke-width:1.5;\" x=\"44.97211\" xlink:href=\"#m70648a24df\" y=\"106.989821\"/>\n     <use style=\"fill:#0000ff;stroke:#0000ff;stroke-width:1.5;\" x=\"310.717407\" xlink:href=\"#m70648a24df\" y=\"132.162713\"/>\n    </g>\n   </g>\n   <g id=\"PathCollection_2\">\n    <defs>\n     <path d=\"M -3 3 \nL 3 -3 \nM -3 -3 \nL 3 3 \n\" id=\"m972f1e0899\" style=\"stroke:#ff0000;stroke-width:1.5;\"/>\n    </defs>\n    <g clip-path=\"url(#p74ea4e9be5)\">\n     <use style=\"fill:#ff0000;stroke:#ff0000;stroke-width:1.5;\" x=\"308.260419\" xlink:href=\"#m972f1e0899\" y=\"21.844587\"/>\n     <use style=\"fill:#ff0000;stroke:#ff0000;stroke-width:1.5;\" x=\"305.309693\" xlink:href=\"#m972f1e0899\" y=\"69.429258\"/>\n     <use style=\"fill:#ff0000;stroke:#ff0000;stroke-width:1.5;\" x=\"131.099047\" xlink:href=\"#m972f1e0899\" y=\"73.746869\"/>\n     <use style=\"fill:#ff0000;stroke:#ff0000;stroke-width:1.5;\" x=\"174.319083\" xlink:href=\"#m972f1e0899\" y=\"83.44936\"/>\n     <use style=\"fill:#ff0000;stroke:#ff0000;stroke-width:1.5;\" x=\"266.891209\" xlink:href=\"#m972f1e0899\" y=\"84.391328\"/>\n     <use style=\"fill:#ff0000;stroke:#ff0000;stroke-width:1.5;\" x=\"178.750167\" xlink:href=\"#m972f1e0899\" y=\"90.263443\"/>\n     <use style=\"fill:#ff0000;stroke:#ff0000;stroke-width:1.5;\" x=\"229.77446\" xlink:href=\"#m972f1e0899\" y=\"147.596153\"/>\n     <use style=\"fill:#ff0000;stroke:#ff0000;stroke-width:1.5;\" x=\"257.880969\" xlink:href=\"#m972f1e0899\" y=\"143.704566\"/>\n    </g>\n   </g>\n   <g id=\"matplotlib.axis_1\">\n    <g id=\"xtick_1\">\n     <g id=\"line2d_1\">\n      <defs>\n       <path d=\"M 0 0 \nL 0 3.5 \n\" id=\"m5ecc7a1ae9\" style=\"stroke:#000000;stroke-width:0.8;\"/>\n      </defs>\n      <g>\n       <use style=\"stroke:#000000;stroke-width:0.8;\" x=\"35.304688\" xlink:href=\"#m5ecc7a1ae9\" y=\"228.439219\"/>\n      </g>\n     </g>\n     <g id=\"text_1\">\n      <!-- 0.0 -->\n      <defs>\n       <path d=\"M 31.78125 66.40625 \nQ 24.171875 66.40625 20.328125 58.90625 \nQ 16.5 51.421875 16.5 36.375 \nQ 16.5 21.390625 20.328125 13.890625 \nQ 24.171875 6.390625 31.78125 6.390625 \nQ 39.453125 6.390625 43.28125 13.890625 \nQ 47.125 21.390625 47.125 36.375 \nQ 47.125 51.421875 43.28125 58.90625 \nQ 39.453125 66.40625 31.78125 66.40625 \nz\nM 31.78125 74.21875 \nQ 44.046875 74.21875 50.515625 64.515625 \nQ 56.984375 54.828125 56.984375 36.375 \nQ 56.984375 17.96875 50.515625 8.265625 \nQ 44.046875 -1.421875 31.78125 -1.421875 \nQ 19.53125 -1.421875 13.0625 8.265625 \nQ 6.59375 17.96875 6.59375 36.375 \nQ 6.59375 54.828125 13.0625 64.515625 \nQ 19.53125 74.21875 31.78125 74.21875 \nz\n\" id=\"DejaVuSans-48\"/>\n       <path d=\"M 10.6875 12.40625 \nL 21 12.40625 \nL 21 0 \nL 10.6875 0 \nz\n\" id=\"DejaVuSans-46\"/>\n      </defs>\n      <g transform=\"translate(27.353125 243.037656)scale(0.1 -0.1)\">\n       <use xlink:href=\"#DejaVuSans-48\"/>\n       <use x=\"63.623047\" xlink:href=\"#DejaVuSans-46\"/>\n       <use x=\"95.410156\" xlink:href=\"#DejaVuSans-48\"/>\n      </g>\n     </g>\n    </g>\n    <g id=\"xtick_2\">\n     <g id=\"line2d_2\">\n      <g>\n       <use style=\"stroke:#000000;stroke-width:0.8;\" x=\"102.264688\" xlink:href=\"#m5ecc7a1ae9\" y=\"228.439219\"/>\n      </g>\n     </g>\n     <g id=\"text_2\">\n      <!-- 0.2 -->\n      <defs>\n       <path d=\"M 19.1875 8.296875 \nL 53.609375 8.296875 \nL 53.609375 0 \nL 7.328125 0 \nL 7.328125 8.296875 \nQ 12.9375 14.109375 22.625 23.890625 \nQ 32.328125 33.6875 34.8125 36.53125 \nQ 39.546875 41.84375 41.421875 45.53125 \nQ 43.3125 49.21875 43.3125 52.78125 \nQ 43.3125 58.59375 39.234375 62.25 \nQ 35.15625 65.921875 28.609375 65.921875 \nQ 23.96875 65.921875 18.8125 64.3125 \nQ 13.671875 62.703125 7.8125 59.421875 \nL 7.8125 69.390625 \nQ 13.765625 71.78125 18.9375 73 \nQ 24.125 74.21875 28.421875 74.21875 \nQ 39.75 74.21875 46.484375 68.546875 \nQ 53.21875 62.890625 53.21875 53.421875 \nQ 53.21875 48.921875 51.53125 44.890625 \nQ 49.859375 40.875 45.40625 35.40625 \nQ 44.1875 33.984375 37.640625 27.21875 \nQ 31.109375 20.453125 19.1875 8.296875 \nz\n\" id=\"DejaVuSans-50\"/>\n      </defs>\n      <g transform=\"translate(94.313125 243.037656)scale(0.1 -0.1)\">\n       <use xlink:href=\"#DejaVuSans-48\"/>\n       <use x=\"63.623047\" xlink:href=\"#DejaVuSans-46\"/>\n       <use x=\"95.410156\" xlink:href=\"#DejaVuSans-50\"/>\n      </g>\n     </g>\n    </g>\n    <g id=\"xtick_3\">\n     <g id=\"line2d_3\">\n      <g>\n       <use style=\"stroke:#000000;stroke-width:0.8;\" x=\"169.224688\" xlink:href=\"#m5ecc7a1ae9\" y=\"228.439219\"/>\n      </g>\n     </g>\n     <g id=\"text_3\">\n      <!-- 0.4 -->\n      <defs>\n       <path d=\"M 37.796875 64.3125 \nL 12.890625 25.390625 \nL 37.796875 25.390625 \nz\nM 35.203125 72.90625 \nL 47.609375 72.90625 \nL 47.609375 25.390625 \nL 58.015625 25.390625 \nL 58.015625 17.1875 \nL 47.609375 17.1875 \nL 47.609375 0 \nL 37.796875 0 \nL 37.796875 17.1875 \nL 4.890625 17.1875 \nL 4.890625 26.703125 \nz\n\" id=\"DejaVuSans-52\"/>\n      </defs>\n      <g transform=\"translate(161.273125 243.037656)scale(0.1 -0.1)\">\n       <use xlink:href=\"#DejaVuSans-48\"/>\n       <use x=\"63.623047\" xlink:href=\"#DejaVuSans-46\"/>\n       <use x=\"95.410156\" xlink:href=\"#DejaVuSans-52\"/>\n      </g>\n     </g>\n    </g>\n    <g id=\"xtick_4\">\n     <g id=\"line2d_4\">\n      <g>\n       <use style=\"stroke:#000000;stroke-width:0.8;\" x=\"236.184688\" xlink:href=\"#m5ecc7a1ae9\" y=\"228.439219\"/>\n      </g>\n     </g>\n     <g id=\"text_4\">\n      <!-- 0.6 -->\n      <defs>\n       <path d=\"M 33.015625 40.375 \nQ 26.375 40.375 22.484375 35.828125 \nQ 18.609375 31.296875 18.609375 23.390625 \nQ 18.609375 15.53125 22.484375 10.953125 \nQ 26.375 6.390625 33.015625 6.390625 \nQ 39.65625 6.390625 43.53125 10.953125 \nQ 47.40625 15.53125 47.40625 23.390625 \nQ 47.40625 31.296875 43.53125 35.828125 \nQ 39.65625 40.375 33.015625 40.375 \nz\nM 52.59375 71.296875 \nL 52.59375 62.3125 \nQ 48.875 64.0625 45.09375 64.984375 \nQ 41.3125 65.921875 37.59375 65.921875 \nQ 27.828125 65.921875 22.671875 59.328125 \nQ 17.53125 52.734375 16.796875 39.40625 \nQ 19.671875 43.65625 24.015625 45.921875 \nQ 28.375 48.1875 33.59375 48.1875 \nQ 44.578125 48.1875 50.953125 41.515625 \nQ 57.328125 34.859375 57.328125 23.390625 \nQ 57.328125 12.15625 50.6875 5.359375 \nQ 44.046875 -1.421875 33.015625 -1.421875 \nQ 20.359375 -1.421875 13.671875 8.265625 \nQ 6.984375 17.96875 6.984375 36.375 \nQ 6.984375 53.65625 15.1875 63.9375 \nQ 23.390625 74.21875 37.203125 74.21875 \nQ 40.921875 74.21875 44.703125 73.484375 \nQ 48.484375 72.75 52.59375 71.296875 \nz\n\" id=\"DejaVuSans-54\"/>\n      </defs>\n      <g transform=\"translate(228.233125 243.037656)scale(0.1 -0.1)\">\n       <use xlink:href=\"#DejaVuSans-48\"/>\n       <use x=\"63.623047\" xlink:href=\"#DejaVuSans-46\"/>\n       <use x=\"95.410156\" xlink:href=\"#DejaVuSans-54\"/>\n      </g>\n     </g>\n    </g>\n    <g id=\"xtick_5\">\n     <g id=\"line2d_5\">\n      <g>\n       <use style=\"stroke:#000000;stroke-width:0.8;\" x=\"303.144688\" xlink:href=\"#m5ecc7a1ae9\" y=\"228.439219\"/>\n      </g>\n     </g>\n     <g id=\"text_5\">\n      <!-- 0.8 -->\n      <defs>\n       <path d=\"M 31.78125 34.625 \nQ 24.75 34.625 20.71875 30.859375 \nQ 16.703125 27.09375 16.703125 20.515625 \nQ 16.703125 13.921875 20.71875 10.15625 \nQ 24.75 6.390625 31.78125 6.390625 \nQ 38.8125 6.390625 42.859375 10.171875 \nQ 46.921875 13.96875 46.921875 20.515625 \nQ 46.921875 27.09375 42.890625 30.859375 \nQ 38.875 34.625 31.78125 34.625 \nz\nM 21.921875 38.8125 \nQ 15.578125 40.375 12.03125 44.71875 \nQ 8.5 49.078125 8.5 55.328125 \nQ 8.5 64.0625 14.71875 69.140625 \nQ 20.953125 74.21875 31.78125 74.21875 \nQ 42.671875 74.21875 48.875 69.140625 \nQ 55.078125 64.0625 55.078125 55.328125 \nQ 55.078125 49.078125 51.53125 44.71875 \nQ 48 40.375 41.703125 38.8125 \nQ 48.828125 37.15625 52.796875 32.3125 \nQ 56.78125 27.484375 56.78125 20.515625 \nQ 56.78125 9.90625 50.3125 4.234375 \nQ 43.84375 -1.421875 31.78125 -1.421875 \nQ 19.734375 -1.421875 13.25 4.234375 \nQ 6.78125 9.90625 6.78125 20.515625 \nQ 6.78125 27.484375 10.78125 32.3125 \nQ 14.796875 37.15625 21.921875 38.8125 \nz\nM 18.3125 54.390625 \nQ 18.3125 48.734375 21.84375 45.5625 \nQ 25.390625 42.390625 31.78125 42.390625 \nQ 38.140625 42.390625 41.71875 45.5625 \nQ 45.3125 48.734375 45.3125 54.390625 \nQ 45.3125 60.0625 41.71875 63.234375 \nQ 38.140625 66.40625 31.78125 66.40625 \nQ 25.390625 66.40625 21.84375 63.234375 \nQ 18.3125 60.0625 18.3125 54.390625 \nz\n\" id=\"DejaVuSans-56\"/>\n      </defs>\n      <g transform=\"translate(295.193125 243.037656)scale(0.1 -0.1)\">\n       <use xlink:href=\"#DejaVuSans-48\"/>\n       <use x=\"63.623047\" xlink:href=\"#DejaVuSans-46\"/>\n       <use x=\"95.410156\" xlink:href=\"#DejaVuSans-56\"/>\n      </g>\n     </g>\n    </g>\n    <g id=\"xtick_6\">\n     <g id=\"line2d_6\">\n      <g>\n       <use style=\"stroke:#000000;stroke-width:0.8;\" x=\"370.104688\" xlink:href=\"#m5ecc7a1ae9\" y=\"228.439219\"/>\n      </g>\n     </g>\n     <g id=\"text_6\">\n      <!-- 1.0 -->\n      <defs>\n       <path d=\"M 12.40625 8.296875 \nL 28.515625 8.296875 \nL 28.515625 63.921875 \nL 10.984375 60.40625 \nL 10.984375 69.390625 \nL 28.421875 72.90625 \nL 38.28125 72.90625 \nL 38.28125 8.296875 \nL 54.390625 8.296875 \nL 54.390625 0 \nL 12.40625 0 \nz\n\" id=\"DejaVuSans-49\"/>\n      </defs>\n      <g transform=\"translate(362.153125 243.037656)scale(0.1 -0.1)\">\n       <use xlink:href=\"#DejaVuSans-49\"/>\n       <use x=\"63.623047\" xlink:href=\"#DejaVuSans-46\"/>\n       <use x=\"95.410156\" xlink:href=\"#DejaVuSans-48\"/>\n      </g>\n     </g>\n    </g>\n   </g>\n   <g id=\"matplotlib.axis_2\">\n    <g id=\"ytick_1\">\n     <g id=\"line2d_7\">\n      <defs>\n       <path d=\"M 0 0 \nL -3.5 0 \n\" id=\"m2f9a12253e\" style=\"stroke:#000000;stroke-width:0.8;\"/>\n      </defs>\n      <g>\n       <use style=\"stroke:#000000;stroke-width:0.8;\" x=\"35.304688\" xlink:href=\"#m2f9a12253e\" y=\"228.439219\"/>\n      </g>\n     </g>\n     <g id=\"text_7\">\n      <!-- −20 -->\n      <defs>\n       <path d=\"M 10.59375 35.5 \nL 73.1875 35.5 \nL 73.1875 27.203125 \nL 10.59375 27.203125 \nz\n\" id=\"DejaVuSans-8722\"/>\n      </defs>\n      <g transform=\"translate(7.2 232.238437)scale(0.1 -0.1)\">\n       <use xlink:href=\"#DejaVuSans-8722\"/>\n       <use x=\"83.789062\" xlink:href=\"#DejaVuSans-50\"/>\n       <use x=\"147.412109\" xlink:href=\"#DejaVuSans-48\"/>\n      </g>\n     </g>\n    </g>\n    <g id=\"ytick_2\">\n     <g id=\"line2d_8\">\n      <g>\n       <use style=\"stroke:#000000;stroke-width:0.8;\" x=\"35.304688\" xlink:href=\"#m2f9a12253e\" y=\"201.259219\"/>\n      </g>\n     </g>\n     <g id=\"text_8\">\n      <!-- −15 -->\n      <defs>\n       <path d=\"M 10.796875 72.90625 \nL 49.515625 72.90625 \nL 49.515625 64.59375 \nL 19.828125 64.59375 \nL 19.828125 46.734375 \nQ 21.96875 47.46875 24.109375 47.828125 \nQ 26.265625 48.1875 28.421875 48.1875 \nQ 40.625 48.1875 47.75 41.5 \nQ 54.890625 34.8125 54.890625 23.390625 \nQ 54.890625 11.625 47.5625 5.09375 \nQ 40.234375 -1.421875 26.90625 -1.421875 \nQ 22.3125 -1.421875 17.546875 -0.640625 \nQ 12.796875 0.140625 7.71875 1.703125 \nL 7.71875 11.625 \nQ 12.109375 9.234375 16.796875 8.0625 \nQ 21.484375 6.890625 26.703125 6.890625 \nQ 35.15625 6.890625 40.078125 11.328125 \nQ 45.015625 15.765625 45.015625 23.390625 \nQ 45.015625 31 40.078125 35.4375 \nQ 35.15625 39.890625 26.703125 39.890625 \nQ 22.75 39.890625 18.8125 39.015625 \nQ 14.890625 38.140625 10.796875 36.28125 \nz\n\" id=\"DejaVuSans-53\"/>\n      </defs>\n      <g transform=\"translate(7.2 205.058437)scale(0.1 -0.1)\">\n       <use xlink:href=\"#DejaVuSans-8722\"/>\n       <use x=\"83.789062\" xlink:href=\"#DejaVuSans-49\"/>\n       <use x=\"147.412109\" xlink:href=\"#DejaVuSans-53\"/>\n      </g>\n     </g>\n    </g>\n    <g id=\"ytick_3\">\n     <g id=\"line2d_9\">\n      <g>\n       <use style=\"stroke:#000000;stroke-width:0.8;\" x=\"35.304688\" xlink:href=\"#m2f9a12253e\" y=\"174.079219\"/>\n      </g>\n     </g>\n     <g id=\"text_9\">\n      <!-- −10 -->\n      <g transform=\"translate(7.2 177.878437)scale(0.1 -0.1)\">\n       <use xlink:href=\"#DejaVuSans-8722\"/>\n       <use x=\"83.789062\" xlink:href=\"#DejaVuSans-49\"/>\n       <use x=\"147.412109\" xlink:href=\"#DejaVuSans-48\"/>\n      </g>\n     </g>\n    </g>\n    <g id=\"ytick_4\">\n     <g id=\"line2d_10\">\n      <g>\n       <use style=\"stroke:#000000;stroke-width:0.8;\" x=\"35.304688\" xlink:href=\"#m2f9a12253e\" y=\"146.899219\"/>\n      </g>\n     </g>\n     <g id=\"text_10\">\n      <!-- −5 -->\n      <g transform=\"translate(13.5625 150.698437)scale(0.1 -0.1)\">\n       <use xlink:href=\"#DejaVuSans-8722\"/>\n       <use x=\"83.789062\" xlink:href=\"#DejaVuSans-53\"/>\n      </g>\n     </g>\n    </g>\n    <g id=\"ytick_5\">\n     <g id=\"line2d_11\">\n      <g>\n       <use style=\"stroke:#000000;stroke-width:0.8;\" x=\"35.304688\" xlink:href=\"#m2f9a12253e\" y=\"119.719219\"/>\n      </g>\n     </g>\n     <g id=\"text_11\">\n      <!-- 0 -->\n      <g transform=\"translate(21.942188 123.518437)scale(0.1 -0.1)\">\n       <use xlink:href=\"#DejaVuSans-48\"/>\n      </g>\n     </g>\n    </g>\n    <g id=\"ytick_6\">\n     <g id=\"line2d_12\">\n      <g>\n       <use style=\"stroke:#000000;stroke-width:0.8;\" x=\"35.304688\" xlink:href=\"#m2f9a12253e\" y=\"92.539219\"/>\n      </g>\n     </g>\n     <g id=\"text_12\">\n      <!-- 5 -->\n      <g transform=\"translate(21.942188 96.338437)scale(0.1 -0.1)\">\n       <use xlink:href=\"#DejaVuSans-53\"/>\n      </g>\n     </g>\n    </g>\n    <g id=\"ytick_7\">\n     <g id=\"line2d_13\">\n      <g>\n       <use style=\"stroke:#000000;stroke-width:0.8;\" x=\"35.304688\" xlink:href=\"#m2f9a12253e\" y=\"65.359219\"/>\n      </g>\n     </g>\n     <g id=\"text_13\">\n      <!-- 10 -->\n      <g transform=\"translate(15.579688 69.158437)scale(0.1 -0.1)\">\n       <use xlink:href=\"#DejaVuSans-49\"/>\n       <use x=\"63.623047\" xlink:href=\"#DejaVuSans-48\"/>\n      </g>\n     </g>\n    </g>\n    <g id=\"ytick_8\">\n     <g id=\"line2d_14\">\n      <g>\n       <use style=\"stroke:#000000;stroke-width:0.8;\" x=\"35.304688\" xlink:href=\"#m2f9a12253e\" y=\"38.179219\"/>\n      </g>\n     </g>\n     <g id=\"text_14\">\n      <!-- 15 -->\n      <g transform=\"translate(15.579688 41.978437)scale(0.1 -0.1)\">\n       <use xlink:href=\"#DejaVuSans-49\"/>\n       <use x=\"63.623047\" xlink:href=\"#DejaVuSans-53\"/>\n      </g>\n     </g>\n    </g>\n    <g id=\"ytick_9\">\n     <g id=\"line2d_15\">\n      <g>\n       <use style=\"stroke:#000000;stroke-width:0.8;\" x=\"35.304688\" xlink:href=\"#m2f9a12253e\" y=\"10.999219\"/>\n      </g>\n     </g>\n     <g id=\"text_15\">\n      <!-- 20 -->\n      <g transform=\"translate(15.579688 14.798437)scale(0.1 -0.1)\">\n       <use xlink:href=\"#DejaVuSans-50\"/>\n       <use x=\"63.623047\" xlink:href=\"#DejaVuSans-48\"/>\n      </g>\n     </g>\n    </g>\n   </g>\n   <g id=\"patch_3\">\n    <path d=\"M 35.304688 228.439219 \nL 35.304688 10.999219 \n\" style=\"fill:none;stroke:#000000;stroke-linecap:square;stroke-linejoin:miter;stroke-width:0.8;\"/>\n   </g>\n   <g id=\"patch_4\">\n    <path d=\"M 370.104688 228.439219 \nL 370.104688 10.999219 \n\" style=\"fill:none;stroke:#000000;stroke-linecap:square;stroke-linejoin:miter;stroke-width:0.8;\"/>\n   </g>\n   <g id=\"patch_5\">\n    <path d=\"M 35.304688 228.439219 \nL 370.104688 228.439219 \n\" style=\"fill:none;stroke:#000000;stroke-linecap:square;stroke-linejoin:miter;stroke-width:0.8;\"/>\n   </g>\n   <g id=\"patch_6\">\n    <path d=\"M 35.304688 10.999219 \nL 370.104688 10.999219 \n\" style=\"fill:none;stroke:#000000;stroke-linecap:square;stroke-linejoin:miter;stroke-width:0.8;\"/>\n   </g>\n   <g id=\"legend_1\">\n    <g id=\"patch_7\">\n     <path d=\"M 268.234375 223.439219 \nL 363.104688 223.439219 \nQ 365.104688 223.439219 365.104688 221.439219 \nL 365.104688 193.082969 \nQ 365.104688 191.082969 363.104688 191.082969 \nL 268.234375 191.082969 \nQ 266.234375 191.082969 266.234375 193.082969 \nL 266.234375 221.439219 \nQ 266.234375 223.439219 268.234375 223.439219 \nz\n\" style=\"fill:#ffffff;opacity:0.8;stroke:#cccccc;stroke-linejoin:miter;\"/>\n    </g>\n    <g id=\"PathCollection_3\">\n     <g>\n      <use style=\"fill:#0000ff;stroke:#0000ff;stroke-width:1.5;\" x=\"280.234375\" xlink:href=\"#m70648a24df\" y=\"200.056406\"/>\n     </g>\n    </g>\n    <g id=\"text_16\">\n     <!-- cleared data -->\n     <defs>\n      <path d=\"M 48.78125 52.59375 \nL 48.78125 44.1875 \nQ 44.96875 46.296875 41.140625 47.34375 \nQ 37.3125 48.390625 33.40625 48.390625 \nQ 24.65625 48.390625 19.8125 42.84375 \nQ 14.984375 37.3125 14.984375 27.296875 \nQ 14.984375 17.28125 19.8125 11.734375 \nQ 24.65625 6.203125 33.40625 6.203125 \nQ 37.3125 6.203125 41.140625 7.25 \nQ 44.96875 8.296875 48.78125 10.40625 \nL 48.78125 2.09375 \nQ 45.015625 0.34375 40.984375 -0.53125 \nQ 36.96875 -1.421875 32.421875 -1.421875 \nQ 20.0625 -1.421875 12.78125 6.34375 \nQ 5.515625 14.109375 5.515625 27.296875 \nQ 5.515625 40.671875 12.859375 48.328125 \nQ 20.21875 56 33.015625 56 \nQ 37.15625 56 41.109375 55.140625 \nQ 45.0625 54.296875 48.78125 52.59375 \nz\n\" id=\"DejaVuSans-99\"/>\n      <path d=\"M 9.421875 75.984375 \nL 18.40625 75.984375 \nL 18.40625 0 \nL 9.421875 0 \nz\n\" id=\"DejaVuSans-108\"/>\n      <path d=\"M 56.203125 29.59375 \nL 56.203125 25.203125 \nL 14.890625 25.203125 \nQ 15.484375 15.921875 20.484375 11.0625 \nQ 25.484375 6.203125 34.421875 6.203125 \nQ 39.59375 6.203125 44.453125 7.46875 \nQ 49.3125 8.734375 54.109375 11.28125 \nL 54.109375 2.78125 \nQ 49.265625 0.734375 44.1875 -0.34375 \nQ 39.109375 -1.421875 33.890625 -1.421875 \nQ 20.796875 -1.421875 13.15625 6.1875 \nQ 5.515625 13.8125 5.515625 26.8125 \nQ 5.515625 40.234375 12.765625 48.109375 \nQ 20.015625 56 32.328125 56 \nQ 43.359375 56 49.78125 48.890625 \nQ 56.203125 41.796875 56.203125 29.59375 \nz\nM 47.21875 32.234375 \nQ 47.125 39.59375 43.09375 43.984375 \nQ 39.0625 48.390625 32.421875 48.390625 \nQ 24.90625 48.390625 20.390625 44.140625 \nQ 15.875 39.890625 15.1875 32.171875 \nz\n\" id=\"DejaVuSans-101\"/>\n      <path d=\"M 34.28125 27.484375 \nQ 23.390625 27.484375 19.1875 25 \nQ 14.984375 22.515625 14.984375 16.5 \nQ 14.984375 11.71875 18.140625 8.90625 \nQ 21.296875 6.109375 26.703125 6.109375 \nQ 34.1875 6.109375 38.703125 11.40625 \nQ 43.21875 16.703125 43.21875 25.484375 \nL 43.21875 27.484375 \nz\nM 52.203125 31.203125 \nL 52.203125 0 \nL 43.21875 0 \nL 43.21875 8.296875 \nQ 40.140625 3.328125 35.546875 0.953125 \nQ 30.953125 -1.421875 24.3125 -1.421875 \nQ 15.921875 -1.421875 10.953125 3.296875 \nQ 6 8.015625 6 15.921875 \nQ 6 25.140625 12.171875 29.828125 \nQ 18.359375 34.515625 30.609375 34.515625 \nL 43.21875 34.515625 \nL 43.21875 35.40625 \nQ 43.21875 41.609375 39.140625 45 \nQ 35.0625 48.390625 27.6875 48.390625 \nQ 23 48.390625 18.546875 47.265625 \nQ 14.109375 46.140625 10.015625 43.890625 \nL 10.015625 52.203125 \nQ 14.9375 54.109375 19.578125 55.046875 \nQ 24.21875 56 28.609375 56 \nQ 40.484375 56 46.34375 49.84375 \nQ 52.203125 43.703125 52.203125 31.203125 \nz\n\" id=\"DejaVuSans-97\"/>\n      <path d=\"M 41.109375 46.296875 \nQ 39.59375 47.171875 37.8125 47.578125 \nQ 36.03125 48 33.890625 48 \nQ 26.265625 48 22.1875 43.046875 \nQ 18.109375 38.09375 18.109375 28.8125 \nL 18.109375 0 \nL 9.078125 0 \nL 9.078125 54.6875 \nL 18.109375 54.6875 \nL 18.109375 46.1875 \nQ 20.953125 51.171875 25.484375 53.578125 \nQ 30.03125 56 36.53125 56 \nQ 37.453125 56 38.578125 55.875 \nQ 39.703125 55.765625 41.0625 55.515625 \nz\n\" id=\"DejaVuSans-114\"/>\n      <path d=\"M 45.40625 46.390625 \nL 45.40625 75.984375 \nL 54.390625 75.984375 \nL 54.390625 0 \nL 45.40625 0 \nL 45.40625 8.203125 \nQ 42.578125 3.328125 38.25 0.953125 \nQ 33.9375 -1.421875 27.875 -1.421875 \nQ 17.96875 -1.421875 11.734375 6.484375 \nQ 5.515625 14.40625 5.515625 27.296875 \nQ 5.515625 40.1875 11.734375 48.09375 \nQ 17.96875 56 27.875 56 \nQ 33.9375 56 38.25 53.625 \nQ 42.578125 51.265625 45.40625 46.390625 \nz\nM 14.796875 27.296875 \nQ 14.796875 17.390625 18.875 11.75 \nQ 22.953125 6.109375 30.078125 6.109375 \nQ 37.203125 6.109375 41.296875 11.75 \nQ 45.40625 17.390625 45.40625 27.296875 \nQ 45.40625 37.203125 41.296875 42.84375 \nQ 37.203125 48.484375 30.078125 48.484375 \nQ 22.953125 48.484375 18.875 42.84375 \nQ 14.796875 37.203125 14.796875 27.296875 \nz\n\" id=\"DejaVuSans-100\"/>\n      <path id=\"DejaVuSans-32\"/>\n      <path d=\"M 18.3125 70.21875 \nL 18.3125 54.6875 \nL 36.8125 54.6875 \nL 36.8125 47.703125 \nL 18.3125 47.703125 \nL 18.3125 18.015625 \nQ 18.3125 11.328125 20.140625 9.421875 \nQ 21.96875 7.515625 27.59375 7.515625 \nL 36.8125 7.515625 \nL 36.8125 0 \nL 27.59375 0 \nQ 17.1875 0 13.234375 3.875 \nQ 9.28125 7.765625 9.28125 18.015625 \nL 9.28125 47.703125 \nL 2.6875 47.703125 \nL 2.6875 54.6875 \nL 9.28125 54.6875 \nL 9.28125 70.21875 \nz\n\" id=\"DejaVuSans-116\"/>\n     </defs>\n     <g transform=\"translate(298.234375 202.681406)scale(0.1 -0.1)\">\n      <use xlink:href=\"#DejaVuSans-99\"/>\n      <use x=\"54.980469\" xlink:href=\"#DejaVuSans-108\"/>\n      <use x=\"82.763672\" xlink:href=\"#DejaVuSans-101\"/>\n      <use x=\"144.287109\" xlink:href=\"#DejaVuSans-97\"/>\n      <use x=\"205.566406\" xlink:href=\"#DejaVuSans-114\"/>\n      <use x=\"246.648438\" xlink:href=\"#DejaVuSans-101\"/>\n      <use x=\"308.171875\" xlink:href=\"#DejaVuSans-100\"/>\n      <use x=\"371.648438\" xlink:href=\"#DejaVuSans-32\"/>\n      <use x=\"403.435547\" xlink:href=\"#DejaVuSans-100\"/>\n      <use x=\"466.912109\" xlink:href=\"#DejaVuSans-97\"/>\n      <use x=\"528.191406\" xlink:href=\"#DejaVuSans-116\"/>\n      <use x=\"567.400391\" xlink:href=\"#DejaVuSans-97\"/>\n     </g>\n    </g>\n    <g id=\"PathCollection_4\">\n     <g>\n      <use style=\"fill:#ff0000;stroke:#ff0000;stroke-width:1.5;\" x=\"280.234375\" xlink:href=\"#m972f1e0899\" y=\"214.734531\"/>\n     </g>\n    </g>\n    <g id=\"text_17\">\n     <!-- outliers -->\n     <defs>\n      <path d=\"M 30.609375 48.390625 \nQ 23.390625 48.390625 19.1875 42.75 \nQ 14.984375 37.109375 14.984375 27.296875 \nQ 14.984375 17.484375 19.15625 11.84375 \nQ 23.34375 6.203125 30.609375 6.203125 \nQ 37.796875 6.203125 41.984375 11.859375 \nQ 46.1875 17.53125 46.1875 27.296875 \nQ 46.1875 37.015625 41.984375 42.703125 \nQ 37.796875 48.390625 30.609375 48.390625 \nz\nM 30.609375 56 \nQ 42.328125 56 49.015625 48.375 \nQ 55.71875 40.765625 55.71875 27.296875 \nQ 55.71875 13.875 49.015625 6.21875 \nQ 42.328125 -1.421875 30.609375 -1.421875 \nQ 18.84375 -1.421875 12.171875 6.21875 \nQ 5.515625 13.875 5.515625 27.296875 \nQ 5.515625 40.765625 12.171875 48.375 \nQ 18.84375 56 30.609375 56 \nz\n\" id=\"DejaVuSans-111\"/>\n      <path d=\"M 8.5 21.578125 \nL 8.5 54.6875 \nL 17.484375 54.6875 \nL 17.484375 21.921875 \nQ 17.484375 14.15625 20.5 10.265625 \nQ 23.53125 6.390625 29.59375 6.390625 \nQ 36.859375 6.390625 41.078125 11.03125 \nQ 45.3125 15.671875 45.3125 23.6875 \nL 45.3125 54.6875 \nL 54.296875 54.6875 \nL 54.296875 0 \nL 45.3125 0 \nL 45.3125 8.40625 \nQ 42.046875 3.421875 37.71875 1 \nQ 33.40625 -1.421875 27.6875 -1.421875 \nQ 18.265625 -1.421875 13.375 4.4375 \nQ 8.5 10.296875 8.5 21.578125 \nz\nM 31.109375 56 \nz\n\" id=\"DejaVuSans-117\"/>\n      <path d=\"M 9.421875 54.6875 \nL 18.40625 54.6875 \nL 18.40625 0 \nL 9.421875 0 \nz\nM 9.421875 75.984375 \nL 18.40625 75.984375 \nL 18.40625 64.59375 \nL 9.421875 64.59375 \nz\n\" id=\"DejaVuSans-105\"/>\n      <path d=\"M 44.28125 53.078125 \nL 44.28125 44.578125 \nQ 40.484375 46.53125 36.375 47.5 \nQ 32.28125 48.484375 27.875 48.484375 \nQ 21.1875 48.484375 17.84375 46.4375 \nQ 14.5 44.390625 14.5 40.28125 \nQ 14.5 37.15625 16.890625 35.375 \nQ 19.28125 33.59375 26.515625 31.984375 \nL 29.59375 31.296875 \nQ 39.15625 29.25 43.1875 25.515625 \nQ 47.21875 21.78125 47.21875 15.09375 \nQ 47.21875 7.46875 41.1875 3.015625 \nQ 35.15625 -1.421875 24.609375 -1.421875 \nQ 20.21875 -1.421875 15.453125 -0.5625 \nQ 10.6875 0.296875 5.421875 2 \nL 5.421875 11.28125 \nQ 10.40625 8.6875 15.234375 7.390625 \nQ 20.0625 6.109375 24.8125 6.109375 \nQ 31.15625 6.109375 34.5625 8.28125 \nQ 37.984375 10.453125 37.984375 14.40625 \nQ 37.984375 18.0625 35.515625 20.015625 \nQ 33.0625 21.96875 24.703125 23.78125 \nL 21.578125 24.515625 \nQ 13.234375 26.265625 9.515625 29.90625 \nQ 5.8125 33.546875 5.8125 39.890625 \nQ 5.8125 47.609375 11.28125 51.796875 \nQ 16.75 56 26.8125 56 \nQ 31.78125 56 36.171875 55.265625 \nQ 40.578125 54.546875 44.28125 53.078125 \nz\n\" id=\"DejaVuSans-115\"/>\n     </defs>\n     <g transform=\"translate(298.234375 217.359531)scale(0.1 -0.1)\">\n      <use xlink:href=\"#DejaVuSans-111\"/>\n      <use x=\"61.181641\" xlink:href=\"#DejaVuSans-117\"/>\n      <use x=\"124.560547\" xlink:href=\"#DejaVuSans-116\"/>\n      <use x=\"163.769531\" xlink:href=\"#DejaVuSans-108\"/>\n      <use x=\"191.552734\" xlink:href=\"#DejaVuSans-105\"/>\n      <use x=\"219.335938\" xlink:href=\"#DejaVuSans-101\"/>\n      <use x=\"280.859375\" xlink:href=\"#DejaVuSans-114\"/>\n      <use x=\"321.972656\" xlink:href=\"#DejaVuSans-115\"/>\n     </g>\n    </g>\n   </g>\n  </g>\n </g>\n <defs>\n  <clipPath id=\"p74ea4e9be5\">\n   <rect height=\"217.44\" width=\"334.8\" x=\"35.304688\" y=\"10.999219\"/>\n  </clipPath>\n </defs>\n</svg>\n",
      "image/png": "[encoded data removed]"
     },
     "metadata": {
      "needs_background": "light"
     }
    }
   ],
   "source": [
    "%matplotlib inline\n",
    "import numpy as np\n",
    "import matplotlib.pyplot as plt\n",
    "\n",
    "# generate dataset\n",
    "data = list(zip(np.random.uniform(size=100), np.random.normal(size=100)))\n",
    "data += list(zip(np.random.uniform(size=10), np.random.normal(0, 10, size=10)))\n",
    "data = np.array(data)\n",
    "outliers = []\n",
    "\n",
    "# just to check if everything is pretty\n",
    "fig_rosner_data = plt.figure('The Dataset')\n",
    "plt.scatter(data[:,0], data[:,1], marker='x')\n",
    "plt.axis([0, 1, -20, 20])\n",
    "fig_rosner_data.canvas.draw()\n",
    "\n",
    "# Now find the outliers, add them to 'outliers', and remove them from 'data'.\n",
    "# YOUR CODE HERE ###################################\n",
    "while True:\n",
    "    # outliers will be in y direction\n",
    "    y_coords = data[:,1]\n",
    "    mean = np.mean(y_coords)\n",
    "    standard_deviation = np.std(y_coords)\n",
    "    z_values = [abs(val - mean) / standard_deviation for val in y_coords]\n",
    "    max_z = max(z_values)\n",
    "\n",
    "    if max_z <= 3:\n",
    "        break\n",
    "    outliers.append(data[z_values.index(max_z)])\n",
    "    # removes the outlier from the data\n",
    "    data = np.delete(data, z_values.index(max_z), 0)\n",
    "####################################################\n",
    "\n",
    "# plot results\n",
    "outliers = np.array(outliers)\n",
    "fig_rosner = plt.figure('Rosner Result')\n",
    "plt.scatter(data[:,0], data[:,1], c='b', marker='x', label='cleared data')\n",
    "plt.scatter(outliers[:,0], outliers[:,1], c='r', marker='x', label='outliers')\n",
    "plt.axis([0, 1, -20, 20])\n",
    "plt.legend(loc='lower right')\n",
    "fig_rosner.canvas.draw()"
   ]
  },
  {
   "cell_type": "markdown",
   "metadata": {
    "deletable": false,
    "editable": false,
    "nbgrader": {
     "cell_type": "markdown",
     "checksum": "32194b9eb098b0716692299dbc0f1e28",
     "grade": false,
     "grade_id": "2",
     "locked": true,
     "schema_version": 3,
     "solution": false
    }
   },
   "source": [
    "## Assignment 2: p-norm [6 Points]\n",
    "\n",
    "A very well known norm is the euclidean distance. However, it is not the only norm: It is in fact just one of many p-norms where $p = 2$. In this assignment you will take a look at other p-norms and see how they behave.\n",
    "\n",
    "Implement a function `pnorm` which expects a vector $x \\in \\mathcal{R}^n$ and a scalar $p \\geq 1, p \\in \\mathcal{R}$ and returns the p-norm of $x$ which is defined as:\n",
    "\n",
    "$$||x||_p = \\left(\\sum\\limits_{i=1}^n |x_i|^p \\right)^{\\frac{1}{p}}$$\n",
    "\n",
    "*Note:* Even though the norm is only defined for $p \\geq 1$, values $0 < p < 1$ are still interesting. In that case we can not talk about a norm anymore, as the triangle inequality ($||a|| + ||b|| \\geq ||a + b||$) does not hold. We will still take a look at some of these values, so your function should handle them as well."
   ]
  },
  {
   "cell_type": "code",
   "execution_count": null,
   "metadata": {
    "deletable": false,
    "nbgrader": {
     "cell_type": "code",
     "checksum": "0ec229467f9f1c28ffefc15b7d105967",
     "grade": false,
     "grade_id": "2a_code",
     "locked": false,
     "schema_version": 3,
     "solution": true
    }
   },
   "outputs": [],
   "source": [
    "import numpy as np\n",
    "\n",
    "def pnorm(x, p):\n",
    "    \"\"\"\n",
    "    Calculates the p-norm of x.\n",
    "    \n",
    "    Args:\n",
    "        x (array): the vector for which the norm is to be computed.\n",
    "        p (float): the p-value (a positive real number).\n",
    "        \n",
    "    Returns:\n",
    "        The p-norm of x.\n",
    "    \"\"\"\n",
    "    result = None\n",
    "    # YOUR CODE HERE\n",
    "    return result"
   ]
  },
  {
   "cell_type": "code",
   "execution_count": null,
   "metadata": {
    "deletable": false,
    "editable": false,
    "nbgrader": {
     "cell_type": "code",
     "checksum": "13d44eb1a8193785648155adcdfc692f",
     "grade": true,
     "grade_id": "2a_test",
     "locked": true,
     "points": 2,
     "schema_version": 3,
     "solution": false
    }
   },
   "outputs": [],
   "source": [
    "# 1e-10 is 0.0000000001\n",
    "assert pnorm(1, 2)      - 1          < 1e-10 , \"pnorm is incorrect for x = 1, p = 2\"\n",
    "assert pnorm(2, 2)      - 2          < 1e-10 , \"pnorm is incorrect for x = 2, p = 2\"\n",
    "assert pnorm([2, 1], 2) - np.sqrt(5) < 1e-10 , \"pnorm is incorrect for x = [2, 1], p = 2\" \n",
    "assert pnorm(2, 0.5)    - 2          < 1e-10 , \"pnorm is incorrect for x = 2, p = 0.5\""
   ]
  },
  {
   "cell_type": "markdown",
   "metadata": {
    "deletable": false,
    "editable": false,
    "nbgrader": {
     "cell_type": "markdown",
     "checksum": "bbbcd9561fd078bbd8c740270fac7278",
     "grade": false,
     "grade_id": "2b",
     "locked": true,
     "schema_version": 3,
     "solution": false
    }
   },
   "source": [
    "Implement another function `pdist` which expects two vectors $x_0 \\in \\mathcal{R}^n, x_1 \\in \\mathcal{R}^n$ and a scalar $p \\geq 1, p \\in \\mathcal{R}$ and returns the distance between $x_0$ and $x_1$ on the p-norm defined by $p$. Again handle $0 < p < 1$ as well."
   ]
  },
  {
   "cell_type": "code",
   "execution_count": null,
   "metadata": {
    "deletable": false,
    "nbgrader": {
     "cell_type": "code",
     "checksum": "50ac04eece9d414f9d3321b9d6b21004",
     "grade": false,
     "grade_id": "2b_code",
     "locked": false,
     "schema_version": 3,
     "solution": true
    }
   },
   "outputs": [],
   "source": [
    "import numpy as np\n",
    "\n",
    "def pdist(x0, x1, p):\n",
    "    \"\"\"\n",
    "    Calculates the distance between x0 and x1\n",
    "    using the p-norm.\n",
    "    \n",
    "    Arguments:\n",
    "        x0 (array): the first vector.\n",
    "        x1 (array): the second vector.\n",
    "        p (float): the p-value (a positive real number).\n",
    "        \n",
    "    Returns:\n",
    "        The p-distance between x0 and x1.\n",
    "    \"\"\"\n",
    "    result = None\n",
    "    # YOUR CODE HERE\n",
    "    return result"
   ]
  },
  {
   "cell_type": "code",
   "execution_count": null,
   "metadata": {
    "deletable": false,
    "editable": false,
    "nbgrader": {
     "cell_type": "code",
     "checksum": "efad4b3b463bdade199425f6248f2db2",
     "grade": true,
     "grade_id": "2b_test",
     "locked": true,
     "points": 2,
     "schema_version": 3,
     "solution": false
    }
   },
   "outputs": [],
   "source": [
    "# 1e-10 is 0.0000000001\n",
    "assert pdist(1, 2, 2)           - 1          < 1e-10 , \"pdist is incorrect for x0 = 1, x1 = 2, p = 2\"\n",
    "assert pdist(2, 5, 2)           - 3          < 1e-10 , \"pdist is incorrect for x0 = 2, x1 = 5, p = 2\"\n",
    "assert pdist([2, 1], [1, 2], 2) - np.sqrt(2) < 1e-10 , \"pdist is incorrect for x0 = [2, 1], x1 = [1, 2], p = 2\" \n",
    "assert pdist([2, 1], [0, 0], 2) - np.sqrt(5) < 1e-10 , \"pdist is incorrect for x0 = [2, 1], x1 = [0, 0], p = 2\" \n",
    "assert pdist(2, 0, 0.5)         - 2          < 1e-10 , \"pdist is incorrect for x0 = 2, x1 = 0, p = 0.5\""
   ]
  },
  {
   "cell_type": "markdown",
   "metadata": {
    "deletable": false,
    "editable": false,
    "nbgrader": {
     "cell_type": "markdown",
     "checksum": "fca520be56e98a7820f17c8d2c45d8b5",
     "grade": false,
     "grade_id": "2c",
     "locked": true,
     "schema_version": 3,
     "solution": false
    }
   },
   "source": [
    "Now we will compare some different p-norms. Below is part of a code to plot data in nice scatter plots. \n",
    "\n",
    "Your task is to calculate the data to plot. The variable `data` is currently simply filled with zeros. Instead, fill it as follows:\n",
    "\n",
    "- Use the function `np.linspace()` to create a vector of `50` evenly distributed values between `-100` and `100` (inclusively).\n",
    "- Fill `data`: Data is basically the cartesian product of the vector you created before with itself filled up with each value's norm. It should have 2500 rows. Each of the 2500 rows should contain `[x, y, d]`, where `x` is the x coordinate and `y` the y coordinate of a point, and `d` the p-norm of `(x, y)`. Use either `pnorm` or `pdist` to calculate `d`.\n",
    "- Normalize the data in `data[:,2]` (i.e. all d-values) so that they are between 0 and 1.\n",
    "\n",
    "Run your code and take a look at your results. Darker colors mean that a value is further away from the center (0, 0) according to the p-norm used.\n",
    "\n",
    "*Hint:* To give you an idea of how `data` should look like, here is an example for three evenly distributed values between `-1` and `1` and a p-norm with `p = 2`.\n",
    "\n",
    "Before normalization of the d-column:\n",
    "\n",
    "```python\n",
    "data = np.array([[-1.         -1.          1.41421356]\n",
    "                 [-1.          0.          1.        ]\n",
    "                 [-1.          1.          1.41421356]\n",
    "                 [ 0.         -1.          1.        ]\n",
    "                 [ 0.          0.          0.        ]\n",
    "                 [ 0.          1.          1.        ]\n",
    "                 [ 1.         -1.          1.41421356]\n",
    "                 [ 1.          0.          1.        ]\n",
    "                 [ 1.          1.          1.41421356]])\n",
    "```\n",
    "\n",
    "After normalization of the d-column:\n",
    "\n",
    "```python\n",
    "data = np.array([[-1.         -1.          1.        ]\n",
    "                 [-1.          0.          0.70710678]\n",
    "                 [-1.          1.          1.        ]\n",
    "                 [ 0.         -1.          0.70710678]\n",
    "                 [ 0.          0.          0.        ]\n",
    "                 [ 0.          1.          0.70710678]\n",
    "                 [ 1.         -1.          1.        ]\n",
    "                 [ 1.          0.          0.70710678]\n",
    "                 [ 1.          1.          1.        ]])\n",
    "```"
   ]
  },
  {
   "cell_type": "code",
   "execution_count": null,
   "metadata": {
    "deletable": false,
    "nbgrader": {
     "cell_type": "code",
     "checksum": "0f7e39c5e9582be35094202ef9228217",
     "grade": true,
     "grade_id": "3c_code",
     "locked": false,
     "points": 2,
     "schema_version": 3,
     "solution": true
    }
   },
   "outputs": [],
   "source": [
    "%matplotlib notebook\n",
    "import numpy as np\n",
    "import matplotlib.pyplot as plt\n",
    "from matplotlib.colors import ColorConverter\n",
    "\n",
    "color = ColorConverter()\n",
    "figure_norms = plt.figure('p-norm comparison')\n",
    "\n",
    "# create the linspace vector\n",
    "# YOUR CODE HERE\n",
    "\n",
    "assert len(ls) == 50 , 'ls should be of length 50.'\n",
    "assert (min(ls), max(ls)) == (-100, 100) , 'ls should range from -100 to 100, inclusively.'\n",
    "\n",
    "for i, p in enumerate([1/8, 1/4, 1/2, 1, 1.5, 2, 4, 8, 128]):\n",
    "    # Create a numpy array containing useful values instead of zeros.\n",
    "    data = np.zeros((2500, 3))\n",
    "    # YOUR CODE HERE\n",
    "\n",
    "    assert data[100,2]>0.9 and data[100,2]<1, \"Wrong result for p norm, make sure you use NORM and not pdist!\"\n",
    "    assert all(data[:,2] <= 1), 'The third column should be normalized.'\n",
    "\n",
    "    # Plot the data.\n",
    "    colors = [color.to_rgb((1, 1-a, 1-a)) for a in data[:,2]]\n",
    "    a = plt.subplot(3, 3, i + 1)\n",
    "    plt.scatter(data[:,0], data[:,1], marker='.', color=colors)\n",
    "    a.set_ylim([-100, 100])\n",
    "    a.set_xlim([-100, 100])\n",
    "    a.set_title('{:.3g}-norm'.format(p))\n",
    "    a.set_aspect('equal')\n",
    "    plt.tight_layout()\n",
    "    figure_norms.canvas.draw()"
   ]
  },
  {
   "cell_type": "markdown",
   "metadata": {
    "deletable": false,
    "editable": false,
    "nbgrader": {
     "cell_type": "markdown",
     "checksum": "4190815a7f49ce242960b85477e1a733",
     "grade": false,
     "grade_id": "3",
     "locked": true,
     "schema_version": 3,
     "solution": false
    }
   },
   "source": [
    "## Assignment 3: Expectation Maximization [9 Points]\n",
    "\n",
    "### a) What applications of the EM algorithm did you get to know in the lecture? Describe how EM treats the missing value problem."
   ]
  },
  {
   "cell_type": "markdown",
   "metadata": {
    "deletable": false,
    "nbgrader": {
     "cell_type": "markdown",
     "checksum": "017dd9778cda78404c9702ea1299b726",
     "grade": true,
     "grade_id": "3a_answer",
     "locked": false,
     "points": 0,
     "schema_version": 3,
     "solution": true
    }
   },
   "source": [
    "YOUR ANSWER HERE"
   ]
  },
  {
   "cell_type": "markdown",
   "metadata": {
    "deletable": false,
    "editable": false,
    "nbgrader": {
     "cell_type": "markdown",
     "checksum": "50300b7a42ecaa5349393425bad81fc0",
     "grade": false,
     "grade_id": "3b",
     "locked": true,
     "schema_version": 3,
     "solution": false
    }
   },
   "source": [
    "### b) Implement Expectation Maximization for Soft Clustering\n",
    "\n",
    "As some parts of this exercise would require some more knowledge of Python than what was already discussed in the practice sessions we built a small number of templates for you to use. However, if you prefer to do so you are also allowed to just go ahead and implement everything yourself!\n",
    "\n",
    "Use the next cell to implement your own solution or, if you want some more guidance, skip the next cell and continue the exercise at  [Step 1) Load the data](#Step-1%29-Load-the-data).\n",
    "\n",
    "Here is an overview of what you have to do:\n",
    "\n",
    "**1) Load the data:**\n",
    "\n",
    "Load the provided data set. It is stored in `em_normdistdata.txt`. We call the set $X$ and each individual data $x \\in X$.\n",
    "\n",
    "**2) Initialize EM:**\n",
    "\n",
    "Initialize three normal distributions whose parameters will be changed iteratively by the EM to converge close to the original distributions.\n",
    "\n",
    "Each normal distribution $j$ has three parameters: $\\mu_j$ (the mean), $\\sigma_j$ (the standard deviation), $\\alpha_j$ (the proportion of the normal distribution in the mixture, that means $\\sum\\limits_j\\alpha_j=1$).\n",
    "\n",
    "Initialize the three parameters using three random partitions $S_j$ of the data set. Calculate each $\\mu_j$ and $\\sigma_j$ and set $\\alpha_j = \\frac{|S_j|}{|X|}$.\n",
    "\n",
    "**3) Implement the expectation step:**\n",
    "\n",
    "Perform a soft classification of the data samples with the three normal distributions. That means: Calculate the likelihood that a data sample $x_i$ belongs to distribution $j$ given parameters $\\mu_j$ and $\\sigma_j$. Or in other words, what is the likelihood of $x_i$ to be drawn from $N_j(\\mu_j, \\sigma_j)$? When you got the likelihood, weight the result by $\\alpha_j$.\n",
    "\n",
    "As a last step normalize the results such that the likelihoods of a data sample $x_i$ sum up to $1$.\n",
    "\n",
    "**4) Implement the maximization step:**\n",
    "\n",
    "In the maximization step each $\\mu_j$, $\\sigma_j$ and $\\alpha_j$ is updated. First calculate the new means:\n",
    "\n",
    "$$\\mu_j = \\frac{1}{\\sum\\limits_{i=1}^{|X|} p_{ij}} \\sum\\limits_{i=1}^{|X|} p_{ij}x_i$$\n",
    "\n",
    "That means $\\mu_j$ is the weighted mean of all samples, where the weight is their likelihood of belonging to distribution $j$.\n",
    "\n",
    "Then calculate the new $\\sigma_j$. Each new $\\sigma_j$ is the standard deviation of the normal distribution with the new $\\mu_j$, so for the calculation you already use the new $\\mu_j$:\n",
    "\n",
    "$$\\sigma_j = \\sqrt{ \\frac{1}{\\sum\\limits_{i=1}^{|X|} p_{ij}} \\sum\\limits_{i=1}^{|X|} p_{ij} \\left(x_i - \\mu_j\\right)^2 }$$\n",
    "\n",
    "To calculate the new $\\alpha_j$ for each distribution, just take the mean of $p_j$ for each normal distribution $j$.\n",
    "\n",
    "**5) Perform the complete EM and plot your results:**\n",
    "\n",
    "Build a loop around the iterative procedure of expectation and maximization which stops when the changes in all $\\mu_j$ and $\\sigma_j$ are sufficiently small enough.\n",
    "\n",
    "Plot your results after each step and mark which data points belong to which normal distribution. If you don't get it to work, just plot your final solution of the distributions."
   ]
  },
  {
   "cell_type": "code",
   "execution_count": null,
   "metadata": {
    "deletable": false,
    "editable": false,
    "nbgrader": {
     "cell_type": "code",
     "checksum": "f1151768e2ad255f18086da2569feb3b",
     "grade": true,
     "grade_id": "3b_self",
     "locked": true,
     "points": 0,
     "schema_version": 3,
     "solution": false
    }
   },
   "outputs": [],
   "source": [
    "# Free space to implement your own solution -- either use this OR use the following step by step guide. \n",
    "# You may use scipy.stats.norm.pdf for your own implementation.\n",
    "\n",
    "\n",
    "\n"
   ]
  },
  {
   "cell_type": "markdown",
   "metadata": {
    "deletable": false,
    "editable": false,
    "nbgrader": {
     "cell_type": "markdown",
     "checksum": "155160ce65563c76a18df3dccfbba85a",
     "grade": false,
     "grade_id": "3b1",
     "locked": true,
     "schema_version": 3,
     "solution": false
    }
   },
   "source": [
    "#### Step 1) Load the data\n",
    "\n",
    "\n",
    "Load the provided data set. It is stored in `em_normdistdata.txt`. We call the set $X$ and each individual data $x \\in X$. \n",
    "\n",
    "*Hint:* Figure out a way on how numpy can load text data."
   ]
  },
  {
   "cell_type": "code",
   "execution_count": null,
   "metadata": {
    "deletable": false,
    "nbgrader": {
     "cell_type": "code",
     "checksum": "6da9b1d7d87bebb4bba5784d9cff3e33",
     "grade": true,
     "grade_id": "3b1_code",
     "locked": false,
     "points": 1,
     "schema_version": 3,
     "solution": true
    }
   },
   "outputs": [],
   "source": [
    "import numpy as np\n",
    "\n",
    "def load_data(file_name):\n",
    "    \"\"\"\n",
    "    Loads the data stored in file_name into a numpy array.\n",
    "    \"\"\"\n",
    "    result = None\n",
    "    # YOUR CODE HERE\n",
    "    return result\n",
    "\n",
    "\n",
    "assert load_data('em_normdistdata.txt').shape == (200,) , \"The data was not properly loaded.\""
   ]
  },
  {
   "cell_type": "markdown",
   "metadata": {
    "deletable": false,
    "editable": false,
    "nbgrader": {
     "cell_type": "markdown",
     "checksum": "c38879618eae0d156b639e62aa1bb4f7",
     "grade": false,
     "grade_id": "3b1b",
     "locked": true,
     "schema_version": 3,
     "solution": false
    }
   },
   "source": [
    "*Optional:* The data consists of 200 data points drawn from three normal distributions. To get a feeling for the data set you can plot the data with the following cell. Change the number of bins to get a rough idea of how the three distributions might look like."
   ]
  },
  {
   "cell_type": "code",
   "execution_count": null,
   "metadata": {
    "deletable": false,
    "nbgrader": {
     "cell_type": "code",
     "checksum": "a76099f1b76de5a43751342dc8158afb",
     "grade": true,
     "grade_id": "3b1_test",
     "locked": false,
     "points": 0,
     "schema_version": 3,
     "solution": true
    }
   },
   "outputs": [],
   "source": [
    "%matplotlib notebook\n",
    "import numpy as np\n",
    "import matplotlib.pyplot as plt\n",
    "\n",
    "data = load_data('em_normdistdata.txt')\n",
    "fig_data_test = plt.figure('Data overview')\n",
    "# YOUR CODE HERE\n",
    "# You may change the number of bins here\n",
    "plt.hist(data, bins=5)\n",
    "fig_data_test.canvas.draw()"
   ]
  },
  {
   "cell_type": "markdown",
   "metadata": {
    "deletable": false,
    "editable": false,
    "nbgrader": {
     "cell_type": "markdown",
     "checksum": "950ceab7618d14e322349e05c53dcd40",
     "grade": false,
     "grade_id": "3b2",
     "locked": true,
     "schema_version": 3,
     "solution": false
    }
   },
   "source": [
    "#### Step 2) Initialize EM\n",
    "\n",
    "Below is a class definition `NormPDF` which represents the probability density function (pdf) of the normal distribution with an additional parameter $\\alpha$. The class is explained in the next cells."
   ]
  },
  {
   "cell_type": "code",
   "execution_count": null,
   "metadata": {
    "deletable": false,
    "editable": false,
    "nbgrader": {
     "cell_type": "code",
     "checksum": "f3e13492e93fd5f1ac41f9d062b64209",
     "grade": false,
     "grade_id": "3b2a",
     "locked": true,
     "schema_version": 3,
     "solution": false
    }
   },
   "outputs": [],
   "source": [
    "import numpy as np\n",
    "class NormPDF():\n",
    "    \"\"\"\n",
    "    A representation of the probability density function of the normal distribution\n",
    "    for the EM Algorithm.\n",
    "    \"\"\"\n",
    "\n",
    "    def __init__(self, mu=0, sigma=1, alpha=1):\n",
    "        \"\"\"\n",
    "        Initializes the normal distribution with mean mu, standard deviation sigma \n",
    "        and proportion of the normal distribution in the mixture alpha.\n",
    "        The defaults are 0, 1, and 1 respectively.\n",
    "        \"\"\"\n",
    "        self.mu = mu\n",
    "        self.sigma = sigma\n",
    "        self.alpha = alpha\n",
    "\n",
    "\n",
    "    def __call__(self, x):\n",
    "        \"\"\"\n",
    "        Returns the evaluation of this normal distribution at x.\n",
    "        Does not take alpha into account!\n",
    "        \"\"\"\n",
    "        return np.exp(-(x - self.mu) ** 2 / (2 * self.sigma ** 2)) / (np.sqrt(np.pi * 2) * self.sigma)\n",
    "\n",
    "\n",
    "    def __repr__(self):\n",
    "        \"\"\"\n",
    "        A simple string representation of this instance.\n",
    "        \"\"\"\n",
    "        return 'NormPDF({self.mu:.2f},{self.sigma:.2f},{self.alpha:.2f})'.format(self=self)"
   ]
  },
  {
   "cell_type": "markdown",
   "metadata": {
    "deletable": false,
    "editable": false,
    "nbgrader": {
     "cell_type": "markdown",
     "checksum": "a0fa2533c31258ae500e7f21f1217aca",
     "grade": false,
     "grade_id": "3b2b",
     "locked": true,
     "schema_version": 3,
     "solution": false
    }
   },
   "source": [
    "The class `NormPDF` offers several class methods: `__init__`, `__call__`, `__repr__`. They are all special Python functions which are overloaded so they can be used in a nice way. Note that all methods take as the first parameter `self`: this is just the python way of passing the instance itself to the method so that it becomes possible to access its data. You can always ignore it for now and just assume that the methods only need the parameters which follow."
   ]
  },
  {
   "cell_type": "markdown",
   "metadata": {
    "deletable": false,
    "editable": false,
    "nbgrader": {
     "cell_type": "markdown",
     "checksum": "22b6956505aeba8d26b4dcaedd575db2",
     "grade": false,
     "grade_id": "3b2c",
     "locked": true,
     "schema_version": 3,
     "solution": false
    },
    "scrolled": true
   },
   "source": [
    "`__init__`: This is the constructor. When a new instance of the class is created this method is used. It takes the parameters `mu`, `sigma`, and `alpha`. Note that if you leave out parameters, they will be set to some default values.\n",
    "So you can create `NormPDF` instances like this:"
   ]
  },
  {
   "cell_type": "code",
   "execution_count": null,
   "metadata": {
    "deletable": false,
    "editable": false,
    "nbgrader": {
     "cell_type": "code",
     "checksum": "a10d8794e59e1f7a026e539d0eca5373",
     "grade": false,
     "grade_id": "3b2d",
     "locked": true,
     "schema_version": 3,
     "solution": false
    }
   },
   "outputs": [],
   "source": [
    "a = NormPDF()             # No parameters: mu = 0, sigma = 1, alpha = 1\n",
    "b = NormPDF(1)            # mu = 1, sigma = 1, alpha = 1\n",
    "c = NormPDF(1, alpha=0.4) # skips sigma but sets alpha, thus: mu = 1, sigma = 1, alpha = 0.4\n",
    "d = NormPDF(0, 0.5)       # mu = 0, sigma = 0.5, alpha = 1\n",
    "e = NormPDF(0, 0.5, 0.9)  # mu = 0, sigma = 0.5, alpha = 0.9"
   ]
  },
  {
   "cell_type": "markdown",
   "metadata": {
    "deletable": false,
    "editable": false,
    "nbgrader": {
     "cell_type": "markdown",
     "checksum": "b2d16d076056d8ffd484cd7f4b92a71f",
     "grade": false,
     "grade_id": "3b2e",
     "locked": true,
     "schema_version": 3,
     "solution": false
    }
   },
   "source": [
    "`__call__`: This is a very cool feature of Python. By implementing this method one can make an instance *callable*. That basically means one can use it as if it was a function. The `NormPDF` instances can be called with an x value (or a numpy array of x values) to get the evaluation of the normal distribution at x."
   ]
  },
  {
   "cell_type": "code",
   "execution_count": null,
   "metadata": {
    "deletable": false,
    "editable": false,
    "nbgrader": {
     "cell_type": "code",
     "checksum": "e211098bfd1324043a83328237f76339",
     "grade": false,
     "grade_id": "3b2f",
     "locked": true,
     "schema_version": 3,
     "solution": false
    }
   },
   "outputs": [],
   "source": [
    "normpdf = NormPDF()\n",
    "print(normpdf(0))\n",
    "print(normpdf(0.5))\n",
    "print(normpdf(np.linspace(-2, 2, 10)))"
   ]
  },
  {
   "cell_type": "markdown",
   "metadata": {
    "deletable": false,
    "editable": false,
    "nbgrader": {
     "cell_type": "markdown",
     "checksum": "3cf9cecf48680271e4b9b3cd9140e024",
     "grade": false,
     "grade_id": "3b2g",
     "locked": true,
     "schema_version": 3,
     "solution": false
    }
   },
   "source": [
    "`__repr__`: This method will be used in Python when one calls `repr(NormPDF())`. As long as `__str__` is not implemented (which you saw in assignment 3c of last week's sheet) `str(NormPDF())` will also use this method. This comes in handy for printing:"
   ]
  },
  {
   "cell_type": "code",
   "execution_count": null,
   "metadata": {
    "deletable": false,
    "editable": false,
    "nbgrader": {
     "cell_type": "code",
     "checksum": "7f0b3ff3894b4589c7029088ec88f610",
     "grade": false,
     "grade_id": "3b2h",
     "locked": true,
     "schema_version": 3,
     "solution": false
    }
   },
   "outputs": [],
   "source": [
    "normpdf1 = NormPDF()\n",
    "normpdf2 = NormPDF(1, 0.5, 0.9)\n",
    "print(normpdf1)\n",
    "print([normpdf1, normpdf2])"
   ]
  },
  {
   "cell_type": "markdown",
   "metadata": {
    "deletable": false,
    "editable": false,
    "nbgrader": {
     "cell_type": "markdown",
     "checksum": "274dded14a04c72ba9cf530657d5f362",
     "grade": false,
     "grade_id": "3b2i",
     "locked": true,
     "schema_version": 3,
     "solution": false
    }
   },
   "source": [
    "It is also possible to change the values of an instance of the NormPDF:"
   ]
  },
  {
   "cell_type": "code",
   "execution_count": null,
   "metadata": {
    "deletable": false,
    "editable": false,
    "nbgrader": {
     "cell_type": "code",
     "checksum": "63cc57dd9458996f3a2cbe81e08f0618",
     "grade": false,
     "grade_id": "3b2j",
     "locked": true,
     "schema_version": 3,
     "solution": false
    }
   },
   "outputs": [],
   "source": [
    "normpdf1 = NormPDF()\n",
    "print(normpdf1)\n",
    "print(normpdf1(np.linspace(-2, 2, 10)))\n",
    "\n",
    "normpdf1.mu = 1\n",
    "normpdf1.sigma = 2\n",
    "normpdf1.alpha = 0.9\n",
    "print(normpdf1)\n",
    "print(normpdf1(np.linspace(-2, 2, 10)))"
   ]
  },
  {
   "cell_type": "markdown",
   "metadata": {
    "deletable": false,
    "editable": false,
    "nbgrader": {
     "cell_type": "markdown",
     "checksum": "28b0ade192f5f1e05ac41bc24101bc58",
     "grade": false,
     "grade_id": "3b2k",
     "locked": true,
     "schema_version": 3,
     "solution": false
    }
   },
   "source": [
    "Now that you know how the `NormPDF` class works, it is time for the implementation of the initialization function. Here is the task again:\n",
    "\n",
    "Write a function `gaussians = initialize_EM(data, num_distributions)` to initialize the EM.\n",
    "\n",
    "Each normal distribution $j$ has three parameters: $\\mu_j$ (the mean), $\\sigma_j$ (the standard deviation), $\\alpha_j$ (the proportion of the normal distribution in the mixture, that means $\\sum\\limits_j\\alpha_j=1$).\n",
    "Initialize the three parameters using three random partitions $S_j$ of the data set. Calculate each $\\mu_j$ and $\\sigma_j$ and set $\\alpha_j = \\frac{|S_j|}{|X|}$."
   ]
  },
  {
   "cell_type": "code",
   "execution_count": null,
   "metadata": {
    "deletable": false,
    "nbgrader": {
     "cell_type": "code",
     "checksum": "9b95ffade288455ea3916aa1eabb92b2",
     "grade": true,
     "grade_id": "3b2_code",
     "locked": false,
     "points": 2,
     "schema_version": 3,
     "solution": true
    }
   },
   "outputs": [],
   "source": [
    "def initialize_EM(data, num_distributions):\n",
    "    \"\"\"\n",
    "    Initializes the EM algorithm by calculating num_distributions NormPDFs\n",
    "    from a random partitioning of data. I.e., the data set is randomly\n",
    "    divided into num_distribution parts, and each part is used to initialize\n",
    "    mean, standard deviation and alpha parameter of a NormPDF object.\n",
    "    \n",
    "    Args:\n",
    "        data (array): A collection of data.\n",
    "        num_distributions (int): The number of distributions to return.\n",
    "        \n",
    "    Returns:\n",
    "        A list of num_distribution NormPDF objects, initialized from a\n",
    "        random partioning of the data.\n",
    "    \"\"\"\n",
    "    gaussians = None\n",
    "    # YOUR CODE HERE\n",
    "    return gaussians\n",
    "\n",
    "\n",
    "normpdfs_ = initialize_EM(np.linspace(-1, 1, 100), 2)\n",
    "assert len(normpdfs_) == 2, \"The number of initialized distributions is not correct.\"\n",
    "# 1e-10 is 0.0000000001\n",
    "assert abs(1 - sum([normpdf.alpha for normpdf in normpdfs_])) < 1e-10 , \"Sum of all alphas is not 1.0!\""
   ]
  },
  {
   "cell_type": "markdown",
   "metadata": {
    "deletable": false,
    "editable": false,
    "nbgrader": {
     "cell_type": "markdown",
     "checksum": "1dc7394ede5c8e447eca17053b6cd144",
     "grade": false,
     "grade_id": "3b3",
     "locked": true,
     "schema_version": 3,
     "solution": false
    }
   },
   "source": [
    "#### Step 3) Implement the expectation step\n",
    "\n",
    "Perform a soft classification of the data samples with the normal distributions. That means: Calculate the likelihood that a data sample $x_i$ belongs to distribution $j$ given parameters $\\mu_j$ and $\\sigma_j$. Or in other words, what is the likelihood of $x_i$ to be drawn from $N_j(\\mu_j, \\sigma_j)$? When you got the likelihood, weight the result by $\\alpha_j$.\n",
    "\n",
    "As a last step normalize the results such that the likelihoods of a data sample $x_i$ sum up to $1$.\n",
    "\n",
    "*Hint:* Store the data in a different array before you normalize it to not run into problems with partly normalized data."
   ]
  },
  {
   "cell_type": "code",
   "execution_count": null,
   "metadata": {
    "deletable": false,
    "nbgrader": {
     "cell_type": "code",
     "checksum": "0b0f481312f674ff686c6567090b70c9",
     "grade": true,
     "grade_id": "3b3_code",
     "locked": false,
     "points": 2.5,
     "schema_version": 3,
     "solution": true
    }
   },
   "outputs": [],
   "source": [
    "def expectation_step(gaussians, data):\n",
    "    \"\"\"\n",
    "    Performs the expectation step of the EM.\n",
    "    \n",
    "    Args:\n",
    "        gaussians (list): A list of NormPDF objects.\n",
    "        data (array): The data vector.\n",
    "        \n",
    "    Returns:\n",
    "        An array of shape (len(data), len(gaussians))\n",
    "        which contains normalized likelihoods for each sample\n",
    "        to denote to which of the normal distributions it \n",
    "        most likely belongs to.\n",
    "    \"\"\"\n",
    "    expectation = None\n",
    "    # YOUR CODE HERE\n",
    "    return expectation\n",
    "    \n",
    "\n",
    "assert expectation_step([NormPDF(), NormPDF()], np.linspace(-2, 2, 100)).shape == (100, 2) , \"Shape is not correct!\""
   ]
  },
  {
   "cell_type": "markdown",
   "metadata": {
    "deletable": false,
    "editable": false,
    "nbgrader": {
     "cell_type": "markdown",
     "checksum": "b681f42617531523ddc94caef30b5b3a",
     "grade": false,
     "grade_id": "3b4",
     "locked": true,
     "schema_version": 3,
     "solution": false
    }
   },
   "source": [
    "#### Step 4) Implement the maximization step\n",
    "\n",
    "In the maximization step each $\\mu_j$, $\\sigma_j$ and $\\alpha_j$ is updated. First calculate the new means:\n",
    "\n",
    "$$\\mu_j = \\frac{1}{\\sum\\limits_{i=1}^{|X|} p_{ij}} \\sum\\limits_{i=1}^{|X|} p_{ij}x_i$$\n",
    "\n",
    "That means $\\mu_j$ is the weighted mean of all samples, where the weight is their likelihood of belonging to distribution $j$.\n",
    "\n",
    "Then calculate the new $\\sigma_j$. Each new $\\sigma_j$ is the standard deviation of the normal distribution with the new $\\mu_j$, so for the calculation you already use the new $\\mu_j$:\n",
    "\n",
    "$$\\sigma_j = \\sqrt{ \\frac{1}{\\sum\\limits_{i=1}^{|X|} p_{ij}} \\sum\\limits_{i=1}^{|X|} p_{ij} \\left(x_i - \\mu_j\\right)^2 }$$\n",
    "\n",
    "To calculate the new $\\alpha_j$ for each distribution, just take the mean of $p_j$ for each normal distribution $j$.\n",
    "\n",
    "**Caution:** For the next step it is necessary to know how much all $\\mu$ and $\\sigma$ changed. For that the function `maximization_step` should return a numpy array of those (absolute) changes. For example if $\\mu_0$ changed from 0.1 to 0.15, $\\sigma_0$ from 1 to 0.9, $\\mu_1$ from 0.5 to 0.6, and $\\sigma_1$, $\\mu_2$, and $\\sigma_2$ stayed the same, we expect the function to return `np.array([0.05, 0.1, 0.1, 0, 0, 0])` (however, the order is not important)."
   ]
  },
  {
   "cell_type": "code",
   "execution_count": null,
   "metadata": {
    "deletable": false,
    "nbgrader": {
     "cell_type": "code",
     "checksum": "c0c8f756e23c34671c3ab1ce2af7b8e9",
     "grade": true,
     "grade_id": "3b4_code",
     "locked": false,
     "points": 2.5,
     "schema_version": 3,
     "solution": true
    }
   },
   "outputs": [],
   "source": [
    "def maximization_step(gaussians, data, expectation):\n",
    "    \"\"\"\n",
    "    Performs the maximization step of the EM.\n",
    "    Modifies the gaussians by updating their mus and sigmas.\n",
    "    \n",
    "    Args:\n",
    "        gaussians (list): A list of NormPDF objects.\n",
    "        data (array): The data vector.\n",
    "        expectation (array): The expectation values for data element\n",
    "            (as computed by expectation_step()).\n",
    "\n",
    "    Returns:\n",
    "        A numpy array of absolute changes in any mu or sigma, \n",
    "        that means the returned array has twice as many elements as\n",
    "        the supplied list of gaussians.\n",
    "    \"\"\"\n",
    "    changes = []\n",
    "    # YOUR CODE HERE\n",
    "    return np.array(changes)"
   ]
  },
  {
   "cell_type": "markdown",
   "metadata": {
    "deletable": false,
    "editable": false,
    "nbgrader": {
     "cell_type": "markdown",
     "checksum": "1ba65c711e6d7fbe7f85285a51fa9635",
     "grade": false,
     "grade_id": "3b5",
     "locked": true,
     "schema_version": 3,
     "solution": false
    }
   },
   "source": [
    "**5) Perform the complete EM and plot your results:**\n",
    "\n",
    "Initialize three normal distributions whose parameters will be changed iteratively by the EM to converge close to the original distributions.\n",
    "\n",
    "Build a loop around the iterative procedure of expectation and maximization which stops when the changes in all $\\mu_j$ and $\\sigma_j$ are sufficiently small enough.\n",
    "\n",
    "Plot your results after each step and mark which data points belong to which normal distribution. If you don't get it to work, just plot your final solution.\n",
    "\n",
    "*Hint:* Remember to load the data and initialize the EM before the loop.\n",
    "\n",
    "*Hint:* A function `plot_intermediate_result` to plot your result after each step is already defined in the next cell. Take a look at what arguments it takes and try to use it in your loop.\n",
    "\n",
    "*Hint:* To plot your final result the first three images and corresponding code examples on the tutorial of [`plt.plot(...)`](http://matplotlib.org/users/pyplot_tutorial.html) should help you.\n",
    "\n",
    "*Optional:* Run the code multiple times. If your results are changing, use `np.random.seed(2)` in the beginning of the cell to get consistent results (any other integer will work as well, but 2 has some good results for the example solutions)."
   ]
  },
  {
   "cell_type": "code",
   "execution_count": null,
   "metadata": {
    "deletable": false,
    "nbgrader": {
     "cell_type": "code",
     "checksum": "ba9f8e778675b911374922fac2ac48ee",
     "grade": true,
     "grade_id": "3b5_code",
     "locked": false,
     "points": 1,
     "schema_version": 3,
     "solution": true
    }
   },
   "outputs": [],
   "source": [
    "%matplotlib notebook\n",
    "import time\n",
    "import itertools\n",
    "\n",
    "import numpy as np\n",
    "import matplotlib.pyplot as plt\n",
    "# Sets the random seed to a fix value to make results consistent\n",
    "np.random.seed(2)\n",
    "\n",
    "colors = itertools.cycle(['r', 'g', 'b', 'c', 'm', 'y', 'k'])\n",
    "figure, axis = plt.subplots(1)\n",
    "axis.set_xlim(-5, 5)\n",
    "axis.set_ylim(-0.2, 4)\n",
    "axis.set_title('Intermediate Results')\n",
    "plt.figure('Final Result')\n",
    "\n",
    "def plot_intermediate_result(gaussians, data, mapping):\n",
    "    \"\"\"\n",
    "    Gets a list of gaussians and data input. The mapping\n",
    "    parameter is a list of indices of gaussians. Each value\n",
    "    corresponds to the data value at the same position and \n",
    "    maps this data value to the proper gaussian.\n",
    "    \"\"\"\n",
    "    x = np.linspace(-5, 5, 100)\n",
    "    if len(axis.lines):\n",
    "        for j, N in enumerate(gaussians):\n",
    "            axis.lines[j * 2].set_xdata(x)\n",
    "            axis.lines[j * 2].set_ydata(N(x))\n",
    "            axis.lines[j * 2 + 1].set_xdata(data[mapping == j])\n",
    "            axis.lines[j * 2 + 1].set_ydata([0] * len(data[mapping == j]))\n",
    "    else:\n",
    "        for j, N in enumerate(gaussians):\n",
    "            axis.plot(x, N(x), data[mapping == j], [0] * len(data[mapping == j]), 'x', color=next(colors), markersize=5)\n",
    "    figure.canvas.draw()\n",
    "    time.sleep(0.5)\n",
    "\n",
    "    \n",
    "# Perform the initialization.\n",
    "data = load_data('em_normdistdata.txt')\n",
    "gaussians = initialize_EM(data, 3)\n",
    "\n",
    "# Loop until the changes are small enough.\n",
    "eps = 0.05\n",
    "changes = [float('inf')] * 2\n",
    "while max(changes) > eps:\n",
    "    # Iteratively apply the expectation step, followed by the maximization step.\n",
    "    # YOUR CODE HERE\n",
    "\n",
    "    # Optional: Calculate the parameters to update the plot and call the function to do it.\n",
    "    plot_intermediate_result(gaussians, data, np.argmax(expectation, 1))\n",
    "\n",
    "\n",
    "# Plot your final result and print the final parameters.\n",
    "# YOUR CODE HERE"
   ]
  }
 ],
 "metadata": {
  "kernelspec": {
   "display_name": "Python 3.7.6 64-bit ('base': conda)",
   "language": "python",
   "name": "python37664bitbaseconda475831754d4f421c8b9b78a005f24ea9"
  },
  "language_info": {
   "codemirror_mode": {
    "name": "ipython",
    "version": 3
   },
   "file_extension": ".py",
   "mimetype": "text/x-python",
   "name": "python",
   "nbconvert_exporter": "python",
   "pygments_lexer": "ipython3",
   "version": "3.7.6-final"
  }
 },
 "nbformat": 4,
 "nbformat_minor": 1
}
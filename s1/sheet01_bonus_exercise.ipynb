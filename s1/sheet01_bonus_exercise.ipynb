{
 "cells": [
  {
   "cell_type": "markdown",
   "metadata": {},
   "source": [
    "### Sheet01 Bonus Exercise\n"
   ]
  },
  {
   "cell_type": "markdown",
   "metadata": {},
   "source": [
    "## Bonus exercise for further understanding:\n",
    "Again, perform the candidate elimination algorithm on this old data set from Earl and Fran:\n",
    "\n",
    "| Sample No. | driving distance | ticket price | rollercoasters | dinosaurs | go again? |\n",
    "|------------|------------------|--------------|----------------|-----------|-----------|\n",
    "| 1          | far              | expensive    | none           | yes       | no       |\n",
    "| 2          | short            | expensive    | none           | no        | no       |\n",
    "| 3          | short            | cheap        | many           | yes       | yes        |\n",
    "| 4          | far              | cheap        | none           | yes       | no        |\n",
    "| 5          | far              | cheap        | many           | no        | yes       |\n",
    "| 6          | short            | expensive    | many           | yes       | yes       |"
   ]
  },
  {
   "cell_type": "code",
   "execution_count": null,
   "metadata": {},
   "outputs": [],
   "source": []
  }
 ],
 "metadata": {
  "kernelspec": {
   "display_name": "Python 3",
   "language": "python",
   "name": "python3"
  },
  "language_info": {
   "codemirror_mode": {
    "name": "ipython",
    "version": 3
   },
   "file_extension": ".py",
   "mimetype": "text/x-python",
   "name": "python",
   "nbconvert_exporter": "python",
   "pygments_lexer": "ipython3",
   "version": "3.6.5"
  }
 },
 "nbformat": 4,
 "nbformat_minor": 2
}

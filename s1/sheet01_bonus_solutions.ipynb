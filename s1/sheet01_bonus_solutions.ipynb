{
 "cells": [
  {
   "cell_type": "markdown",
   "metadata": {},
   "source": [
    "# Sheet01 Bonus Solutions"
   ]
  },
  {
   "cell_type": "markdown",
   "metadata": {},
   "source": [
    "## Bonus exercise for further understanding:\n",
    "Again, perform the candidate elimination algorithm on this old data set from Earl and Fran:\n",
    "\n",
    "| Sample No. | driving distance | ticket price | rollercoasters | dinosaurs | go again? |\n",
    "|------------|------------------|--------------|----------------|-----------|-----------|\n",
    "| 1          | far              | expensive    | none           | yes       | no       |\n",
    "| 2          | short            | expensive    | none           | no        | no       |\n",
    "| 3          | short            | cheap        | many           | yes       | yes        |\n",
    "| 4          | far              | cheap        | none           | yes       | no        |\n",
    "| 5          | far              | cheap        | many           | no        | yes       |\n",
    "| 6          | short            | expensive    | many           | yes       | yes       |"
   ]
  },
  {
   "cell_type": "markdown",
   "metadata": {},
   "source": [
    "# Solution:\n",
    "\n",
    "$G_0 = \\{<?, \\,?, \\,?, \\,?>\\}$\n",
    "\n",
    "$S_0 = \\{<\\emptyset, \\,\\emptyset, \\,\\emptyset, \\,\\emptyset>\\}$\n",
    "\n",
    "#### Insert sample 1: (short, expensive, none, no) = no\n",
    "\n",
    "$G_1 = \\{<short, \\,?, \\,?, \\,?>,<?, \\,cheap, \\,?, \\,?>,<?, \\,?, \\,many, \\,?>,<?, \\,?, \\,?, \\,no>\\}$\n",
    "\n",
    "$S_1 = \\{<\\emptyset, \\,\\emptyset, \\,\\emptyset, \\,\\emptyset>\\}$\n",
    "\n",
    "\n",
    "#### Insert sample 2: (short, expensive, no, no) = no\n",
    "\n",
    "$G_2 = \\{<?, \\,cheap, \\,?, \\,?>, <?, \\,?, \\,many, \\,?>\\}$\n",
    "\n",
    "$S_2 = \\{<\\emptyset, \\,\\emptyset, \\,\\emptyset, \\,\\emptyset>\\}$\n",
    "\n",
    "\n",
    "#### Insert sample 3: (short, cheap, many, yes) = yes\n",
    "\n",
    "$G_3 = \\{<?, \\,cheap, \\,?, \\,?>, <?, \\,?, \\,many, \\,?>\\}$\n",
    "\n",
    "$S_3 = \\{<\\,\\textrm{short}, \\,\\textrm{cheap}, \\,\\textrm{many}, \\,\\textrm{yes}>\\}$\n",
    "\n",
    "\n",
    "#### Insert sample 4: (far, cheap, none, yes) = no\n",
    "\n",
    "$G_4 = \\{<?, \\,?, \\,\\textrm{many}, \\,?>\\}$\n",
    "\n",
    "$S_4 = \\{<\\,\\textrm{short}, \\,\\textrm{cheap}, \\,\\textrm{many}, \\,\\textrm{yes}>\\}$\n",
    "\n",
    "\n",
    "#### Insert sample 5: (far, cheap, many, no) = yes\n",
    "\n",
    "$G_5 = \\{<?, \\,?, \\,\\textrm{many}, \\,?>\\}$\n",
    "\n",
    "$S_5 = \\{<?, \\,\\textrm{cheap}, \\,\\textrm{many}, \\,?>\\}$\n",
    "\n",
    "\n",
    "#### Insert sample 6: (short, expensive, many, yes) = yes\n",
    "\n",
    "$G_6 = \\{<?, \\,?, \\,\\textrm{many}, \\,?>\\}$\n",
    "\n",
    "$S_6 = \\{<?, \\,?, \\,\\textrm{many}, \\,?>\\}$"
   ]
  }
 ],
 "metadata": {
  "kernelspec": {
   "display_name": "Python 3",
   "language": "python",
   "name": "python3"
  },
  "language_info": {
   "codemirror_mode": {
    "name": "ipython",
    "version": 3
   },
   "file_extension": ".py",
   "mimetype": "text/x-python",
   "name": "python",
   "nbconvert_exporter": "python",
   "pygments_lexer": "ipython3",
   "version": "3.6.5"
  }
 },
 "nbformat": 4,
 "nbformat_minor": 2
}
